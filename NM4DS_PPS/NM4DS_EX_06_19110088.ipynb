{
 "cells": [
  {
   "cell_type": "code",
   "execution_count": 2,
   "id": "c48c14e0",
   "metadata": {},
   "outputs": [],
   "source": [
    "import pandas as pd\n",
    "import numpy as np\n",
    "import matplotlib.pyplot as plt"
   ]
  },
  {
   "cell_type": "code",
   "execution_count": 3,
   "id": "56fd793d",
   "metadata": {},
   "outputs": [],
   "source": [
    "df = pd.read_csv('data_sample.csv')\n",
    "life = df.loc[:,df.columns.str.contains('^life|^c')]\n",
    "life_afica_europe = life[life.continent.isin(['Africa', 'Europe'])]\n",
    "df_data = life_afica_europe.drop(columns = ['continent', 'country'])\n",
    "df_data_scaled = (df_data - df_data.mean()) / df_data.std()\n",
    "X=np.array(df_data_scaled)"
   ]
  },
  {
   "cell_type": "code",
   "execution_count": 4,
   "id": "d844244d",
   "metadata": {},
   "outputs": [
    {
     "name": "stderr",
     "output_type": "stream",
     "text": [
      "C:\\ProgramData\\Anaconda3\\lib\\site-packages\\sklearn\\cluster\\_kmeans.py:881: UserWarning: KMeans is known to have a memory leak on Windows with MKL, when there are less chunks than available threads. You can avoid it by setting the environment variable OMP_NUM_THREADS=1.\n",
      "  warnings.warn(\n"
     ]
    },
    {
     "data": {
      "image/png": "[encoded data removed]",
      "text/plain": [
       "<Figure size 432x288 with 1 Axes>"
      ]
     },
     "metadata": {
      "needs_background": "light"
     },
     "output_type": "display_data"
    }
   ],
   "source": [
    "from sklearn.cluster import KMeans \n",
    "\n",
    "sum_of_squared_distances = []\n",
    "K = range(1,15)\n",
    "for k in K:\n",
    "    km = KMeans(n_clusters=k)\n",
    "    km = km.fit(X)\n",
    "    sum_of_squared_distances.append(km.inertia_) # WCV \n",
    "# Plot\n",
    "plt.plot(K, sum_of_squared_distances, 'bx-')\n",
    "plt.xlabel('k')\n",
    "plt.ylabel('Sum_of_squared_distances')\n",
    "plt.title('Elbow Method For Optimal k')\n",
    "plt.show()"
   ]
  },
  {
   "cell_type": "code",
   "execution_count": 5,
   "id": "79d74086",
   "metadata": {},
   "outputs": [],
   "source": [
    "#Chọn K=3"
   ]
  },
  {
   "cell_type": "code",
   "execution_count": 6,
   "id": "32870516",
   "metadata": {},
   "outputs": [
    {
     "data": {
      "image/png": "[encoded data removed]",
      "text/plain": [
       "<Figure size 432x288 with 1 Axes>"
      ]
     },
     "metadata": {
      "needs_background": "light"
     },
     "output_type": "display_data"
    }
   ],
   "source": [
    "#1 - Kmeans\n",
    "def kmeans_display(X, label):\n",
    "    K = np.amax(label) + 1\n",
    "    X0 = X[label == 0, :]\n",
    "    X1 = X[label == 1, :]\n",
    "    X2 = X[label == 2, :]\n",
    "    \n",
    "    plt.plot(X0[:, 0], X0[:, 1], 'b^', markersize = 4, alpha = .8)\n",
    "    plt.plot(X1[:, 0], X1[:, 1], 'go', markersize = 4, alpha = .8)\n",
    "    plt.plot(X2[:, 0], X2[:, 1], 'rs', markersize = 4, alpha = .8)\n",
    "\n",
    "    plt.axis('equal')\n",
    "    plt.plot()\n",
    "    plt.show()\n",
    "from sklearn.cluster import KMeans\n",
    "kmeans = KMeans(n_clusters=3, random_state=0).fit(X)\n",
    "kmeans_display(X, kmeans.labels_)\n"
   ]
  },
  {
   "cell_type": "code",
   "execution_count": 7,
   "id": "099651f3",
   "metadata": {},
   "outputs": [
    {
     "data": {
      "text/plain": [
       "[<matplotlib.lines.Line2D at 0x12d8f33b0a0>]"
      ]
     },
     "execution_count": 7,
     "metadata": {},
     "output_type": "execute_result"
    },
    {
     "data": {
      "image/png": "[encoded data removed]",
      "text/plain": [
       "<Figure size 432x288 with 1 Axes>"
      ]
     },
     "metadata": {
      "needs_background": "light"
     },
     "output_type": "display_data"
    }
   ],
   "source": [
    "#2 - SVD\n",
    "MTm=np.dot(df_data_scaled.T,df_data_scaled)\n",
    "eig_values, eig_vector=np.linalg.eig(MTm)\n",
    "S = np.diag(np.power(eig_values, 0.5))\n",
    "sqrt_s=np.linalg.inv(S)\n",
    "U=np.dot((np.dot(df_data_scaled,eig_vector)),sqrt_s)\n",
    "#Chon K\n",
    "sum_eig_values = np.sum(eig_values)\n",
    "explained_variance = eig_values/ sum_eig_values\n",
    "cumsum = np.cumsum(explained_variance)\n",
    "import matplotlib.pyplot as plt\n",
    "plt.plot(np.arange(1, len(explained_variance) + 1, 1) , cumsum)\n"
   ]
  },
  {
   "cell_type": "code",
   "execution_count": 8,
   "id": "ef8f97fc",
   "metadata": {},
   "outputs": [],
   "source": [
    "#CHỌN K=3\n",
    "K=3"
   ]
  },
  {
   "cell_type": "code",
   "execution_count": 9,
   "id": "fe60b0ff",
   "metadata": {},
   "outputs": [
    {
     "data": {
      "text/html": [
       "<div>\n",
       "<style scoped>\n",
       "    .dataframe tbody tr th:only-of-type {\n",
       "        vertical-align: middle;\n",
       "    }\n",
       "\n",
       "    .dataframe tbody tr th {\n",
       "        vertical-align: top;\n",
       "    }\n",
       "\n",
       "    .dataframe thead th {\n",
       "        text-align: right;\n",
       "    }\n",
       "</style>\n",
       "<table border=\"1\" class=\"dataframe\">\n",
       "  <thead>\n",
       "    <tr style=\"text-align: right;\">\n",
       "      <th></th>\n",
       "      <th>SVD1</th>\n",
       "      <th>SVD2</th>\n",
       "      <th>SVD3</th>\n",
       "      <th>continent</th>\n",
       "    </tr>\n",
       "  </thead>\n",
       "  <tbody>\n",
       "    <tr>\n",
       "      <th>0</th>\n",
       "      <td>0.014940</td>\n",
       "      <td>-0.212346</td>\n",
       "      <td>-0.105692</td>\n",
       "      <td>Africa</td>\n",
       "    </tr>\n",
       "    <tr>\n",
       "      <th>1</th>\n",
       "      <td>-0.172656</td>\n",
       "      <td>0.046238</td>\n",
       "      <td>0.070696</td>\n",
       "      <td>Africa</td>\n",
       "    </tr>\n",
       "    <tr>\n",
       "      <th>2</th>\n",
       "      <td>-0.075906</td>\n",
       "      <td>-0.045773</td>\n",
       "      <td>-0.002210</td>\n",
       "      <td>Africa</td>\n",
       "    </tr>\n",
       "    <tr>\n",
       "      <th>3</th>\n",
       "      <td>-0.021360</td>\n",
       "      <td>0.189510</td>\n",
       "      <td>-0.245004</td>\n",
       "      <td>Africa</td>\n",
       "    </tr>\n",
       "    <tr>\n",
       "      <th>4</th>\n",
       "      <td>-0.111868</td>\n",
       "      <td>-0.052854</td>\n",
       "      <td>-0.043886</td>\n",
       "      <td>Africa</td>\n",
       "    </tr>\n",
       "    <tr>\n",
       "      <th>...</th>\n",
       "      <td>...</td>\n",
       "      <td>...</td>\n",
       "      <td>...</td>\n",
       "      <td>...</td>\n",
       "    </tr>\n",
       "    <tr>\n",
       "      <th>77</th>\n",
       "      <td>0.150337</td>\n",
       "      <td>-0.017090</td>\n",
       "      <td>-0.017145</td>\n",
       "      <td>Europe</td>\n",
       "    </tr>\n",
       "    <tr>\n",
       "      <th>78</th>\n",
       "      <td>0.167552</td>\n",
       "      <td>0.045535</td>\n",
       "      <td>0.058699</td>\n",
       "      <td>Europe</td>\n",
       "    </tr>\n",
       "    <tr>\n",
       "      <th>79</th>\n",
       "      <td>0.162142</td>\n",
       "      <td>0.011050</td>\n",
       "      <td>0.036203</td>\n",
       "      <td>Europe</td>\n",
       "    </tr>\n",
       "    <tr>\n",
       "      <th>80</th>\n",
       "      <td>0.020703</td>\n",
       "      <td>-0.163980</td>\n",
       "      <td>-0.034474</td>\n",
       "      <td>Europe</td>\n",
       "    </tr>\n",
       "    <tr>\n",
       "      <th>81</th>\n",
       "      <td>0.147351</td>\n",
       "      <td>0.030328</td>\n",
       "      <td>0.065519</td>\n",
       "      <td>Europe</td>\n",
       "    </tr>\n",
       "  </tbody>\n",
       "</table>\n",
       "<p>82 rows × 4 columns</p>\n",
       "</div>"
      ],
      "text/plain": [
       "        SVD1      SVD2      SVD3 continent\n",
       "0   0.014940 -0.212346 -0.105692    Africa\n",
       "1  -0.172656  0.046238  0.070696    Africa\n",
       "2  -0.075906 -0.045773 -0.002210    Africa\n",
       "3  -0.021360  0.189510 -0.245004    Africa\n",
       "4  -0.111868 -0.052854 -0.043886    Africa\n",
       "..       ...       ...       ...       ...\n",
       "77  0.150337 -0.017090 -0.017145    Europe\n",
       "78  0.167552  0.045535  0.058699    Europe\n",
       "79  0.162142  0.011050  0.036203    Europe\n",
       "80  0.020703 -0.163980 -0.034474    Europe\n",
       "81  0.147351  0.030328  0.065519    Europe\n",
       "\n",
       "[82 rows x 4 columns]"
      ]
     },
     "execution_count": 9,
     "metadata": {},
     "output_type": "execute_result"
    }
   ],
   "source": [
    "svd_df = pd.DataFrame(U[:, 0:K], columns = ['SVD1', 'SVD2','SVD3'])\n",
    "svd_df['continent'] = life_afica_europe['continent'].tolist()\n",
    "svd_df"
   ]
  },
  {
   "cell_type": "code",
   "execution_count": 10,
   "id": "c08565cd",
   "metadata": {},
   "outputs": [
    {
     "data": {
      "text/plain": [
       "<matplotlib.collections.PathCollection at 0x12d8f3d49d0>"
      ]
     },
     "execution_count": 10,
     "metadata": {},
     "output_type": "execute_result"
    },
    {
     "data": {
      "image/png": "[encoded data removed]",
      "text/plain": [
       "<Figure size 432x288 with 1 Axes>"
      ]
     },
     "metadata": {
      "needs_background": "light"
     },
     "output_type": "display_data"
    }
   ],
   "source": [
    "plt.scatter(x= svd_df.query('continent == \"Africa\"')['SVD1'],\n",
    "            y= svd_df.query('continent == \"Africa\"')['SVD2'],\n",
    "            c= svd_df.query('continent == \"Africa\"')['SVD3'], s = 50)"
   ]
  },
  {
   "cell_type": "code",
   "execution_count": 11,
   "id": "33c9819e",
   "metadata": {},
   "outputs": [
    {
     "data": {
      "text/plain": [
       "<matplotlib.collections.PathCollection at 0x12d8f43be20>"
      ]
     },
     "execution_count": 11,
     "metadata": {},
     "output_type": "execute_result"
    },
    {
     "data": {
      "image/png": "[encoded data removed]",
      "text/plain": [
       "<Figure size 432x288 with 1 Axes>"
      ]
     },
     "metadata": {
      "needs_background": "light"
     },
     "output_type": "display_data"
    }
   ],
   "source": [
    "plt.scatter(x= svd_df.query('continent == \"Europe\"')['SVD1'],\n",
    "            y= svd_df.query('continent == \"Europe\"')['SVD2'],\n",
    "            c= svd_df.query('continent == \"Europe\"')['SVD3'], s = 50)"
   ]
  },
  {
   "cell_type": "code",
   "execution_count": 12,
   "id": "c7638811",
   "metadata": {},
   "outputs": [
    {
     "data": {
      "text/plain": [
       "<matplotlib.collections.PathCollection at 0x12d8f471640>"
      ]
     },
     "execution_count": 12,
     "metadata": {},
     "output_type": "execute_result"
    },
    {
     "data": {
      "image/png": "[encoded data removed]",
      "text/plain": [
       "<Figure size 432x288 with 1 Axes>"
      ]
     },
     "metadata": {
      "needs_background": "light"
     },
     "output_type": "display_data"
    }
   ],
   "source": [
    "plt.scatter(x= svd_df.query('continent == \"Africa\"')['SVD1'],\n",
    "            y= svd_df.query('continent == \"Africa\"')['SVD2'],\n",
    "            c= svd_df.query('continent == \"Africa\"')['SVD3'], s = 50)\n",
    "plt.scatter(x= svd_df.query('continent == \"Europe\"')['SVD1'],\n",
    "            y= svd_df.query('continent == \"Europe\"')['SVD2'],\n",
    "            c= svd_df.query('continent == \"Europe\"')['SVD3'], s = 50)"
   ]
  },
  {
   "cell_type": "code",
   "execution_count": 13,
   "id": "d6458fbf",
   "metadata": {},
   "outputs": [
    {
     "data": {
      "image/png": "[encoded data removed]",
      "text/plain": [
       "<Figure size 432x288 with 1 Axes>"
      ]
     },
     "metadata": {
      "needs_background": "light"
     },
     "output_type": "display_data"
    }
   ],
   "source": [
    "new_df=svd_df.drop(columns = ['continent'])\n",
    "new_df=np.array(new_df)\n",
    "from sklearn.cluster import KMeans\n",
    "kmeans_svd = KMeans(n_clusters=3, random_state=0).fit(new_df)\n",
    "kmeans_display(new_df, kmeans_svd.labels_)"
   ]
  },
  {
   "cell_type": "code",
   "execution_count": 14,
   "id": "0d6ce8ab",
   "metadata": {},
   "outputs": [],
   "source": [
    "#Giả sử với K=2"
   ]
  },
  {
   "cell_type": "code",
   "execution_count": 15,
   "id": "1712332c",
   "metadata": {},
   "outputs": [
    {
     "data": {
      "text/plain": [
       "<matplotlib.collections.PathCollection at 0x12d8f494a00>"
      ]
     },
     "execution_count": 15,
     "metadata": {},
     "output_type": "execute_result"
    },
    {
     "data": {
      "image/png": "[encoded data removed]",
      "text/plain": [
       "<Figure size 432x288 with 1 Axes>"
      ]
     },
     "metadata": {
      "needs_background": "light"
     },
     "output_type": "display_data"
    }
   ],
   "source": [
    "svd_dfH = pd.DataFrame(U[:, 0:2], columns = ['SVD1', 'SVD2'])\n",
    "svd_dfH['continent'] = life_afica_europe['continent'].tolist()\n",
    "plt.scatter(x= svd_dfH.query('continent == \"Africa\"')['SVD1'],\n",
    "            y= svd_dfH.query('continent == \"Africa\"')['SVD2'])\n",
    "plt.scatter(x= svd_dfH.query('continent == \"Europe\"')['SVD1'],\n",
    "            y= svd_dfH.query('continent == \"Europe\"')['SVD2'])\n"
   ]
  },
  {
   "cell_type": "code",
   "execution_count": 16,
   "id": "c62326ea",
   "metadata": {},
   "outputs": [
    {
     "data": {
      "image/png": "[encoded data removed]",
      "text/plain": [
       "<Figure size 432x288 with 1 Axes>"
      ]
     },
     "metadata": {
      "needs_background": "light"
     },
     "output_type": "display_data"
    }
   ],
   "source": [
    "from sklearn.cluster import KMeans\n",
    "kmeansT = KMeans(n_clusters=2, random_state=0).fit(X)\n",
    "kmeans_display(X, kmeansT.labels_)"
   ]
  },
  {
   "cell_type": "code",
   "execution_count": 17,
   "id": "95fd9911",
   "metadata": {},
   "outputs": [
    {
     "data": {
      "text/plain": [
       "' scatter của SVD dễ nhìn hơn kmeans\\n    Phân cụm sau khi SVD giúp tính toán nhanh hơn, dữ liệu gọn gàng đơn giản hơn\\n'"
      ]
     },
     "execution_count": 17,
     "metadata": {},
     "output_type": "execute_result"
    }
   ],
   "source": [
    "# 3 - so sánh\n",
    "''' scatter của SVD dễ nhìn hơn kmeans\n",
    "    Phân cụm sau khi SVD giúp tính toán nhanh hơn, dữ liệu gọn gàng đơn giản hơn\n",
    "'''"
   ]
  },
  {
   "cell_type": "code",
   "execution_count": 18,
   "id": "fd906b54",
   "metadata": {},
   "outputs": [],
   "source": [
    "#4 - SVD\n",
    "\n",
    "def SVD(data):\n",
    "    MTm=np.dot(data.T,data)\n",
    "    r,V=np.linalg.eig(MTm)\n",
    "    S = np.diag(np.power(r, 0.5))\n",
    "    sqrt_s=np.linalg.inv(S)\n",
    "    U=np.dot((np.dot(data,V)),sqrt_s)\n",
    "    return U , np.diag(S) , V.T\n",
    "u,s,vh=SVD(df_data_scaled)\n",
    "u_svd, s_svd, v_svd = np.linalg.svd(df_data_scaled)"
   ]
  },
  {
   "cell_type": "code",
   "execution_count": 19,
   "id": "871f7a77",
   "metadata": {},
   "outputs": [
    {
     "name": "stdout",
     "output_type": "stream",
     "text": [
      "s\n",
      " [30.24364085  6.22029408  3.64162999  1.73218438  1.02337101  0.90383377\n",
      "  0.50601323  0.29280646  0.26630751  0.21192836  0.16923088  0.13317875]\n",
      "s_svd\n",
      " [30.24364085  6.22029408  3.64162999  1.73218438  1.02337101  0.90383377\n",
      "  0.50601323  0.29280646  0.26630751  0.21192836  0.16923088  0.13317875]\n"
     ]
    }
   ],
   "source": [
    "print('s\\n',s)\n",
    "print('s_svd\\n',s_svd)"
   ]
  },
  {
   "cell_type": "code",
   "execution_count": 20,
   "id": "a83302ed",
   "metadata": {},
   "outputs": [
    {
     "name": "stdout",
     "output_type": "stream",
     "text": [
      "vh\n",
      " [[ 2.87747601e-01  2.90290567e-01  2.91749398e-01  2.93099969e-01\n",
      "   2.93843445e-01  2.94697310e-01  2.94258619e-01  2.93101291e-01\n",
      "   2.85273510e-01  2.85079210e-01  2.78371286e-01  2.75823714e-01]\n",
      " [ 2.84067576e-01  2.73240893e-01  2.56380081e-01  2.32411293e-01\n",
      "   2.03499465e-01  1.54447664e-01  8.83406844e-02 -1.37828992e-03\n",
      "  -2.06472392e-01 -3.87744848e-01 -4.76758384e-01 -4.81198203e-01]\n",
      " [ 2.97433998e-01  2.41459696e-01  1.80719226e-01  1.05616410e-01\n",
      "  -1.04577870e-02 -1.42961241e-01 -2.79221008e-01 -3.87798383e-01\n",
      "  -5.47203193e-01 -1.22645040e-01  3.04023709e-01  3.91935164e-01]\n",
      " [-4.66654101e-01 -2.64099932e-01 -5.91160517e-02  1.14359552e-01\n",
      "   2.83277503e-01  3.10546024e-01  3.14069683e-01  2.03468186e-01\n",
      "  -4.73478873e-01 -3.02774335e-01  8.64048221e-02  2.36364088e-01]\n",
      " [ 5.06647389e-01  1.95660614e-02 -2.84126317e-01 -3.40282753e-01\n",
      "  -3.46398292e-01 -6.83480871e-02  3.33735724e-01  4.62407318e-01\n",
      "  -2.43552984e-01 -1.32909442e-01 -3.74956848e-02  1.34734092e-01]\n",
      " [ 5.88319278e-02 -2.28146983e-02 -3.18339073e-02 -6.65082445e-03\n",
      "   4.86362536e-02 -5.15829106e-03 -1.38608038e-01 -4.02536387e-02\n",
      "   5.00084431e-01 -6.41413269e-01 -2.17376686e-01  5.12823539e-01]\n",
      " [ 3.83211159e-01 -2.55298875e-01 -4.68186469e-01 -1.38137113e-01\n",
      "   3.25426007e-01  4.52588144e-01  6.69027609e-02 -4.70357887e-01\n",
      "   4.35180759e-02  9.13377798e-02  2.03973560e-02 -5.08739587e-02]\n",
      " [ 2.45810160e-01 -3.57236867e-01 -1.76702587e-01  2.56901044e-01\n",
      "   4.14362067e-01 -2.76680336e-01 -4.94059403e-01  4.53632413e-01\n",
      "  -6.25209825e-02  1.12366633e-02  7.14732735e-02 -8.64215281e-02]\n",
      " [-3.79343069e-02  1.83921383e-01 -9.99597515e-02 -1.06144726e-01\n",
      "  -2.01790593e-02  6.84639229e-02 -3.26460077e-02  5.08517229e-02\n",
      "   1.65222129e-01 -4.58296104e-01  7.17365940e-01 -4.27529570e-01]\n",
      " [ 2.15176506e-01 -5.77781656e-01  3.24184133e-01  2.25587029e-01\n",
      "  -8.64612616e-02 -3.62638495e-01  4.59477579e-01 -2.40866275e-01\n",
      "   9.48843111e-02 -1.17328209e-01  1.57857636e-01 -8.98674502e-02]\n",
      " [ 1.21628676e-01 -3.83008854e-01  4.02977587e-01 -4.10855767e-02\n",
      "  -4.20961983e-01  5.82035169e-01 -3.70604879e-01  1.33998328e-01\n",
      "  -2.28784338e-02 -1.41634245e-02  3.99811437e-02 -2.88400339e-02]\n",
      " [-1.77263384e-02  7.04677628e-02 -4.50949687e-01  7.55700759e-01\n",
      "  -4.54798288e-01  1.06665998e-01  1.75463272e-02 -3.58474760e-02\n",
      "   1.85634355e-02 -1.10945451e-02 -4.62965795e-04  9.35948214e-04]]\n",
      "v_svd\n",
      " [[ 2.87747601e-01  2.90290567e-01  2.91749398e-01  2.93099969e-01\n",
      "   2.93843445e-01  2.94697310e-01  2.94258619e-01  2.93101291e-01\n",
      "   2.85273510e-01  2.85079210e-01  2.78371286e-01  2.75823714e-01]\n",
      " [ 2.84067576e-01  2.73240893e-01  2.56380081e-01  2.32411293e-01\n",
      "   2.03499465e-01  1.54447664e-01  8.83406844e-02 -1.37828992e-03\n",
      "  -2.06472392e-01 -3.87744848e-01 -4.76758384e-01 -4.81198203e-01]\n",
      " [-2.97433998e-01 -2.41459696e-01 -1.80719226e-01 -1.05616410e-01\n",
      "   1.04577870e-02  1.42961241e-01  2.79221008e-01  3.87798383e-01\n",
      "   5.47203193e-01  1.22645040e-01 -3.04023709e-01 -3.91935164e-01]\n",
      " [ 4.66654101e-01  2.64099932e-01  5.91160517e-02 -1.14359552e-01\n",
      "  -2.83277503e-01 -3.10546024e-01 -3.14069683e-01 -2.03468186e-01\n",
      "   4.73478873e-01  3.02774335e-01 -8.64048221e-02 -2.36364088e-01]\n",
      " [ 5.06647389e-01  1.95660614e-02 -2.84126317e-01 -3.40282753e-01\n",
      "  -3.46398292e-01 -6.83480871e-02  3.33735724e-01  4.62407318e-01\n",
      "  -2.43552984e-01 -1.32909442e-01 -3.74956848e-02  1.34734092e-01]\n",
      " [-5.88319278e-02  2.28146983e-02  3.18339073e-02  6.65082445e-03\n",
      "  -4.86362536e-02  5.15829106e-03  1.38608038e-01  4.02536387e-02\n",
      "  -5.00084431e-01  6.41413269e-01  2.17376686e-01 -5.12823539e-01]\n",
      " [ 3.83211159e-01 -2.55298875e-01 -4.68186469e-01 -1.38137113e-01\n",
      "   3.25426007e-01  4.52588144e-01  6.69027609e-02 -4.70357887e-01\n",
      "   4.35180759e-02  9.13377798e-02  2.03973560e-02 -5.08739587e-02]\n",
      " [ 2.45810160e-01 -3.57236867e-01 -1.76702587e-01  2.56901044e-01\n",
      "   4.14362067e-01 -2.76680336e-01 -4.94059403e-01  4.53632413e-01\n",
      "  -6.25209825e-02  1.12366633e-02  7.14732735e-02 -8.64215281e-02]\n",
      " [ 3.79343069e-02 -1.83921383e-01  9.99597515e-02  1.06144726e-01\n",
      "   2.01790593e-02 -6.84639229e-02  3.26460077e-02 -5.08517229e-02\n",
      "  -1.65222129e-01  4.58296104e-01 -7.17365940e-01  4.27529570e-01]\n",
      " [ 2.15176506e-01 -5.77781656e-01  3.24184133e-01  2.25587029e-01\n",
      "  -8.64612616e-02 -3.62638495e-01  4.59477579e-01 -2.40866275e-01\n",
      "   9.48843111e-02 -1.17328209e-01  1.57857636e-01 -8.98674502e-02]\n",
      " [ 1.21628676e-01 -3.83008854e-01  4.02977587e-01 -4.10855767e-02\n",
      "  -4.20961983e-01  5.82035169e-01 -3.70604879e-01  1.33998328e-01\n",
      "  -2.28784338e-02 -1.41634245e-02  3.99811437e-02 -2.88400339e-02]\n",
      " [-1.77263384e-02  7.04677628e-02 -4.50949687e-01  7.55700759e-01\n",
      "  -4.54798288e-01  1.06665998e-01  1.75463272e-02 -3.58474760e-02\n",
      "   1.85634355e-02 -1.10945451e-02 -4.62965795e-04  9.35948214e-04]]\n"
     ]
    }
   ],
   "source": [
    "print('vh\\n',vh)\n",
    "print('v_svd\\n',v_svd)"
   ]
  },
  {
   "cell_type": "code",
   "execution_count": 21,
   "id": "60fea118",
   "metadata": {},
   "outputs": [
    {
     "name": "stdout",
     "output_type": "stream",
     "text": [
      "u\n",
      " [[ 1.49395509e-02 -2.12346114e-01 -1.05691861e-01  1.06540468e-01\n",
      "   1.12268351e-01  3.83373526e-02 -8.35888711e-02  1.78008844e-01\n",
      "   1.09193588e-01 -1.25736058e-01  8.79075225e-02  3.78661164e-02]\n",
      " [-1.72655943e-01  4.62382097e-02  7.06964594e-02 -3.24265193e-02\n",
      "  -1.37957303e-01  7.56182365e-03  1.66155086e-01 -1.35582686e-01\n",
      "  -2.24616725e-02  4.39755084e-02  1.11850087e-02  5.25414469e-02]\n",
      " [-7.59062346e-02 -4.57733374e-02 -2.21010927e-03  8.31597393e-05\n",
      "  -4.21594381e-02  2.38234335e-02  6.36454946e-02 -5.21934389e-02\n",
      "  -1.75842592e-01 -7.10521677e-03 -1.27880274e-03  6.25100281e-02]\n",
      " [-2.13601125e-02  1.89509948e-01 -2.45004285e-01  1.70685949e-02\n",
      "   1.56840419e-01  2.70038072e-01 -6.90952480e-02 -7.31492217e-02\n",
      "  -1.64518083e-01 -1.66981962e-01  1.23130555e-01 -6.96356685e-02]\n",
      " [-1.11867556e-01 -5.28541438e-02 -4.38857203e-02  9.91281921e-02\n",
      "  -6.54086180e-02  1.63968871e-02  6.26797327e-02 -6.01823412e-02\n",
      "   1.62218042e-02  2.75319546e-02  2.40679346e-03  5.07847438e-02]\n",
      " [-1.10892072e-01  8.29466668e-02  1.02377675e-01  2.43091960e-02\n",
      "   9.61290809e-02  1.97536119e-02 -9.47546939e-02 -6.42384264e-02\n",
      "   7.07567074e-02  9.55344063e-02  7.82854298e-02  2.26958795e-01]\n",
      " [-8.05451311e-02  3.07248832e-02 -1.13272806e-01 -4.61119282e-04\n",
      "   9.55828612e-02 -3.67227004e-02 -9.39033869e-02  4.44656629e-02\n",
      "   6.69478152e-02  1.64454164e-01 -1.36348724e-01  5.80236358e-04]\n",
      " [-1.18213945e-01  8.25081638e-02 -9.69223772e-02 -7.08177054e-03\n",
      "   5.73119474e-02  2.48575244e-02 -3.05795377e-02 -2.73515228e-02\n",
      "   4.56889201e-02 -1.24847689e-01  2.83191206e-01  1.11104791e-01]\n",
      " [-9.33246679e-02  1.40824114e-02 -2.24831822e-02 -6.00314189e-02\n",
      "  -9.58527236e-03 -6.20592022e-02  1.79628735e-02  3.03480567e-02\n",
      "   1.07068995e-01  8.21489729e-02 -6.53494507e-02 -3.83644512e-03]\n",
      " [-4.48175215e-02 -1.43770447e-01  4.73342635e-02 -1.28692016e-02\n",
      "  -9.17671218e-03  5.34436806e-02  8.03039520e-02 -7.64266164e-03\n",
      "  -5.23485680e-02  9.56935618e-05 -4.83533256e-02 -9.43448086e-02]\n",
      " [-1.12777607e-01  1.36830676e-01  6.20171938e-02  5.22039543e-02\n",
      "  -1.03749216e-02  1.22605476e-01  1.78219474e-01 -1.10692703e-01\n",
      "   3.72866272e-01  4.98993209e-02  1.13577511e-01  7.83111131e-02]\n",
      " [-4.14775273e-02  7.98587832e-02 -6.85357423e-02  1.77524832e-01\n",
      "  -1.29636478e-01  1.26748052e-01  8.44386329e-02  1.95966945e-01\n",
      "  -4.13010781e-04  1.21399397e-01 -1.70303472e-01  1.18218701e-01]\n",
      " [-7.72369571e-02  1.27901759e-01 -8.83148483e-02  1.10084328e-01\n",
      "   5.40686187e-02  5.63619136e-02  5.88365429e-02 -4.12905609e-02\n",
      "   1.42937866e-01  7.80209595e-02  1.05115473e-01  6.51790834e-02]\n",
      " [-9.73356119e-02 -6.84822220e-02 -1.77686574e-03  1.60282818e-02\n",
      "  -5.43228411e-02 -2.73900977e-02  4.74716782e-02 -9.02490831e-02\n",
      "  -5.31924115e-02  7.60869288e-02 -9.99264071e-02  5.05431525e-02]\n",
      " [-1.08078837e-02 -2.23090350e-01  1.39528760e-02 -1.72129512e-02\n",
      "  -2.10820495e-02  2.78228319e-02 -1.21615227e-01  1.43130096e-01\n",
      "  -2.09237951e-02 -9.19151689e-03  1.49449989e-02  6.80285483e-02]\n",
      " [-1.28190410e-01 -3.99384746e-02  7.30062552e-02 -1.03124949e-01\n",
      "  -1.78893827e-02  7.72525700e-02 -2.40439032e-02  1.72051355e-02\n",
      "  -5.39681131e-03  8.48884112e-03 -3.37594868e-02 -4.79884406e-03]\n",
      " [-1.01908126e-01 -9.67322703e-02  1.36360271e-01 -8.60209447e-02\n",
      "  -2.24756809e-01  7.27985124e-02  9.41071498e-02  2.41057390e-01\n",
      "  -2.19591633e-01 -2.49456110e-01  7.29396302e-02 -5.90212018e-02]\n",
      " [-1.14548977e-01 -3.02454513e-02  7.43658686e-02  2.57331658e-03\n",
      "  -1.99021755e-01  5.08518910e-02 -3.44090081e-02  1.17905392e-01\n",
      "  -1.15964900e-01  7.72289431e-02  1.67028661e-01  7.61319077e-02]\n",
      " [-5.30537610e-02 -1.03424972e-01 -2.32232017e-01  5.41475233e-02\n",
      "   1.50098337e-01 -9.80897900e-02  1.28611025e-01  1.50403168e-01\n",
      "   4.04901880e-02 -2.35053843e-01 -1.17562606e-01  1.43338206e-01]\n",
      " [-1.16002519e-01 -2.35125141e-01 -2.32055074e-03 -4.39968811e-02\n",
      "   9.88298629e-02  8.97567728e-03 -9.59927352e-02 -6.93754484e-02\n",
      "   9.65186066e-02 -2.94551355e-02  2.68676090e-02 -3.47659672e-02]\n",
      " [-4.44530812e-02 -4.65006898e-02  1.17149835e-02 -7.06076066e-02\n",
      "   1.60472626e-02  5.48445586e-03  4.66046692e-03  1.84228232e-02\n",
      "  -6.87945447e-02 -1.12077564e-02 -2.74381663e-02 -3.39676829e-02]\n",
      " [-1.26461239e-01 -1.33354314e-01  1.01498426e-01 -1.32464342e-01\n",
      "   3.67113740e-02  6.37527988e-02 -8.10539988e-03  2.40790118e-02\n",
      "  -2.75626089e-02 -1.75690106e-02 -1.91405331e-02 -3.60119199e-02]\n",
      " [-1.61723535e-01 -2.05387534e-02  1.07692631e-01 -2.02928868e-01\n",
      "  -2.22019082e-02 -1.23486856e-02 -4.85646853e-02  5.24633474e-02\n",
      "   8.10877173e-02  8.91014784e-02 -1.09978451e-01 -2.55657323e-02]\n",
      " [-3.93926963e-02  7.72319016e-02 -1.64846652e-01  1.12681036e-01\n",
      "   8.38636358e-03  1.19631642e-01  5.78298539e-02 -1.24108800e-01\n",
      "  -2.32764960e-01  1.72059756e-01 -5.64639172e-02  2.30093665e-02]\n",
      " [-6.27221944e-02  1.43635164e-01 -2.50770066e-01 -2.46834706e-01\n",
      "  -1.09249148e-01 -2.54304011e-01 -1.71456126e-01 -5.57981545e-02\n",
      "  -2.21360908e-01  8.24110028e-02  7.59708680e-02 -8.04914269e-02]\n",
      " [-1.31598788e-01  1.23454628e-01  1.29012458e-01  3.37577679e-03\n",
      "   1.30271286e-01 -4.05792728e-02 -7.61475758e-02  9.24350223e-02\n",
      "   5.86487856e-02 -7.26066363e-02  5.10988242e-02 -4.75997401e-02]\n",
      " [ 1.71292359e-02 -2.57856572e-01 -1.15503179e-01  6.73075123e-02\n",
      "   1.95900588e-01 -2.84728314e-02 -1.53144580e-01 -8.68533036e-02\n",
      "   1.69282468e-02 -1.30543004e-02  1.22807802e-01  6.77728104e-02]\n",
      " [-8.57379294e-02 -1.07706360e-01  7.58832034e-02 -7.14742930e-03\n",
      "  -6.02706527e-02  3.08131457e-02  1.11802144e-01 -2.32952326e-01\n",
      "  -5.56236648e-02  1.43861384e-01 -1.45820833e-01  5.75167507e-02]\n",
      " [-1.23848041e-01  2.50308841e-02 -1.28883098e-02 -1.41560514e-01\n",
      "   4.84992841e-02  1.14723917e-01  4.10107192e-02 -6.72294308e-02\n",
      "  -2.36198374e-01 -9.11400746e-02 -3.69840794e-02 -2.11163508e-01]\n",
      " [-1.24465138e-01 -9.01185070e-02  7.84944421e-02 -8.38796351e-02\n",
      "   1.50997448e-02  9.19040594e-02 -8.29536233e-02  1.07060453e-02\n",
      "  -3.21053918e-02  2.27933995e-02 -4.47077390e-02  1.00302624e-02]\n",
      " [-4.52665818e-02 -1.36927554e-01  1.32961588e-02 -1.20329099e-02\n",
      "   5.97953442e-02  3.93852819e-02 -2.21012564e-02  7.28762039e-03\n",
      "  -6.57950717e-03  1.85606769e-02 -3.93591101e-02 -4.56641433e-03]\n",
      " [ 6.79709739e-02 -5.77320615e-02 -3.23470768e-02  9.44030207e-02\n",
      "  -1.46148992e-01 -2.59564254e-02 -3.46279601e-01 -2.77133269e-01\n",
      "   1.16157445e-01 -3.51091748e-01 -1.57066587e-01  1.46758237e-02]\n",
      " [ 1.96248265e-03 -2.01605564e-01 -5.09054929e-02  5.12235622e-02\n",
      "   8.21837574e-02  2.30723915e-02 -9.33783713e-02 -9.57113267e-03\n",
      "   1.83756868e-02  8.49192847e-02 -1.09940491e-01 -5.73774883e-03]\n",
      " [-1.50148247e-01  3.63574537e-02  1.10641880e-03 -7.09822717e-02\n",
      "  -2.14901539e-01 -2.51387423e-01  2.31102370e-01 -1.24054242e-01\n",
      "   1.28784901e-01  1.77072552e-02  1.60004857e-01  3.59653146e-03]\n",
      " [-3.20449338e-02  5.69715476e-02 -2.28851690e-01  1.57011452e-02\n",
      "  -8.88377579e-02 -7.95246729e-02 -2.18722062e-02 -9.07446273e-03\n",
      "  -4.27900484e-01 -7.61236738e-02 -6.04103480e-02  6.22685381e-02]\n",
      " [-1.15163575e-01 -8.77401991e-02  2.00007925e-01 -1.94982567e-01\n",
      "  -3.43774214e-02  5.56266557e-02 -7.67978321e-02  3.34936010e-03\n",
      "  -4.85999959e-02  1.86704520e-02 -6.59236772e-02 -7.74413588e-03]\n",
      " [-1.21805453e-01  4.36586749e-02  2.01422145e-02 -8.88346711e-02\n",
      "  -3.86342624e-02 -5.68551063e-02  8.13644829e-02 -1.89699131e-03\n",
      "   1.10307884e-01  4.42029800e-02  2.56929516e-03  3.90377517e-03]\n",
      " [ 8.31343692e-02 -1.32371973e-01 -1.08814285e-01  1.35934303e-01\n",
      "   6.60011641e-02 -1.88325459e-02  1.39624520e-01  4.07779054e-02\n",
      "   6.84486852e-02 -1.03504630e-02 -8.22276652e-02 -1.51312385e-01]\n",
      " [-1.40449660e-01  2.32662053e-01  3.89695600e-01  4.58293866e-01\n",
      "   3.60993872e-01 -4.30361035e-01 -1.34955562e-01 -9.39654975e-03\n",
      "  -1.94773272e-01 -4.48444186e-02 -2.89608849e-02 -4.43357227e-02]\n",
      " [ 5.32469519e-03 -4.85089811e-02 -2.77409706e-02  7.94533307e-02\n",
      "  -4.56411103e-02  9.31439506e-03  3.73725189e-02  2.09520179e-02\n",
      "   1.95699969e-02  1.24754065e-01  4.26344288e-02  1.04006570e-01]\n",
      " [-6.01238587e-02 -1.75153914e-01 -3.00983465e-02 -1.18485982e-02\n",
      "   9.34233166e-02  1.74237629e-02 -1.02278535e-01  1.09457598e-02\n",
      "   4.63509129e-02  1.76490884e-02  1.25419285e-02  6.44818240e-03]\n",
      " [-1.82856639e-01  3.49206695e-02  1.08486996e-01 -7.18232977e-02\n",
      "   4.50575118e-02 -2.59298048e-02 -5.50264637e-02  3.81967405e-02\n",
      "   6.96464144e-02  7.29698372e-03 -2.67186396e-02  1.47260802e-03]\n",
      " [-1.45219849e-01  3.08399634e-02  1.29007644e-01  1.05229228e-01\n",
      "   2.83364072e-02 -9.44454522e-02 -3.21628840e-02  1.71912290e-01\n",
      "  -9.98747651e-02 -1.49630869e-01  8.34362101e-03 -7.34291088e-02]\n",
      " [-2.78202564e-02  8.46442563e-02 -1.98672928e-01 -1.53595587e-01\n",
      "  -7.96829375e-02 -3.22889482e-01 -9.94657093e-02  2.08458906e-01\n",
      "   2.11037032e-01 -3.73451832e-03 -8.73123999e-02  4.25903088e-02]\n",
      " [-7.97577224e-02 -8.97931637e-02  2.86641321e-02 -4.04048046e-02\n",
      "   9.52023631e-02  2.85309379e-02  1.16291403e-01 -1.23843827e-01\n",
      "  -5.62749364e-02  2.80952577e-02 -6.34302706e-02  2.16663771e-02]\n",
      " [-7.11863270e-02  1.52941835e-01 -2.96603693e-01 -1.91449730e-01\n",
      "   1.11814644e-02 -3.50782031e-01  5.16604693e-02  6.07023520e-02\n",
      "   1.69179448e-01 -4.73981842e-02 -2.17919690e-02 -1.82786222e-01]\n",
      " [-8.31268545e-02  7.30620936e-02  3.86963232e-02  1.72100533e-02\n",
      "   5.63335981e-02  1.38559106e-01  5.29045312e-02 -1.21504281e-01\n",
      "   9.00150265e-02 -1.28804100e-01  1.27655726e-01  2.64801285e-03]\n",
      " [-5.11882429e-02 -6.76992011e-02 -9.56818646e-02  8.48104404e-02\n",
      "  -2.01321675e-03 -4.80698081e-02  9.60639051e-02 -9.12951120e-02\n",
      "  -1.63535419e-03  4.01002895e-02  7.44422040e-03  4.70919833e-02]\n",
      " [ 2.99765339e-02 -2.27189994e-01 -1.25109522e-01  8.95590492e-02\n",
      "   1.42630476e-01 -1.93989137e-02  2.74835805e-02 -1.49491710e-01\n",
      "   7.68334298e-02  1.12374456e-02  9.07291323e-04 -1.27612998e-01]\n",
      " [-8.53524568e-02  1.25075443e-01  5.16413614e-02  1.64828714e-01\n",
      "  -1.22420459e-01  2.87064645e-01  9.94666575e-03  4.00633695e-01\n",
      "   1.69324375e-01 -9.18615247e-02 -1.09930401e-01 -1.73079512e-01]\n",
      " [-9.84850594e-02  2.68530474e-01 -1.75694409e-02  1.23380812e-01\n",
      "   2.33113049e-02  1.52158447e-01  9.71141903e-02 -1.28200453e-01\n",
      "   4.84738929e-02  3.03029350e-02 -3.75661819e-02 -8.26618832e-02]\n",
      " [-3.78488186e-02  3.06132687e-01 -2.61977790e-01 -3.50884498e-02\n",
      "   1.42800403e-01  3.12798478e-01 -2.41205502e-01  4.71080812e-02\n",
      "  -1.37113444e-02  6.72460311e-02 -6.48897836e-02  7.14161931e-02]\n",
      " [ 9.90329569e-02 -4.37461723e-02 -1.66129150e-02  1.97513927e-01\n",
      "  -1.58466188e-01 -1.80686177e-02 -2.20955156e-01  8.31122642e-02\n",
      "   2.15958188e-02  3.36726049e-01  3.06747067e-01 -1.59702664e-01]\n",
      " [ 1.40033873e-01 -5.96907283e-03  4.76936019e-02 -7.30622520e-02\n",
      "   6.56929308e-02  1.31366448e-03 -2.26074395e-02  1.16936288e-01\n",
      "  -3.08565270e-03  1.19141478e-01  2.75447942e-01 -4.12246790e-02]\n",
      " [ 1.44943306e-01  1.72997756e-02  4.52601014e-02 -9.51086025e-02\n",
      "   7.77844294e-02  6.02126237e-03 -1.94908142e-02  3.52477490e-02\n",
      "  -2.84259920e-02 -2.68571349e-02  5.17278994e-02  9.60087602e-03]\n",
      " [ 9.29094281e-02 -4.80074963e-02 -6.98452374e-02  2.02994592e-01\n",
      "  -1.64039959e-01 -4.50678190e-02  1.02926862e-01 -1.48003382e-01\n",
      "  -6.06684624e-03 -6.81491497e-02  6.76610568e-02  8.31846716e-02]\n",
      " [ 1.10996684e-01  8.72246566e-02  3.07868139e-02  1.06056625e-01\n",
      "  -2.86986861e-01  2.68068641e-02 -3.26323948e-01 -1.87429081e-01\n",
      "   1.38937418e-01 -1.01559411e-01 -2.00563473e-01  1.37385613e-02]\n",
      " [ 1.13286001e-01  1.88475085e-02  3.53830489e-02  2.75764729e-02\n",
      "  -1.45191263e-01 -1.15368373e-02 -1.74130993e-02  1.22305275e-02\n",
      "  -2.08366295e-03 -1.36453780e-01  1.15018149e-01  1.32222922e-02]\n",
      " [ 1.25829800e-01  5.94139763e-02  1.11405862e-01 -1.05326592e-01\n",
      "  -3.51378397e-02 -8.06559086e-03 -4.92759002e-02 -1.13323014e-02\n",
      "   5.13958812e-04 -5.31391998e-02 -3.97429870e-02  6.34555759e-02]\n",
      " [ 1.51579540e-01  7.98190840e-02  8.23795522e-02 -8.75327318e-02\n",
      "   4.87268861e-02  1.09719302e-02  1.23077074e-01 -5.12464973e-02\n",
      "   5.13423065e-03 -8.66871383e-02  8.50742311e-02  2.08335406e-02]\n",
      " [ 1.39263995e-01  1.89412734e-03  3.08529369e-02 -3.48217056e-02\n",
      "   1.12375233e-01 -1.88170890e-02  8.03830621e-02 -8.70147746e-02\n",
      "  -2.63839448e-03  1.71250649e-01 -7.98168735e-02  4.35653089e-04]\n",
      " [ 1.51303806e-01  5.55650967e-04  2.65542768e-02 -4.52700283e-02\n",
      "   4.62410172e-02  1.68185967e-03  9.49963595e-04  5.99276826e-02\n",
      "  -3.56122527e-02 -6.32681452e-03  8.98637462e-02  7.65975074e-03]\n",
      " [ 1.43107392e-01  1.31793292e-02  5.47906345e-02 -8.95991320e-02\n",
      "   6.03825958e-02 -8.52900740e-03 -5.31755703e-02 -5.62500678e-02\n",
      "   4.09924934e-02  5.35365820e-02  6.49045299e-02  4.21379866e-02]\n",
      " [ 1.46156612e-01  6.08867109e-03 -8.11463108e-03  6.45462884e-03\n",
      "   5.46192284e-02 -8.98562248e-03 -9.22505730e-03  7.60400109e-02\n",
      "  -7.11268513e-02 -3.07926967e-02 -5.62635050e-02 -8.19533545e-03]\n",
      " [ 1.07342698e-01  8.48829680e-02  1.05932239e-01 -1.28844671e-02\n",
      "  -1.13789851e-01 -4.42033850e-02  5.12679808e-02  9.63148873e-02\n",
      "  -1.39498044e-02 -4.72205409e-02  5.51887133e-03  2.02271633e-01]\n",
      " [ 1.70451854e-01  4.49210476e-02  6.50879703e-02 -1.12147718e-01\n",
      "   1.20926028e-01  5.58863159e-02  8.48665335e-02 -1.78986225e-01\n",
      "   8.59370339e-02 -4.24993864e-02  1.42951638e-02 -1.17639772e-01]\n",
      " [ 1.39349110e-01  2.55963565e-02  6.19009453e-02 -7.18329497e-02\n",
      "   9.53416600e-03  3.51824687e-02 -9.31756453e-02  4.89997366e-02\n",
      "   3.64926479e-02  4.71105588e-02 -2.67155636e-02  6.27713225e-02]\n",
      " [ 1.48372284e-01 -1.83173105e-02  9.00716494e-03 -8.62752292e-03\n",
      "   3.79054321e-02 -2.85221286e-02  2.30925036e-02  1.12138487e-01\n",
      "   8.31329816e-02  1.72065942e-02 -7.84005720e-02  1.12893215e-01]\n",
      " [ 1.16483317e-01 -5.60711024e-03 -1.24389878e-01  1.43667057e-01\n",
      "  -1.55857087e-02 -6.61847000e-02  3.12623316e-01  7.15647777e-02\n",
      "  -7.74944801e-02 -1.37506656e-01 -2.53041516e-02  5.22242399e-02]\n",
      " [ 1.62935688e-01  6.65759867e-02  6.22019104e-02 -1.23890839e-01\n",
      "   1.17436531e-01  9.69207283e-03  2.02120588e-02 -3.63184680e-02\n",
      "  -2.93008974e-02 -5.63667447e-02  4.64848762e-02  1.46451513e-01]\n",
      " [ 1.64505032e-01  6.65852706e-02  8.46333210e-02 -1.35557618e-01\n",
      "   7.32790841e-02  6.56422702e-03  1.26177469e-01 -8.99243745e-02\n",
      "  -3.48084509e-02 -2.03297255e-02 -8.84361755e-02  7.71490282e-02]\n",
      " [ 1.14427526e-01  4.22217008e-02  6.21317320e-02  8.58021587e-02\n",
      "  -1.73228331e-01 -3.86949586e-02 -1.27499031e-02 -5.10173497e-02\n",
      "   5.14372215e-03 -3.82106665e-02 -3.86766256e-01  8.27470941e-02]\n",
      " [ 1.16677045e-01 -5.30549895e-02 -4.06204072e-02  9.32847701e-02\n",
      "   2.54040172e-02 -1.20760036e-02  8.44751452e-02  1.61801618e-01\n",
      "   6.75790002e-04  2.05886121e-01 -1.40439805e-01 -1.76859398e-01]\n",
      " [ 9.78530986e-02  7.16063832e-02  5.32111155e-02  5.17788796e-02\n",
      "  -1.05695712e-01  1.14973533e-02  3.58928919e-02 -9.02859629e-02\n",
      "   4.24099404e-02  1.63570323e-03 -8.28109146e-03 -6.12946621e-01]\n",
      " [ 1.00306880e-01  1.03259539e-02 -1.65017547e-02  1.15579676e-01\n",
      "  -1.48040523e-01 -1.48249578e-02  6.20051460e-02  4.59293761e-02\n",
      "   2.30200304e-02 -1.35562103e-01  1.57659760e-01  1.18747596e-01]\n",
      " [ 1.18919594e-01  7.70869067e-02  8.82937898e-02 -3.07982743e-02\n",
      "  -1.58751049e-01 -3.40094528e-02 -1.68622541e-01  2.48097113e-03\n",
      "  -9.31290558e-02  2.13017428e-01  8.05183582e-02  1.52461566e-01]\n",
      " [ 1.26579370e-01  2.15635060e-02  8.56564090e-02 -8.73381675e-02\n",
      "  -2.20392790e-02  1.73275279e-02 -4.10403506e-02 -6.08933429e-02\n",
      "  -3.34462409e-03 -1.50959705e-01  1.50922110e-01 -1.66712237e-01]\n",
      " [ 1.50337453e-01 -1.70902107e-02 -1.71446444e-02  7.47531545e-02\n",
      "   9.37561196e-03 -1.50546527e-02  5.43266500e-02  4.51560468e-02\n",
      "  -1.05240678e-01  2.63671740e-01 -5.42840061e-03 -4.20771767e-02]\n",
      " [ 1.67551607e-01  4.55349703e-02  5.86986407e-02 -1.04181447e-01\n",
      "   7.11662457e-02 -1.49432893e-02  6.69385618e-02  9.18525551e-02\n",
      "  -4.74140225e-02  5.58019759e-02 -4.97735107e-02 -1.28272328e-02]\n",
      " [ 1.62142089e-01  1.10503307e-02  3.62028684e-02 -3.99479536e-02\n",
      "   1.01716671e-01  1.35124317e-03  1.07653938e-01  7.64776924e-02\n",
      "   1.43052828e-03 -9.17326713e-02  4.10183948e-02  9.05371541e-02]\n",
      " [ 2.07029034e-02 -1.63979807e-01 -3.44743395e-02  1.29762523e-01\n",
      "  -1.78646307e-01 -2.24855964e-02 -3.65892375e-02 -8.71214230e-02\n",
      "   2.67058880e-03 -2.03695647e-02  1.65616808e-01 -9.32780201e-02]\n",
      " [ 1.47350957e-01  3.03275049e-02  6.55187632e-02 -1.20688417e-01\n",
      "   7.94873845e-02  2.22987812e-02  8.99056730e-03  1.70430499e-02\n",
      "   5.21874255e-02 -2.28518377e-02 -1.62161457e-01 -4.88020194e-02]]\n"
     ]
    }
   ],
   "source": [
    "print('u\\n',u)"
   ]
  },
  {
   "cell_type": "code",
   "execution_count": 22,
   "id": "7a348d9d",
   "metadata": {},
   "outputs": [
    {
     "name": "stdout",
     "output_type": "stream",
     "text": [
      "u_svd\n",
      " [[ 1.49395509e-02 -2.12346114e-01 -1.05691861e-01  1.06540468e-01\n",
      "   1.12268351e-01  3.83373526e-02 -8.35888711e-02  1.78008844e-01\n",
      "   1.09193588e-01 -1.25736058e-01  8.79075225e-02  3.78661164e-02]\n",
      " [-1.72655943e-01  4.62382097e-02  7.06964594e-02 -3.24265193e-02\n",
      "  -1.37957303e-01  7.56182365e-03  1.66155086e-01 -1.35582686e-01\n",
      "  -2.24616725e-02  4.39755084e-02  1.11850087e-02  5.25414469e-02]\n",
      " [-7.59062346e-02 -4.57733374e-02 -2.21010927e-03  8.31597393e-05\n",
      "  -4.21594381e-02  2.38234335e-02  6.36454946e-02 -5.21934389e-02\n",
      "  -1.75842592e-01 -7.10521677e-03 -1.27880274e-03  6.25100281e-02]\n",
      " [-2.13601125e-02  1.89509948e-01 -2.45004285e-01  1.70685949e-02\n",
      "   1.56840419e-01  2.70038072e-01 -6.90952480e-02 -7.31492217e-02\n",
      "  -1.64518083e-01 -1.66981962e-01  1.23130555e-01 -6.96356685e-02]\n",
      " [-1.11867556e-01 -5.28541438e-02 -4.38857203e-02  9.91281921e-02\n",
      "  -6.54086180e-02  1.63968871e-02  6.26797327e-02 -6.01823412e-02\n",
      "   1.62218042e-02  2.75319546e-02  2.40679346e-03  5.07847438e-02]\n",
      " [-1.10892072e-01  8.29466668e-02  1.02377675e-01  2.43091960e-02\n",
      "   9.61290809e-02  1.97536119e-02 -9.47546939e-02 -6.42384264e-02\n",
      "   7.07567074e-02  9.55344063e-02  7.82854298e-02  2.26958795e-01]\n",
      " [-8.05451311e-02  3.07248832e-02 -1.13272806e-01 -4.61119282e-04\n",
      "   9.55828612e-02 -3.67227004e-02 -9.39033869e-02  4.44656629e-02\n",
      "   6.69478152e-02  1.64454164e-01 -1.36348724e-01  5.80236358e-04]\n",
      " [-1.18213945e-01  8.25081638e-02 -9.69223772e-02 -7.08177054e-03\n",
      "   5.73119474e-02  2.48575244e-02 -3.05795377e-02 -2.73515228e-02\n",
      "   4.56889201e-02 -1.24847689e-01  2.83191206e-01  1.11104791e-01]\n",
      " [-9.33246679e-02  1.40824114e-02 -2.24831822e-02 -6.00314189e-02\n",
      "  -9.58527236e-03 -6.20592022e-02  1.79628735e-02  3.03480567e-02\n",
      "   1.07068995e-01  8.21489729e-02 -6.53494507e-02 -3.83644512e-03]\n",
      " [-4.48175215e-02 -1.43770447e-01  4.73342635e-02 -1.28692016e-02\n",
      "  -9.17671218e-03  5.34436806e-02  8.03039520e-02 -7.64266164e-03\n",
      "  -5.23485680e-02  9.56935618e-05 -4.83533256e-02 -9.43448086e-02]\n",
      " [-1.12777607e-01  1.36830676e-01  6.20171938e-02  5.22039543e-02\n",
      "  -1.03749216e-02  1.22605476e-01  1.78219474e-01 -1.10692703e-01\n",
      "   3.72866272e-01  4.98993209e-02  1.13577511e-01  7.83111131e-02]\n",
      " [-4.14775273e-02  7.98587832e-02 -6.85357423e-02  1.77524832e-01\n",
      "  -1.29636478e-01  1.26748052e-01  8.44386329e-02  1.95966945e-01\n",
      "  -4.13010781e-04  1.21399397e-01 -1.70303472e-01  1.18218701e-01]\n",
      " [-7.72369571e-02  1.27901759e-01 -8.83148483e-02  1.10084328e-01\n",
      "   5.40686187e-02  5.63619136e-02  5.88365429e-02 -4.12905609e-02\n",
      "   1.42937866e-01  7.80209595e-02  1.05115473e-01  6.51790834e-02]\n",
      " [-9.73356119e-02 -6.84822220e-02 -1.77686574e-03  1.60282818e-02\n",
      "  -5.43228411e-02 -2.73900977e-02  4.74716782e-02 -9.02490831e-02\n",
      "  -5.31924115e-02  7.60869288e-02 -9.99264071e-02  5.05431525e-02]\n",
      " [-1.08078837e-02 -2.23090350e-01  1.39528760e-02 -1.72129512e-02\n",
      "  -2.10820495e-02  2.78228319e-02 -1.21615227e-01  1.43130096e-01\n",
      "  -2.09237951e-02 -9.19151689e-03  1.49449989e-02  6.80285483e-02]\n",
      " [-1.28190410e-01 -3.99384746e-02  7.30062552e-02 -1.03124949e-01\n",
      "  -1.78893827e-02  7.72525700e-02 -2.40439032e-02  1.72051355e-02\n",
      "  -5.39681131e-03  8.48884112e-03 -3.37594868e-02 -4.79884406e-03]\n",
      " [-1.01908126e-01 -9.67322703e-02  1.36360271e-01 -8.60209447e-02\n",
      "  -2.24756809e-01  7.27985124e-02  9.41071498e-02  2.41057390e-01\n",
      "  -2.19591633e-01 -2.49456110e-01  7.29396302e-02 -5.90212018e-02]\n",
      " [-1.14548977e-01 -3.02454513e-02  7.43658686e-02  2.57331658e-03\n",
      "  -1.99021755e-01  5.08518910e-02 -3.44090081e-02  1.17905392e-01\n",
      "  -1.15964900e-01  7.72289431e-02  1.67028661e-01  7.61319077e-02]\n",
      " [-5.30537610e-02 -1.03424972e-01 -2.32232017e-01  5.41475233e-02\n",
      "   1.50098337e-01 -9.80897900e-02  1.28611025e-01  1.50403168e-01\n",
      "   4.04901880e-02 -2.35053843e-01 -1.17562606e-01  1.43338206e-01]\n",
      " [-1.16002519e-01 -2.35125141e-01 -2.32055074e-03 -4.39968811e-02\n",
      "   9.88298629e-02  8.97567728e-03 -9.59927352e-02 -6.93754484e-02\n",
      "   9.65186066e-02 -2.94551355e-02  2.68676090e-02 -3.47659672e-02]\n",
      " [-4.44530812e-02 -4.65006898e-02  1.17149835e-02 -7.06076066e-02\n",
      "   1.60472626e-02  5.48445586e-03  4.66046692e-03  1.84228232e-02\n",
      "  -6.87945447e-02 -1.12077564e-02 -2.74381663e-02 -3.39676829e-02]\n",
      " [-1.26461239e-01 -1.33354314e-01  1.01498426e-01 -1.32464342e-01\n",
      "   3.67113740e-02  6.37527988e-02 -8.10539988e-03  2.40790118e-02\n",
      "  -2.75626089e-02 -1.75690106e-02 -1.91405331e-02 -3.60119199e-02]\n",
      " [-1.61723535e-01 -2.05387534e-02  1.07692631e-01 -2.02928868e-01\n",
      "  -2.22019082e-02 -1.23486856e-02 -4.85646853e-02  5.24633474e-02\n",
      "   8.10877173e-02  8.91014784e-02 -1.09978451e-01 -2.55657323e-02]\n",
      " [-3.93926963e-02  7.72319016e-02 -1.64846652e-01  1.12681036e-01\n",
      "   8.38636358e-03  1.19631642e-01  5.78298539e-02 -1.24108800e-01\n",
      "  -2.32764960e-01  1.72059756e-01 -5.64639172e-02  2.30093665e-02]\n",
      " [-6.27221944e-02  1.43635164e-01 -2.50770066e-01 -2.46834706e-01\n",
      "  -1.09249148e-01 -2.54304011e-01 -1.71456126e-01 -5.57981545e-02\n",
      "  -2.21360908e-01  8.24110028e-02  7.59708680e-02 -8.04914269e-02]\n",
      " [-1.31598788e-01  1.23454628e-01  1.29012458e-01  3.37577679e-03\n",
      "   1.30271286e-01 -4.05792728e-02 -7.61475758e-02  9.24350223e-02\n",
      "   5.86487856e-02 -7.26066363e-02  5.10988242e-02 -4.75997401e-02]\n",
      " [ 1.71292359e-02 -2.57856572e-01 -1.15503179e-01  6.73075123e-02\n",
      "   1.95900588e-01 -2.84728314e-02 -1.53144580e-01 -8.68533036e-02\n",
      "   1.69282468e-02 -1.30543004e-02  1.22807802e-01  6.77728104e-02]\n",
      " [-8.57379294e-02 -1.07706360e-01  7.58832034e-02 -7.14742930e-03\n",
      "  -6.02706527e-02  3.08131457e-02  1.11802144e-01 -2.32952326e-01\n",
      "  -5.56236648e-02  1.43861384e-01 -1.45820833e-01  5.75167507e-02]\n",
      " [-1.23848041e-01  2.50308841e-02 -1.28883098e-02 -1.41560514e-01\n",
      "   4.84992841e-02  1.14723917e-01  4.10107192e-02 -6.72294308e-02\n",
      "  -2.36198374e-01 -9.11400746e-02 -3.69840794e-02 -2.11163508e-01]\n",
      " [-1.24465138e-01 -9.01185070e-02  7.84944421e-02 -8.38796351e-02\n",
      "   1.50997448e-02  9.19040594e-02 -8.29536233e-02  1.07060453e-02\n",
      "  -3.21053918e-02  2.27933995e-02 -4.47077390e-02  1.00302624e-02]\n",
      " [-4.52665818e-02 -1.36927554e-01  1.32961588e-02 -1.20329099e-02\n",
      "   5.97953442e-02  3.93852819e-02 -2.21012564e-02  7.28762039e-03\n",
      "  -6.57950717e-03  1.85606769e-02 -3.93591101e-02 -4.56641433e-03]\n",
      " [ 6.79709739e-02 -5.77320615e-02 -3.23470768e-02  9.44030207e-02\n",
      "  -1.46148992e-01 -2.59564254e-02 -3.46279601e-01 -2.77133269e-01\n",
      "   1.16157445e-01 -3.51091748e-01 -1.57066587e-01  1.46758237e-02]\n",
      " [ 1.96248265e-03 -2.01605564e-01 -5.09054929e-02  5.12235622e-02\n",
      "   8.21837574e-02  2.30723915e-02 -9.33783713e-02 -9.57113267e-03\n",
      "   1.83756868e-02  8.49192847e-02 -1.09940491e-01 -5.73774883e-03]\n",
      " [-1.50148247e-01  3.63574537e-02  1.10641880e-03 -7.09822717e-02\n",
      "  -2.14901539e-01 -2.51387423e-01  2.31102370e-01 -1.24054242e-01\n",
      "   1.28784901e-01  1.77072552e-02  1.60004857e-01  3.59653146e-03]\n",
      " [-3.20449338e-02  5.69715476e-02 -2.28851690e-01  1.57011452e-02\n",
      "  -8.88377579e-02 -7.95246729e-02 -2.18722062e-02 -9.07446273e-03\n",
      "  -4.27900484e-01 -7.61236738e-02 -6.04103480e-02  6.22685381e-02]\n",
      " [-1.15163575e-01 -8.77401991e-02  2.00007925e-01 -1.94982567e-01\n",
      "  -3.43774214e-02  5.56266557e-02 -7.67978321e-02  3.34936010e-03\n",
      "  -4.85999959e-02  1.86704520e-02 -6.59236772e-02 -7.74413588e-03]\n",
      " [-1.21805453e-01  4.36586749e-02  2.01422145e-02 -8.88346711e-02\n",
      "  -3.86342624e-02 -5.68551063e-02  8.13644829e-02 -1.89699131e-03\n",
      "   1.10307884e-01  4.42029800e-02  2.56929516e-03  3.90377517e-03]\n",
      " [ 8.31343692e-02 -1.32371973e-01 -1.08814285e-01  1.35934303e-01\n",
      "   6.60011641e-02 -1.88325459e-02  1.39624520e-01  4.07779054e-02\n",
      "   6.84486852e-02 -1.03504630e-02 -8.22276652e-02 -1.51312385e-01]\n",
      " [-1.40449660e-01  2.32662053e-01  3.89695600e-01  4.58293866e-01\n",
      "   3.60993872e-01 -4.30361035e-01 -1.34955562e-01 -9.39654975e-03\n",
      "  -1.94773272e-01 -4.48444186e-02 -2.89608849e-02 -4.43357227e-02]\n",
      " [ 5.32469519e-03 -4.85089811e-02 -2.77409706e-02  7.94533307e-02\n",
      "  -4.56411103e-02  9.31439506e-03  3.73725189e-02  2.09520179e-02\n",
      "   1.95699969e-02  1.24754065e-01  4.26344288e-02  1.04006570e-01]\n",
      " [-6.01238587e-02 -1.75153914e-01 -3.00983465e-02 -1.18485982e-02\n",
      "   9.34233166e-02  1.74237629e-02 -1.02278535e-01  1.09457598e-02\n",
      "   4.63509129e-02  1.76490884e-02  1.25419285e-02  6.44818240e-03]\n",
      " [-1.82856639e-01  3.49206695e-02  1.08486996e-01 -7.18232977e-02\n",
      "   4.50575118e-02 -2.59298048e-02 -5.50264637e-02  3.81967405e-02\n",
      "   6.96464144e-02  7.29698372e-03 -2.67186396e-02  1.47260802e-03]\n",
      " [-1.45219849e-01  3.08399634e-02  1.29007644e-01  1.05229228e-01\n",
      "   2.83364072e-02 -9.44454522e-02 -3.21628840e-02  1.71912290e-01\n",
      "  -9.98747651e-02 -1.49630869e-01  8.34362101e-03 -7.34291088e-02]\n",
      " [-2.78202564e-02  8.46442563e-02 -1.98672928e-01 -1.53595587e-01\n",
      "  -7.96829375e-02 -3.22889482e-01 -9.94657093e-02  2.08458906e-01\n",
      "   2.11037032e-01 -3.73451832e-03 -8.73123999e-02  4.25903088e-02]\n",
      " [-7.97577224e-02 -8.97931637e-02  2.86641321e-02 -4.04048046e-02\n",
      "   9.52023631e-02  2.85309379e-02  1.16291403e-01 -1.23843827e-01\n",
      "  -5.62749364e-02  2.80952577e-02 -6.34302706e-02  2.16663771e-02]\n",
      " [-7.11863270e-02  1.52941835e-01 -2.96603693e-01 -1.91449730e-01\n",
      "   1.11814644e-02 -3.50782031e-01  5.16604693e-02  6.07023520e-02\n",
      "   1.69179448e-01 -4.73981842e-02 -2.17919690e-02 -1.82786222e-01]\n",
      " [-8.31268545e-02  7.30620936e-02  3.86963232e-02  1.72100533e-02\n",
      "   5.63335981e-02  1.38559106e-01  5.29045312e-02 -1.21504281e-01\n",
      "   9.00150265e-02 -1.28804100e-01  1.27655726e-01  2.64801285e-03]\n",
      " [-5.11882429e-02 -6.76992011e-02 -9.56818646e-02  8.48104404e-02\n",
      "  -2.01321675e-03 -4.80698081e-02  9.60639051e-02 -9.12951120e-02\n",
      "  -1.63535419e-03  4.01002895e-02  7.44422040e-03  4.70919833e-02]\n",
      " [ 2.99765339e-02 -2.27189994e-01 -1.25109522e-01  8.95590492e-02\n",
      "   1.42630476e-01 -1.93989137e-02  2.74835805e-02 -1.49491710e-01\n",
      "   7.68334298e-02  1.12374456e-02  9.07291323e-04 -1.27612998e-01]\n",
      " [-8.53524568e-02  1.25075443e-01  5.16413614e-02  1.64828714e-01\n",
      "  -1.22420459e-01  2.87064645e-01  9.94666575e-03  4.00633695e-01\n",
      "   1.69324375e-01 -9.18615247e-02 -1.09930401e-01 -1.73079512e-01]\n",
      " [-9.84850594e-02  2.68530474e-01 -1.75694409e-02  1.23380812e-01\n",
      "   2.33113049e-02  1.52158447e-01  9.71141903e-02 -1.28200453e-01\n",
      "   4.84738929e-02  3.03029350e-02 -3.75661819e-02 -8.26618832e-02]\n",
      " [-3.78488186e-02  3.06132687e-01 -2.61977790e-01 -3.50884498e-02\n",
      "   1.42800403e-01  3.12798478e-01 -2.41205502e-01  4.71080812e-02\n",
      "  -1.37113444e-02  6.72460311e-02 -6.48897836e-02  7.14161931e-02]\n",
      " [ 9.90329569e-02 -4.37461723e-02 -1.66129150e-02  1.97513927e-01\n",
      "  -1.58466188e-01 -1.80686177e-02 -2.20955156e-01  8.31122642e-02\n",
      "   2.15958188e-02  3.36726049e-01  3.06747067e-01 -1.59702664e-01]\n",
      " [ 1.40033873e-01 -5.96907283e-03  4.76936019e-02 -7.30622520e-02\n",
      "   6.56929308e-02  1.31366448e-03 -2.26074395e-02  1.16936288e-01\n",
      "  -3.08565270e-03  1.19141478e-01  2.75447942e-01 -4.12246790e-02]\n",
      " [ 1.44943306e-01  1.72997756e-02  4.52601014e-02 -9.51086025e-02\n",
      "   7.77844294e-02  6.02126237e-03 -1.94908142e-02  3.52477490e-02\n",
      "  -2.84259920e-02 -2.68571349e-02  5.17278994e-02  9.60087602e-03]\n",
      " [ 9.29094281e-02 -4.80074963e-02 -6.98452374e-02  2.02994592e-01\n",
      "  -1.64039959e-01 -4.50678190e-02  1.02926862e-01 -1.48003382e-01\n",
      "  -6.06684624e-03 -6.81491497e-02  6.76610568e-02  8.31846716e-02]\n",
      " [ 1.10996684e-01  8.72246566e-02  3.07868139e-02  1.06056625e-01\n",
      "  -2.86986861e-01  2.68068641e-02 -3.26323948e-01 -1.87429081e-01\n",
      "   1.38937418e-01 -1.01559411e-01 -2.00563473e-01  1.37385613e-02]\n",
      " [ 1.13286001e-01  1.88475085e-02  3.53830489e-02  2.75764729e-02\n",
      "  -1.45191263e-01 -1.15368373e-02 -1.74130993e-02  1.22305275e-02\n",
      "  -2.08366295e-03 -1.36453780e-01  1.15018149e-01  1.32222922e-02]\n",
      " [ 1.25829800e-01  5.94139763e-02  1.11405862e-01 -1.05326592e-01\n",
      "  -3.51378397e-02 -8.06559086e-03 -4.92759002e-02 -1.13323014e-02\n",
      "   5.13958812e-04 -5.31391998e-02 -3.97429870e-02  6.34555759e-02]\n",
      " [ 1.51579540e-01  7.98190840e-02  8.23795522e-02 -8.75327318e-02\n",
      "   4.87268861e-02  1.09719302e-02  1.23077074e-01 -5.12464973e-02\n",
      "   5.13423065e-03 -8.66871383e-02  8.50742311e-02  2.08335406e-02]\n",
      " [ 1.39263995e-01  1.89412734e-03  3.08529369e-02 -3.48217056e-02\n",
      "   1.12375233e-01 -1.88170890e-02  8.03830621e-02 -8.70147746e-02\n",
      "  -2.63839448e-03  1.71250649e-01 -7.98168735e-02  4.35653089e-04]\n",
      " [ 1.51303806e-01  5.55650967e-04  2.65542768e-02 -4.52700283e-02\n",
      "   4.62410172e-02  1.68185967e-03  9.49963595e-04  5.99276826e-02\n",
      "  -3.56122527e-02 -6.32681452e-03  8.98637462e-02  7.65975074e-03]\n",
      " [ 1.43107392e-01  1.31793292e-02  5.47906345e-02 -8.95991320e-02\n",
      "   6.03825958e-02 -8.52900740e-03 -5.31755703e-02 -5.62500678e-02\n",
      "   4.09924934e-02  5.35365820e-02  6.49045299e-02  4.21379866e-02]\n",
      " [ 1.46156612e-01  6.08867109e-03 -8.11463108e-03  6.45462884e-03\n",
      "   5.46192284e-02 -8.98562248e-03 -9.22505730e-03  7.60400109e-02\n",
      "  -7.11268513e-02 -3.07926967e-02 -5.62635050e-02 -8.19533545e-03]\n",
      " [ 1.07342698e-01  8.48829680e-02  1.05932239e-01 -1.28844671e-02\n",
      "  -1.13789851e-01 -4.42033850e-02  5.12679808e-02  9.63148873e-02\n",
      "  -1.39498044e-02 -4.72205409e-02  5.51887133e-03  2.02271633e-01]\n",
      " [ 1.70451854e-01  4.49210476e-02  6.50879703e-02 -1.12147718e-01\n",
      "   1.20926028e-01  5.58863159e-02  8.48665335e-02 -1.78986225e-01\n",
      "   8.59370339e-02 -4.24993864e-02  1.42951638e-02 -1.17639772e-01]\n",
      " [ 1.39349110e-01  2.55963565e-02  6.19009453e-02 -7.18329497e-02\n",
      "   9.53416600e-03  3.51824687e-02 -9.31756453e-02  4.89997366e-02\n",
      "   3.64926479e-02  4.71105588e-02 -2.67155636e-02  6.27713225e-02]\n",
      " [ 1.48372284e-01 -1.83173105e-02  9.00716494e-03 -8.62752292e-03\n",
      "   3.79054321e-02 -2.85221286e-02  2.30925036e-02  1.12138487e-01\n",
      "   8.31329816e-02  1.72065942e-02 -7.84005720e-02  1.12893215e-01]\n",
      " [ 1.16483317e-01 -5.60711024e-03 -1.24389878e-01  1.43667057e-01\n",
      "  -1.55857087e-02 -6.61847000e-02  3.12623316e-01  7.15647777e-02\n",
      "  -7.74944801e-02 -1.37506656e-01 -2.53041516e-02  5.22242399e-02]\n",
      " [ 1.62935688e-01  6.65759867e-02  6.22019104e-02 -1.23890839e-01\n",
      "   1.17436531e-01  9.69207283e-03  2.02120588e-02 -3.63184680e-02\n",
      "  -2.93008974e-02 -5.63667447e-02  4.64848762e-02  1.46451513e-01]\n",
      " [ 1.64505032e-01  6.65852706e-02  8.46333210e-02 -1.35557618e-01\n",
      "   7.32790841e-02  6.56422702e-03  1.26177469e-01 -8.99243745e-02\n",
      "  -3.48084509e-02 -2.03297255e-02 -8.84361755e-02  7.71490282e-02]\n",
      " [ 1.14427526e-01  4.22217008e-02  6.21317320e-02  8.58021587e-02\n",
      "  -1.73228331e-01 -3.86949586e-02 -1.27499031e-02 -5.10173497e-02\n",
      "   5.14372215e-03 -3.82106665e-02 -3.86766256e-01  8.27470941e-02]\n",
      " [ 1.16677045e-01 -5.30549895e-02 -4.06204072e-02  9.32847701e-02\n",
      "   2.54040172e-02 -1.20760036e-02  8.44751452e-02  1.61801618e-01\n",
      "   6.75790002e-04  2.05886121e-01 -1.40439805e-01 -1.76859398e-01]\n",
      " [ 9.78530986e-02  7.16063832e-02  5.32111155e-02  5.17788796e-02\n",
      "  -1.05695712e-01  1.14973533e-02  3.58928919e-02 -9.02859629e-02\n",
      "   4.24099404e-02  1.63570323e-03 -8.28109146e-03 -6.12946621e-01]\n",
      " [ 1.00306880e-01  1.03259539e-02 -1.65017547e-02  1.15579676e-01\n",
      "  -1.48040523e-01 -1.48249578e-02  6.20051460e-02  4.59293761e-02\n",
      "   2.30200304e-02 -1.35562103e-01  1.57659760e-01  1.18747596e-01]\n",
      " [ 1.18919594e-01  7.70869067e-02  8.82937898e-02 -3.07982743e-02\n",
      "  -1.58751049e-01 -3.40094528e-02 -1.68622541e-01  2.48097113e-03\n",
      "  -9.31290558e-02  2.13017428e-01  8.05183582e-02  1.52461566e-01]\n",
      " [ 1.26579370e-01  2.15635060e-02  8.56564090e-02 -8.73381675e-02\n",
      "  -2.20392790e-02  1.73275279e-02 -4.10403506e-02 -6.08933429e-02\n",
      "  -3.34462409e-03 -1.50959705e-01  1.50922110e-01 -1.66712237e-01]\n",
      " [ 1.50337453e-01 -1.70902107e-02 -1.71446444e-02  7.47531545e-02\n",
      "   9.37561196e-03 -1.50546527e-02  5.43266500e-02  4.51560468e-02\n",
      "  -1.05240678e-01  2.63671740e-01 -5.42840061e-03 -4.20771767e-02]\n",
      " [ 1.67551607e-01  4.55349703e-02  5.86986407e-02 -1.04181447e-01\n",
      "   7.11662457e-02 -1.49432893e-02  6.69385618e-02  9.18525551e-02\n",
      "  -4.74140225e-02  5.58019759e-02 -4.97735107e-02 -1.28272328e-02]\n",
      " [ 1.62142089e-01  1.10503307e-02  3.62028684e-02 -3.99479536e-02\n",
      "   1.01716671e-01  1.35124317e-03  1.07653938e-01  7.64776924e-02\n",
      "   1.43052828e-03 -9.17326713e-02  4.10183948e-02  9.05371541e-02]\n",
      " [ 2.07029034e-02 -1.63979807e-01 -3.44743395e-02  1.29762523e-01\n",
      "  -1.78646307e-01 -2.24855964e-02 -3.65892375e-02 -8.71214230e-02\n",
      "   2.67058880e-03 -2.03695647e-02  1.65616808e-01 -9.32780201e-02]\n",
      " [ 1.47350957e-01  3.03275049e-02  6.55187632e-02 -1.20688417e-01\n",
      "   7.94873845e-02  2.22987812e-02  8.99056730e-03  1.70430499e-02\n",
      "   5.21874255e-02 -2.28518377e-02 -1.62161457e-01 -4.88020194e-02]]\n"
     ]
    }
   ],
   "source": [
    "print('u_svd\\n',u)"
   ]
  },
  {
   "cell_type": "code",
   "execution_count": null,
   "id": "1bd14627",
   "metadata": {},
   "outputs": [],
   "source": []
  }
 ],
 "metadata": {
  "kernelspec": {
   "display_name": "Python 3",
   "language": "python",
   "name": "python3"
  },
  "language_info": {
   "codemirror_mode": {
    "name": "ipython",
    "version": 3
   },
   "file_extension": ".py",
   "mimetype": "text/x-python",
   "name": "python",
   "nbconvert_exporter": "python",
   "pygments_lexer": "ipython3",
   "version": "3.8.8"
  }
 },
 "nbformat": 4,
 "nbformat_minor": 5
}
