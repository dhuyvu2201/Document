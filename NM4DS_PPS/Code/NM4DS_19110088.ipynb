{
 "cells": [
  {
   "cell_type": "code",
   "execution_count": 25,
   "id": "119f3819",
   "metadata": {},
   "outputs": [],
   "source": [
    "import pandas as pd\n",
    "import numpy as np\n",
    "import matplotlib.pyplot as plt\n",
    "import seaborn as sns\n",
    "import math"
   ]
  },
  {
   "cell_type": "code",
   "execution_count": 26,
   "id": "8a9795bb",
   "metadata": {},
   "outputs": [
    {
     "data": {
      "text/html": [
       "<div>\n",
       "<style scoped>\n",
       "    .dataframe tbody tr th:only-of-type {\n",
       "        vertical-align: middle;\n",
       "    }\n",
       "\n",
       "    .dataframe tbody tr th {\n",
       "        vertical-align: top;\n",
       "    }\n",
       "\n",
       "    .dataframe thead th {\n",
       "        text-align: right;\n",
       "    }\n",
       "</style>\n",
       "<table border=\"1\" class=\"dataframe\">\n",
       "  <thead>\n",
       "    <tr style=\"text-align: right;\">\n",
       "      <th></th>\n",
       "      <th>status</th>\n",
       "      <th>price</th>\n",
       "      <th>bed</th>\n",
       "      <th>bath</th>\n",
       "      <th>acre_lot</th>\n",
       "      <th>house_size</th>\n",
       "      <th>sold_date</th>\n",
       "      <th>address</th>\n",
       "    </tr>\n",
       "  </thead>\n",
       "  <tbody>\n",
       "    <tr>\n",
       "      <th>0</th>\n",
       "      <td>for_sale</td>\n",
       "      <td>105000.0</td>\n",
       "      <td>3.0</td>\n",
       "      <td>2.0</td>\n",
       "      <td>0.12</td>\n",
       "      <td>920.0</td>\n",
       "      <td>NaN</td>\n",
       "      <td>city_0, state_0</td>\n",
       "    </tr>\n",
       "    <tr>\n",
       "      <th>1</th>\n",
       "      <td>for_sale</td>\n",
       "      <td>80000.0</td>\n",
       "      <td>4.0</td>\n",
       "      <td>2.0</td>\n",
       "      <td>0.08</td>\n",
       "      <td>1527.0</td>\n",
       "      <td>NaN</td>\n",
       "      <td>city_0, state_0</td>\n",
       "    </tr>\n",
       "    <tr>\n",
       "      <th>2</th>\n",
       "      <td>for_sale</td>\n",
       "      <td>67000.0</td>\n",
       "      <td>2.0</td>\n",
       "      <td>1.0</td>\n",
       "      <td>0.15</td>\n",
       "      <td>748.0</td>\n",
       "      <td>NaN</td>\n",
       "      <td>city_1, state_0</td>\n",
       "    </tr>\n",
       "    <tr>\n",
       "      <th>3</th>\n",
       "      <td>for_sale</td>\n",
       "      <td>145000.0</td>\n",
       "      <td>4.0</td>\n",
       "      <td>2.0</td>\n",
       "      <td>0.10</td>\n",
       "      <td>1800.0</td>\n",
       "      <td>NaN</td>\n",
       "      <td>city_2, state_0</td>\n",
       "    </tr>\n",
       "    <tr>\n",
       "      <th>4</th>\n",
       "      <td>for_sale</td>\n",
       "      <td>65000.0</td>\n",
       "      <td>6.0</td>\n",
       "      <td>2.0</td>\n",
       "      <td>0.05</td>\n",
       "      <td>NaN</td>\n",
       "      <td>NaN</td>\n",
       "      <td>city_3, state_0</td>\n",
       "    </tr>\n",
       "    <tr>\n",
       "      <th>...</th>\n",
       "      <td>...</td>\n",
       "      <td>...</td>\n",
       "      <td>...</td>\n",
       "      <td>...</td>\n",
       "      <td>...</td>\n",
       "      <td>...</td>\n",
       "      <td>...</td>\n",
       "      <td>...</td>\n",
       "    </tr>\n",
       "    <tr>\n",
       "      <th>402154</th>\n",
       "      <td>for_sale</td>\n",
       "      <td>299900.0</td>\n",
       "      <td>4.0</td>\n",
       "      <td>3.0</td>\n",
       "      <td>0.29</td>\n",
       "      <td>2374.0</td>\n",
       "      <td>2017-06-27</td>\n",
       "      <td>city_1401, state_3</td>\n",
       "    </tr>\n",
       "    <tr>\n",
       "      <th>402155</th>\n",
       "      <td>for_sale</td>\n",
       "      <td>275000.0</td>\n",
       "      <td>3.0</td>\n",
       "      <td>2.0</td>\n",
       "      <td>0.53</td>\n",
       "      <td>1548.0</td>\n",
       "      <td>2002-06-17</td>\n",
       "      <td>city_230, state_3</td>\n",
       "    </tr>\n",
       "    <tr>\n",
       "      <th>402156</th>\n",
       "      <td>for_sale</td>\n",
       "      <td>99900.0</td>\n",
       "      <td>2.0</td>\n",
       "      <td>1.0</td>\n",
       "      <td>0.11</td>\n",
       "      <td>569.0</td>\n",
       "      <td>NaN</td>\n",
       "      <td>city_1287, state_3</td>\n",
       "    </tr>\n",
       "    <tr>\n",
       "      <th>402157</th>\n",
       "      <td>for_sale</td>\n",
       "      <td>259700.0</td>\n",
       "      <td>3.0</td>\n",
       "      <td>2.0</td>\n",
       "      <td>0.83</td>\n",
       "      <td>1656.0</td>\n",
       "      <td>NaN</td>\n",
       "      <td>city_199, state_3</td>\n",
       "    </tr>\n",
       "    <tr>\n",
       "      <th>402158</th>\n",
       "      <td>for_sale</td>\n",
       "      <td>399900.0</td>\n",
       "      <td>4.0</td>\n",
       "      <td>2.0</td>\n",
       "      <td>2.15</td>\n",
       "      <td>2086.0</td>\n",
       "      <td>2013-06-19</td>\n",
       "      <td>city_267, state_3</td>\n",
       "    </tr>\n",
       "  </tbody>\n",
       "</table>\n",
       "<p>402159 rows × 8 columns</p>\n",
       "</div>"
      ],
      "text/plain": [
       "          status     price  bed  bath  acre_lot  house_size   sold_date  \\\n",
       "0       for_sale  105000.0  3.0   2.0      0.12       920.0         NaN   \n",
       "1       for_sale   80000.0  4.0   2.0      0.08      1527.0         NaN   \n",
       "2       for_sale   67000.0  2.0   1.0      0.15       748.0         NaN   \n",
       "3       for_sale  145000.0  4.0   2.0      0.10      1800.0         NaN   \n",
       "4       for_sale   65000.0  6.0   2.0      0.05         NaN         NaN   \n",
       "...          ...       ...  ...   ...       ...         ...         ...   \n",
       "402154  for_sale  299900.0  4.0   3.0      0.29      2374.0  2017-06-27   \n",
       "402155  for_sale  275000.0  3.0   2.0      0.53      1548.0  2002-06-17   \n",
       "402156  for_sale   99900.0  2.0   1.0      0.11       569.0         NaN   \n",
       "402157  for_sale  259700.0  3.0   2.0      0.83      1656.0         NaN   \n",
       "402158  for_sale  399900.0  4.0   2.0      2.15      2086.0  2013-06-19   \n",
       "\n",
       "                   address  \n",
       "0          city_0, state_0  \n",
       "1          city_0, state_0  \n",
       "2          city_1, state_0  \n",
       "3          city_2, state_0  \n",
       "4          city_3, state_0  \n",
       "...                    ...  \n",
       "402154  city_1401, state_3  \n",
       "402155   city_230, state_3  \n",
       "402156  city_1287, state_3  \n",
       "402157   city_199, state_3  \n",
       "402158   city_267, state_3  \n",
       "\n",
       "[402159 rows x 8 columns]"
      ]
     },
     "execution_count": 26,
     "metadata": {},
     "output_type": "execute_result"
    }
   ],
   "source": [
    "df = pd.read_csv('data.csv')\n",
    "df"
   ]
  },
  {
   "cell_type": "code",
   "execution_count": 27,
   "id": "00681a40",
   "metadata": {},
   "outputs": [
    {
     "name": "stdout",
     "output_type": "stream",
     "text": [
      "<class 'pandas.core.frame.DataFrame'>\n",
      "RangeIndex: 402159 entries, 0 to 402158\n",
      "Data columns (total 8 columns):\n",
      " #   Column      Non-Null Count   Dtype  \n",
      "---  ------      --------------   -----  \n",
      " 0   status      402159 non-null  object \n",
      " 1   price       402159 non-null  float64\n",
      " 2   bed         314887 non-null  float64\n",
      " 3   bath        316400 non-null  float64\n",
      " 4   acre_lot    326858 non-null  float64\n",
      " 5   house_size  318977 non-null  float64\n",
      " 6   sold_date   137227 non-null  object \n",
      " 7   address     402159 non-null  object \n",
      "dtypes: float64(5), object(3)\n",
      "memory usage: 24.5+ MB\n"
     ]
    }
   ],
   "source": [
    "df.info()"
   ]
  },
  {
   "cell_type": "code",
   "execution_count": 28,
   "id": "c26715bd",
   "metadata": {},
   "outputs": [
    {
     "data": {
      "text/html": [
       "<div>\n",
       "<style scoped>\n",
       "    .dataframe tbody tr th:only-of-type {\n",
       "        vertical-align: middle;\n",
       "    }\n",
       "\n",
       "    .dataframe tbody tr th {\n",
       "        vertical-align: top;\n",
       "    }\n",
       "\n",
       "    .dataframe thead th {\n",
       "        text-align: right;\n",
       "    }\n",
       "</style>\n",
       "<table border=\"1\" class=\"dataframe\">\n",
       "  <thead>\n",
       "    <tr style=\"text-align: right;\">\n",
       "      <th></th>\n",
       "      <th>status</th>\n",
       "      <th>price</th>\n",
       "      <th>bed</th>\n",
       "      <th>bath</th>\n",
       "      <th>acre_lot</th>\n",
       "      <th>house_size</th>\n",
       "      <th>sold_date</th>\n",
       "      <th>address</th>\n",
       "    </tr>\n",
       "  </thead>\n",
       "  <tbody>\n",
       "    <tr>\n",
       "      <th>0</th>\n",
       "      <td>for_sale</td>\n",
       "      <td>105000.0</td>\n",
       "      <td>3.0</td>\n",
       "      <td>2.0</td>\n",
       "      <td>0.12</td>\n",
       "      <td>920.0</td>\n",
       "      <td>0</td>\n",
       "      <td>city_0, state_0</td>\n",
       "    </tr>\n",
       "    <tr>\n",
       "      <th>1</th>\n",
       "      <td>for_sale</td>\n",
       "      <td>80000.0</td>\n",
       "      <td>4.0</td>\n",
       "      <td>2.0</td>\n",
       "      <td>0.08</td>\n",
       "      <td>1527.0</td>\n",
       "      <td>0</td>\n",
       "      <td>city_0, state_0</td>\n",
       "    </tr>\n",
       "    <tr>\n",
       "      <th>2</th>\n",
       "      <td>for_sale</td>\n",
       "      <td>67000.0</td>\n",
       "      <td>2.0</td>\n",
       "      <td>1.0</td>\n",
       "      <td>0.15</td>\n",
       "      <td>748.0</td>\n",
       "      <td>0</td>\n",
       "      <td>city_1, state_0</td>\n",
       "    </tr>\n",
       "    <tr>\n",
       "      <th>3</th>\n",
       "      <td>for_sale</td>\n",
       "      <td>145000.0</td>\n",
       "      <td>4.0</td>\n",
       "      <td>2.0</td>\n",
       "      <td>0.10</td>\n",
       "      <td>1800.0</td>\n",
       "      <td>0</td>\n",
       "      <td>city_2, state_0</td>\n",
       "    </tr>\n",
       "    <tr>\n",
       "      <th>5</th>\n",
       "      <td>for_sale</td>\n",
       "      <td>179000.0</td>\n",
       "      <td>4.0</td>\n",
       "      <td>3.0</td>\n",
       "      <td>0.46</td>\n",
       "      <td>2520.0</td>\n",
       "      <td>0</td>\n",
       "      <td>city_4, state_0</td>\n",
       "    </tr>\n",
       "  </tbody>\n",
       "</table>\n",
       "</div>"
      ],
      "text/plain": [
       "     status     price  bed  bath  acre_lot  house_size sold_date  \\\n",
       "0  for_sale  105000.0  3.0   2.0      0.12       920.0         0   \n",
       "1  for_sale   80000.0  4.0   2.0      0.08      1527.0         0   \n",
       "2  for_sale   67000.0  2.0   1.0      0.15       748.0         0   \n",
       "3  for_sale  145000.0  4.0   2.0      0.10      1800.0         0   \n",
       "5  for_sale  179000.0  4.0   3.0      0.46      2520.0         0   \n",
       "\n",
       "           address  \n",
       "0  city_0, state_0  \n",
       "1  city_0, state_0  \n",
       "2  city_1, state_0  \n",
       "3  city_2, state_0  \n",
       "5  city_4, state_0  "
      ]
     },
     "execution_count": 28,
     "metadata": {},
     "output_type": "execute_result"
    }
   ],
   "source": [
    "df=df.fillna(0)\n",
    "df = df[df.house_size != 0]\n",
    "df.head()"
   ]
  },
  {
   "cell_type": "code",
   "execution_count": 29,
   "id": "a1193670",
   "metadata": {},
   "outputs": [
    {
     "name": "stdout",
     "output_type": "stream",
     "text": [
      "<class 'pandas.core.frame.DataFrame'>\n",
      "Int64Index: 318977 entries, 0 to 402158\n",
      "Data columns (total 8 columns):\n",
      " #   Column      Non-Null Count   Dtype  \n",
      "---  ------      --------------   -----  \n",
      " 0   status      318977 non-null  object \n",
      " 1   price       318977 non-null  float64\n",
      " 2   bed         318977 non-null  float64\n",
      " 3   bath        318977 non-null  float64\n",
      " 4   acre_lot    318977 non-null  float64\n",
      " 5   house_size  318977 non-null  float64\n",
      " 6   sold_date   318977 non-null  object \n",
      " 7   address     318977 non-null  object \n",
      "dtypes: float64(5), object(3)\n",
      "memory usage: 21.9+ MB\n"
     ]
    }
   ],
   "source": [
    "df.info()"
   ]
  },
  {
   "cell_type": "code",
   "execution_count": 30,
   "id": "65ffe307",
   "metadata": {},
   "outputs": [
    {
     "data": {
      "text/plain": [
       "<AxesSubplot:>"
      ]
     },
     "execution_count": 30,
     "metadata": {},
     "output_type": "execute_result"
    },
    {
     "data": {
      "image/png": "[encoded data removed]",
      "text/plain": [
       "<Figure size 720x360 with 2 Axes>"
      ]
     },
     "metadata": {
      "needs_background": "light"
     },
     "output_type": "display_data"
    }
   ],
   "source": [
    "plt.figure(figsize=(10,5))\n",
    "sns.heatmap(df.corr(), annot=True, lw = 1, linecolor=\"r\",cmap=\"coolwarm\")"
   ]
  },
  {
   "cell_type": "code",
   "execution_count": 31,
   "id": "46415dcd",
   "metadata": {},
   "outputs": [],
   "source": [
    "choose_features = [\n",
    "        'bed',\n",
    "        'bath',\n",
    "        'acre_lot',\n",
    "        'house_size',\n",
    "    ]\n",
    "x=df[choose_features]\n",
    "X=x.values / 10**6\n",
    "y=df['price'].values / 10**6"
   ]
  },
  {
   "cell_type": "code",
   "execution_count": 32,
   "id": "a2457512",
   "metadata": {},
   "outputs": [
    {
     "data": {
      "text/plain": [
       "((318977, 4), (318977,))"
      ]
     },
     "execution_count": 32,
     "metadata": {},
     "output_type": "execute_result"
    }
   ],
   "source": [
    "import time\n",
    "train_split_percent = 0.7\n",
    "X.shape,y.shape"
   ]
  },
  {
   "cell_type": "code",
   "execution_count": 33,
   "id": "97f2c448",
   "metadata": {},
   "outputs": [
    {
     "data": {
      "text/plain": [
       "array([0.889 , 0.2999, 0.295 , ..., 0.0999, 0.2597, 0.3999])"
      ]
     },
     "execution_count": 33,
     "metadata": {},
     "output_type": "execute_result"
    }
   ],
   "source": [
    "size = X.shape[0]\n",
    "X_train = X[:int(train_split_percent * size),:]\n",
    "X_test = X[int(train_split_percent * size):,:]\n",
    "y_train = y[:int(train_split_percent * size)]\n",
    "y_test = y[int(train_split_percent * size):]\n",
    "y_test"
   ]
  },
  {
   "cell_type": "code",
   "execution_count": 34,
   "id": "3216504e",
   "metadata": {},
   "outputs": [
    {
     "data": {
      "text/plain": [
       "(array([-0.18533862, -0.21128157, -0.01038047, -0.34194444]),\n",
       " array([-0.57851471, -0.58540294, -0.01038047, -0.31576051]))"
      ]
     },
     "execution_count": 34,
     "metadata": {},
     "output_type": "execute_result"
    }
   ],
   "source": [
    "mu = np.mean(X_train, 0)\n",
    "sigma = np.std(X_train, 0)\n",
    "X_train = (X_train - mu ) / sigma\n",
    "X_test = (X_test - mu ) / sigma\n",
    "X_train[0],X_test[0]"
   ]
  },
  {
   "cell_type": "code",
   "execution_count": 35,
   "id": "e269cf81",
   "metadata": {},
   "outputs": [
    {
     "data": {
      "text/plain": [
       "-0.5564698026888082"
      ]
     },
     "execution_count": 35,
     "metadata": {},
     "output_type": "execute_result"
    }
   ],
   "source": [
    "mu_y = np.mean(y_train, 0)\n",
    "sigma_y = np.std(y_train, 0, ddof = 0)\n",
    "y_train = (y_train - mu_y ) / sigma_y\n",
    "y_train[0]"
   ]
  },
  {
   "cell_type": "code",
   "execution_count": 36,
   "id": "ee89efb3",
   "metadata": {},
   "outputs": [
    {
     "data": {
      "text/plain": [
       "((223283, 1), (95694, 1), (95694, 1))"
      ]
     },
     "execution_count": 36,
     "metadata": {},
     "output_type": "execute_result"
    }
   ],
   "source": [
    "y_train = y_train.reshape(len(y_train),1)\n",
    "y_test = y_test.reshape(len(y_test),1)\n",
    "y_pred = np.zeros(y_test.shape)\n",
    "y_train.shape, y_test.shape,y_pred.shape"
   ]
  },
  {
   "cell_type": "code",
   "execution_count": 37,
   "id": "382bfba5",
   "metadata": {},
   "outputs": [
    {
     "data": {
      "text/plain": [
       "array([[-0.18533862, -0.21128157, -0.01038047, -0.34194444],\n",
       "       [ 0.20783747, -0.21128157, -0.0105027 , -0.18300802],\n",
       "       [-0.57851471, -0.58540294, -0.0102888 , -0.38698079],\n",
       "       ...,\n",
       "       [-1.3648669 , -0.95952431, -0.01025824, -0.37336515],\n",
       "       [ 4.13959839,  5.0264176 ,  0.28428093,  3.1389465 ],\n",
       "       [-0.9716908 , -0.58540294, -0.01056381, -0.38488608]])"
      ]
     },
     "execution_count": 37,
     "metadata": {},
     "output_type": "execute_result"
    }
   ],
   "source": [
    "X_train"
   ]
  },
  {
   "cell_type": "code",
   "execution_count": 38,
   "id": "e502975d",
   "metadata": {},
   "outputs": [
    {
     "data": {
      "text/plain": [
       "array([[-0.056565  ],\n",
       "       [ 0.36077829],\n",
       "       [ 0.00092601],\n",
       "       [ 0.20789677]])"
      ]
     },
     "execution_count": 38,
     "metadata": {},
     "output_type": "execute_result"
    }
   ],
   "source": [
    "theta=np.matmul(np.matmul(np.linalg.inv(np.matmul(X_train.T, X_train)), X_train.T), y_train)\n",
    "theta"
   ]
  },
  {
   "cell_type": "code",
   "execution_count": 39,
   "id": "160e5bd5",
   "metadata": {},
   "outputs": [
    {
     "name": "stdout",
     "output_type": "stream",
     "text": [
      "1.0390487562971764e+21\n"
     ]
    }
   ],
   "source": [
    "# Tính định thức của X^T . X\n",
    "print(np.linalg.det(X_train.T.dot(X_train)))"
   ]
  },
  {
   "cell_type": "code",
   "execution_count": 40,
   "id": "08482dc8",
   "metadata": {},
   "outputs": [
    {
     "data": {
      "text/plain": [
       "0.4096965541824052"
      ]
     },
     "execution_count": 40,
     "metadata": {},
     "output_type": "execute_result"
    }
   ],
   "source": [
    "def loss_multivariate(X, y, theta):\n",
    "    theta = theta.reshape(-1, 1)\n",
    "    m = len(X)\n",
    "    # Tính hàm giả thuyết\n",
    "    h = X @ theta\n",
    "    loss = 1/(2*m) * np.sum((y - h) ** 2)\n",
    "    return loss\n",
    "loss_multivariate(X_train, y_train, theta)"
   ]
  },
  {
   "cell_type": "code",
   "execution_count": 41,
   "id": "88994082",
   "metadata": {},
   "outputs": [
    {
     "data": {
      "text/plain": [
       "array([0.27010377, 0.37610927, 0.00905557, 0.28949788])"
      ]
     },
     "execution_count": 41,
     "metadata": {},
     "output_type": "execute_result"
    }
   ],
   "source": [
    "def covariance(x, y):\n",
    "    mean_x = sum(x)/float(len(x))\n",
    "    mean_y = sum(y)/float(len(y))\n",
    "    sub_x = [i - mean_x for i in x]\n",
    "    sub_y = [i - mean_y for i in y]\n",
    "    numerator = sum([sub_x[i]*sub_y[i] for i in range(len(sub_x))])\n",
    "    denominator = len(x)-1\n",
    "    cov = numerator/denominator\n",
    "    return cov\n",
    "covariance(X_train,y_train)"
   ]
  },
  {
   "cell_type": "code",
   "execution_count": 42,
   "id": "4e1b9c7e",
   "metadata": {},
   "outputs": [
    {
     "data": {
      "text/plain": [
       "array([0.27010256, 0.37610759, 0.00905553, 0.28949659])"
      ]
     },
     "execution_count": 42,
     "metadata": {},
     "output_type": "execute_result"
    }
   ],
   "source": [
    "def correlation(x, y):\n",
    "    mean_x = sum(x)/float(len(x))\n",
    "    mean_y = sum(y)/float(len(y))\n",
    "    sub_x = [i-mean_x for i in x]\n",
    "    sub_y = [i-mean_y for i in y]\n",
    "    numerator = sum([sub_x[i]*sub_y[i] for i in range(len(sub_x))])\n",
    "    std_deviation_x = sum([sub_x[i]**2.0 for i in range(len(sub_x))])\n",
    "    std_deviation_y = sum([sub_y[i]**2.0 for i in range(len(sub_y))])\n",
    "    denominator = (std_deviation_x*std_deviation_y)**0.5 \n",
    "    cor = numerator/denominator\n",
    "    return cor\n",
    "correlation(X_train,y_train)"
   ]
  },
  {
   "cell_type": "code",
   "execution_count": 43,
   "id": "58b0db7d",
   "metadata": {},
   "outputs": [
    {
     "data": {
      "text/plain": [
       "array([[-0.056565  ,  0.36077829,  0.00092601,  0.20789677]])"
      ]
     },
     "execution_count": 43,
     "metadata": {},
     "output_type": "execute_result"
    }
   ],
   "source": [
    "#Kiểm tra lại bằng thư viện sklearn \n",
    "from sklearn.linear_model import LinearRegression\n",
    "LR = LinearRegression().fit(X_train,y_train)\n",
    "LR.intercept_\n",
    "LR.coef_"
   ]
  },
  {
   "cell_type": "code",
   "execution_count": 44,
   "id": "731a0b05",
   "metadata": {},
   "outputs": [
    {
     "data": {
      "text/plain": [
       "array([[-0.24413219],\n",
       "       [-0.09089638],\n",
       "       [-0.22555472],\n",
       "       ...,\n",
       "       [-0.26868264],\n",
       "       [-0.09677432],\n",
       "       [-0.09560331]])"
      ]
     },
     "execution_count": 44,
     "metadata": {},
     "output_type": "execute_result"
    }
   ],
   "source": [
    "y_predict = LR.predict(X_test)\n",
    "y_predict"
   ]
  },
  {
   "cell_type": "code",
   "execution_count": 45,
   "id": "9def50d2",
   "metadata": {},
   "outputs": [
    {
     "data": {
      "text/plain": [
       "<matplotlib.collections.PathCollection at 0x17700366670>"
      ]
     },
     "execution_count": 45,
     "metadata": {},
     "output_type": "execute_result"
    },
    {
     "data": {
      "image/png": "[encoded data removed]",
      "text/plain": [
       "<Figure size 432x288 with 1 Axes>"
      ]
     },
     "metadata": {
      "needs_background": "light"
     },
     "output_type": "display_data"
    }
   ],
   "source": [
    "plt.scatter(y_test,y_predict)"
   ]
  },
  {
   "cell_type": "code",
   "execution_count": 46,
   "id": "5c1e2b2b",
   "metadata": {},
   "outputs": [
    {
     "name": "stderr",
     "output_type": "stream",
     "text": [
      "C:\\ProgramData\\Anaconda3\\lib\\site-packages\\seaborn\\distributions.py:2557: FutureWarning: `distplot` is a deprecated function and will be removed in a future version. Please adapt your code to use either `displot` (a figure-level function with similar flexibility) or `histplot` (an axes-level function for histograms).\n",
      "  warnings.warn(msg, FutureWarning)\n"
     ]
    },
    {
     "data": {
      "text/plain": [
       "<AxesSubplot:ylabel='Density'>"
      ]
     },
     "execution_count": 46,
     "metadata": {},
     "output_type": "execute_result"
    },
    {
     "data": {
      "image/png": "[encoded data removed]",
      "text/plain": [
       "<Figure size 432x288 with 1 Axes>"
      ]
     },
     "metadata": {
      "needs_background": "light"
     },
     "output_type": "display_data"
    }
   ],
   "source": [
    "sns.distplot(y_test - y_predict)"
   ]
  },
  {
   "cell_type": "code",
   "execution_count": 47,
   "id": "2d51f56f",
   "metadata": {},
   "outputs": [
    {
     "data": {
      "text/plain": [
       "array([0.54559685])"
      ]
     },
     "execution_count": 47,
     "metadata": {},
     "output_type": "execute_result"
    }
   ],
   "source": [
    "MAE = sum(abs(y_test - y_predict))/len(y_test)\n",
    "MAE"
   ]
  },
  {
   "cell_type": "code",
   "execution_count": 48,
   "id": "81f06499",
   "metadata": {},
   "outputs": [
    {
     "data": {
      "text/plain": [
       "array([0.68152875])"
      ]
     },
     "execution_count": 48,
     "metadata": {},
     "output_type": "execute_result"
    }
   ],
   "source": [
    "MSE = sum(pow(y_test - y_predict,2))/len(y_test)\n",
    "MSE"
   ]
  },
  {
   "cell_type": "code",
   "execution_count": 49,
   "id": "eb5e1305",
   "metadata": {},
   "outputs": [
    {
     "data": {
      "text/plain": [
       "0.8255475475987137"
      ]
     },
     "execution_count": 49,
     "metadata": {},
     "output_type": "execute_result"
    }
   ],
   "source": [
    "RMSE = math.sqrt(MSE)\n",
    "RMSE"
   ]
  },
  {
   "cell_type": "code",
   "execution_count": null,
   "id": "83793ad5",
   "metadata": {},
   "outputs": [],
   "source": [
    "#RMSE cho thấy giá trị chênh lệch trung bình của giá dự đoán  là 0.8255475475987137"
   ]
  },
  {
   "cell_type": "code",
   "execution_count": null,
   "id": "b5211ec1",
   "metadata": {},
   "outputs": [],
   "source": []
  },
  {
   "cell_type": "code",
   "execution_count": 50,
   "id": "1f56cf94",
   "metadata": {},
   "outputs": [
    {
     "data": {
      "text/html": [
       "<div>\n",
       "<style scoped>\n",
       "    .dataframe tbody tr th:only-of-type {\n",
       "        vertical-align: middle;\n",
       "    }\n",
       "\n",
       "    .dataframe tbody tr th {\n",
       "        vertical-align: top;\n",
       "    }\n",
       "\n",
       "    .dataframe thead th {\n",
       "        text-align: right;\n",
       "    }\n",
       "</style>\n",
       "<table border=\"1\" class=\"dataframe\">\n",
       "  <thead>\n",
       "    <tr style=\"text-align: right;\">\n",
       "      <th></th>\n",
       "      <th>Coefficient</th>\n",
       "    </tr>\n",
       "  </thead>\n",
       "  <tbody>\n",
       "    <tr>\n",
       "      <th>bed</th>\n",
       "      <td>-0.056565</td>\n",
       "    </tr>\n",
       "    <tr>\n",
       "      <th>bath</th>\n",
       "      <td>0.360778</td>\n",
       "    </tr>\n",
       "    <tr>\n",
       "      <th>acre_lot</th>\n",
       "      <td>0.000926</td>\n",
       "    </tr>\n",
       "    <tr>\n",
       "      <th>house_size</th>\n",
       "      <td>0.207897</td>\n",
       "    </tr>\n",
       "  </tbody>\n",
       "</table>\n",
       "</div>"
      ],
      "text/plain": [
       "            Coefficient\n",
       "bed           -0.056565\n",
       "bath           0.360778\n",
       "acre_lot       0.000926\n",
       "house_size     0.207897"
      ]
     },
     "execution_count": 50,
     "metadata": {},
     "output_type": "execute_result"
    }
   ],
   "source": [
    "coeff_df = pd.DataFrame(theta,x.columns,columns=['Coefficient'])\n",
    "coeff_df"
   ]
  },
  {
   "cell_type": "code",
   "execution_count": 94,
   "id": "2a5754d0",
   "metadata": {},
   "outputs": [
    {
     "name": "stdout",
     "output_type": "stream",
     "text": [
      "Dữ liệu cần dự đoán:\n",
      " [ 0.20783747  0.1628398  -0.00885262  0.0966363 ]\n",
      "\n",
      "Dự đoán của phương pháp đầu tiên: 0.067 \n",
      "Giá trị thực tế:  0.640 \n"
     ]
    }
   ],
   "source": [
    "import random\n",
    "# Chọn 1 điểm dữ liệu trong tập dữ liệu và dự đoán\n",
    "i = random.randint(1, len(y_test))\n",
    "x_1 = X_test[i]\n",
    "y_1 = y_test[i][0]\n",
    "hypothesis = x_1.dot(theta)[0]\n",
    "print('Dữ liệu cần dự đoán:\\n', x_1)\n",
    "print()\n",
    "print('Dự đoán của phương pháp đầu tiên: {:.3f} '.format(hypothesis))\n",
    "print('Giá trị thực tế:  {:.3f} '.format(y_1))"
   ]
  },
  {
   "cell_type": "code",
   "execution_count": null,
   "id": "30e51f83",
   "metadata": {},
   "outputs": [],
   "source": []
  },
  {
   "cell_type": "code",
   "execution_count": 52,
   "id": "16d622d1",
   "metadata": {},
   "outputs": [
    {
     "name": "stdout",
     "output_type": "stream",
     "text": [
      "Iter 0. Loss = 0.665987600249239\n",
      "Iter 1000. Loss = 0.4096965541824052\n",
      "Iter 2000. Loss = 0.4096965541824052\n",
      "Iter 3000. Loss = 0.4096965541824052\n",
      "Iter 4000. Loss = 0.4096965541824052\n",
      "Iter 5000. Loss = 0.4096965541824052\n",
      "Iter 6000. Loss = 0.4096965541824052\n",
      "Iter 7000. Loss = 0.4096965541824052\n",
      "Iter 8000. Loss = 0.4096965541824052\n",
      "Iter 9000. Loss = 0.4096965541824052\n",
      "Iter 10000. Loss = 0.4096965541824052\n"
     ]
    }
   ],
   "source": [
    "###\n",
    "def dL(X, y, theta):\n",
    "    theta = theta.reshape(-1, 1)\n",
    "    m = len(X)\n",
    "    return -(1/m) * np.sum(X * (y - X @ theta), axis=0)\n",
    "\n",
    "def gradient_descent():\n",
    "    m, n = X_train.shape\n",
    "    # Khởi tạo theta ngẫu nhiên\n",
    "    theta = np.random.randn(n)\n",
    "    # Chọn các tham số như số lần lặp và hệ số alpha\n",
    "    iterations = 10001\n",
    "    alpha = 1\n",
    "    for i in range(iterations):\n",
    "        # Cập nhật theta theo công thức của GD\n",
    "        theta = theta - alpha * dL(X_train, y_train, theta)\n",
    "        # Tính hàm mất mát\n",
    "        loss = loss_multivariate(X_train, y_train, theta)\n",
    "        if i % 1000 == 0:\n",
    "            # Xuất giá trị mất mát ra để theo dõi\n",
    "            print('Iter {}. Loss = {}'.format(i, loss))\n",
    "    return theta\n",
    "\n",
    "theta_gd = gradient_descent()"
   ]
  },
  {
   "cell_type": "code",
   "execution_count": 53,
   "id": "340bcf68",
   "metadata": {},
   "outputs": [
    {
     "data": {
      "text/plain": [
       "0.4096965541824052"
      ]
     },
     "execution_count": 53,
     "metadata": {},
     "output_type": "execute_result"
    }
   ],
   "source": [
    "loss_multivariate(X_train, y_train, theta_gd)"
   ]
  },
  {
   "cell_type": "code",
   "execution_count": 54,
   "id": "6994ac17",
   "metadata": {},
   "outputs": [
    {
     "data": {
      "text/html": [
       "<div>\n",
       "<style scoped>\n",
       "    .dataframe tbody tr th:only-of-type {\n",
       "        vertical-align: middle;\n",
       "    }\n",
       "\n",
       "    .dataframe tbody tr th {\n",
       "        vertical-align: top;\n",
       "    }\n",
       "\n",
       "    .dataframe thead th {\n",
       "        text-align: right;\n",
       "    }\n",
       "</style>\n",
       "<table border=\"1\" class=\"dataframe\">\n",
       "  <thead>\n",
       "    <tr style=\"text-align: right;\">\n",
       "      <th></th>\n",
       "      <th>Coefficient</th>\n",
       "    </tr>\n",
       "  </thead>\n",
       "  <tbody>\n",
       "    <tr>\n",
       "      <th>bed</th>\n",
       "      <td>-0.056565</td>\n",
       "    </tr>\n",
       "    <tr>\n",
       "      <th>bath</th>\n",
       "      <td>0.360778</td>\n",
       "    </tr>\n",
       "    <tr>\n",
       "      <th>acre_lot</th>\n",
       "      <td>0.000926</td>\n",
       "    </tr>\n",
       "    <tr>\n",
       "      <th>house_size</th>\n",
       "      <td>0.207897</td>\n",
       "    </tr>\n",
       "  </tbody>\n",
       "</table>\n",
       "</div>"
      ],
      "text/plain": [
       "            Coefficient\n",
       "bed           -0.056565\n",
       "bath           0.360778\n",
       "acre_lot       0.000926\n",
       "house_size     0.207897"
      ]
     },
     "execution_count": 54,
     "metadata": {},
     "output_type": "execute_result"
    }
   ],
   "source": [
    "coeff_df2 = pd.DataFrame(theta_gd,x.columns,columns=['Coefficient'])\n",
    "coeff_df2"
   ]
  },
  {
   "cell_type": "code",
   "execution_count": 113,
   "id": "599e0c3a",
   "metadata": {},
   "outputs": [
    {
     "name": "stdout",
     "output_type": "stream",
     "text": [
      "Dữ liệu cần dự đoán:\n",
      " [ 0.60101356  0.53696117 -0.00900541  0.45352319]\n",
      "\n",
      "Dự đoán của phương pháp đầu tiên: 0.254 \n",
      "Giá trị thực tế: 0.645 \n"
     ]
    }
   ],
   "source": [
    "import random\n",
    "# Chọn 1 điểm dữ liệu trong tập dữ liệu và dự đoán\n",
    "j = random.randint(1, len(y_test))\n",
    "x_2 = X_test[j]\n",
    "y_2 = y_test[j][0]\n",
    "hypothesis2 = x_2.dot(theta_gd)\n",
    "print('Dữ liệu cần dự đoán:\\n', x_2)\n",
    "print()\n",
    "print('Dự đoán của phương pháp đầu tiên: {:.3f} '.format(hypothesis2))\n",
    "print('Giá trị thực tế: {:.3f} '.format(y_2))"
   ]
  },
  {
   "cell_type": "code",
   "execution_count": 96,
   "id": "1a8bdc0e",
   "metadata": {},
   "outputs": [],
   "source": [
    "# Ta thấy giữa Linear và gradient descent khi train không có khác biệt quá lớn về loss\n",
    "#--> MODLE lINEAR thích hợp với data đã cho"
   ]
  },
  {
   "cell_type": "code",
   "execution_count": null,
   "id": "ae72c756",
   "metadata": {},
   "outputs": [],
   "source": []
  },
  {
   "cell_type": "code",
   "execution_count": null,
   "id": "ce8a3744",
   "metadata": {},
   "outputs": [],
   "source": [
    "###KNN\n",
    "import time\n",
    "\n",
    "start = time.process_time()\n",
    "n_neigh = 10\n",
    "for row in range(len(X_test)):\n",
    "    euclidian_distance = np.sqrt(np.sum((X_train - X_test[row])**2, axis = 1 ))\n",
    "    y_pred[row] = y_train[np.argsort(euclidian_distance, axis = 0)[:n_neigh]].mean()* sigma_y + mu_y\n",
    "    \n",
    "RMSE = np.sqrt(np.mean((y_test - y_pred)**2))\n",
    "print(RMSE)\n",
    "print(time.process_time() - start)\n"
   ]
  },
  {
   "cell_type": "code",
   "execution_count": null,
   "id": "f3339564",
   "metadata": {},
   "outputs": [],
   "source": [
    "#Vì dữ liệu khá lớn, không thể chạy hết ->> Chọn Model Linear là model thích hợp cho dataset"
   ]
  }
 ],
 "metadata": {
  "kernelspec": {
   "display_name": "Python 3",
   "language": "python",
   "name": "python3"
  },
  "language_info": {
   "codemirror_mode": {
    "name": "ipython",
    "version": 3
   },
   "file_extension": ".py",
   "mimetype": "text/x-python",
   "name": "python",
   "nbconvert_exporter": "python",
   "pygments_lexer": "ipython3",
   "version": "3.8.8"
  }
 },
 "nbformat": 4,
 "nbformat_minor": 5
}
