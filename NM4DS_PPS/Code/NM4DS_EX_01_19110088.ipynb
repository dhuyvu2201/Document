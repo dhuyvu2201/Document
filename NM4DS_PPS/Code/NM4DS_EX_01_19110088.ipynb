{
  "nbformat": 4,
  "nbformat_minor": 0,
  "metadata": {
    "colab": {
      "name": "NM4DS_EX_01_19110088.ipynb",
      "provenance": [],
      "collapsed_sections": []
    },
    "kernelspec": {
      "name": "python3",
      "display_name": "Python 3"
    },
    "language_info": {
      "name": "python"
    }
  },
  "cells": [
    {
      "cell_type": "code",
      "execution_count": 2,
      "metadata": {
        "colab": {
          "base_uri": "https://localhost:8080/"
        },
        "id": "-Ju1KklNndD2",
        "outputId": "9e82cf5a-cb04-4b8c-9f6c-7d7fc1fce9d9"
      },
      "outputs": [
        {
          "output_type": "stream",
          "name": "stdout",
          "text": [
            "/usr/local/lib/python3.7/dist-packages/gdown/cli.py:131: FutureWarning: Option `--id` was deprecated in version 4.3.1 and will be removed in 5.0. You don't need to pass it anymore to use a file ID.\n",
            "  category=FutureWarning,\n",
            "Downloading...\n",
            "From: https://drive.google.com/uc?id=1p9BfIl6I7TCVsXYubbYLwo65SWUp-JdB\n",
            "To: /content/housing.csv\n",
            "100% 1.06M/1.06M [00:00<00:00, 75.9MB/s]\n"
          ]
        }
      ],
      "source": [
        "# https://drive.google.com/file/d/1p9BfIl6I7TCVsXYubbYLwo65SWUp-JdB/view\n",
        "!gdown --id 1p9BfIl6I7TCVsXYubbYLwo65SWUp-JdB"
      ]
    },
    {
      "cell_type": "code",
      "source": [
        ""
      ],
      "metadata": {
        "id": "y8ht60a41v9w"
      },
      "execution_count": null,
      "outputs": []
    },
    {
      "cell_type": "code",
      "source": [
        "import pandas as pd\n",
        "df = pd.read_csv('housing.csv')\n",
        "df=df.dropna()"
      ],
      "metadata": {
        "id": "XuuxBlCCnqS_"
      },
      "execution_count": 3,
      "outputs": []
    },
    {
      "cell_type": "markdown",
      "source": [
        "\n",
        "# Linear Regression\n",
        "Tìm hàm :\n",
        "\n",
        "\\begin{aligned}\n",
        " &Y_{i}=\\beta_{1}+\\beta_{2} X_{2 i}+\\beta_{3} X_{3 i}+\\ldots+\\beta_{k} X_{k i}+u_{i}\\\\\n",
        "\\end{aligned}\n",
        "\\begin{aligned}\n",
        "\\\\\n",
        "&\\left\\{\\begin{array}{l}\n",
        "Y_{1}=\\beta_{1}+\\beta_{2} X_{21}+\\beta_{3} X_{31}+\\ldots+\\beta_{k} X_{k 1}+u_{1} \\\\\n",
        "Y_{2}=\\beta_{1}+\\beta_{2} X_{22}+\\beta_{3} X_{32}+\\ldots+\\beta_{k} X_{k 2}+u_{2} \\\\\n",
        "\\cdots \\cdots \\cdots \\cdots \\cdots \\cdots \\cdots \\cdots \\cdots \\cdots \\cdots \\cdots \\cdots \\cdots \\cdots \\cdots \\cdots \\cdots \\cdots \\\\\n",
        "Y_{\\mathrm{n}}=\\beta_{1}+\\beta_{2} X_{2 n}+\\beta_{3} X_{3 \\mathrm{n}}+\\ldots+\\beta_{\\mathrm{k}} X_{k n}+u_{n}\n",
        "\\end{array}\\right.\\\\\n",
        "&\\mathrm{Y}=\\left(\\begin{array}{c}\n",
        "\\mathrm{Y}_{1} \\\\\n",
        "\\mathrm{Y}_{2} \\\\\n",
        "\\cdot \\\\\n",
        "\\cdot \\\\\n",
        "\\mathrm{Y}_{\\mathrm{n}}\n",
        "\\end{array}\\right) ; \\mathrm{X}=\\left(\\begin{array}{ccccc}\n",
        "1 & \\mathrm{X}_{21} & \\mathrm{X}_{31} & \\ldots & \\mathrm{X}_{\\mathrm{k} 1} \\\\\n",
        "1 & \\mathrm{X}_{22} & \\mathrm{X}_{32} & \\ldots & \\mathrm{X}_{\\mathrm{k} 2} \\\\\n",
        ". & \\cdot & . & \\ldots & . \\\\\n",
        ". & \\cdot & . & \\ldots & \\\\\n",
        "1 & \\mathrm{X}_{2 \\mathrm{n}} & \\mathrm{X}_{3 \\mathrm{n}} & & \\mathrm{X}_{\\mathrm{kn}}\n",
        "\\end{array}\\right)\\\\\n",
        "&\\mathrm{u}=\\left(\\begin{array}{c}\n",
        "\\mathrm{u}_{1} \\\\\n",
        "\\mathrm{u}_{2} \\\\\n",
        "\\cdot \\\\\n",
        "\\cdot \\\\\n",
        "\\mathrm{u}_{\\mathrm{n}}\n",
        "\\end{array}\\right) ; \\beta=\\left(\\begin{array}{c}\n",
        "\\beta_{1} \\\\\n",
        "\\beta_{2} \\\\\n",
        "\\cdot \\\\\n",
        "\\cdot \\\\\n",
        "\\beta_{\\mathrm{n}}\n",
        "\\end{array}\\right)\n",
        "\\end{aligned}\n",
        "Với a, b sao cho trung bình của bình phương sai số nhỏ nhất.\n",
        "Tức là:\n",
        "\n",
        "$ \\frac{1}{n} \\sum (Y-\\hat{Y})^2 = \\frac{1}{n} (Y- aX - b)^2$ đạt giá trị nhỏ nhất (*)\n",
        "\n",
        "Nghiệm của bài toán này:\n",
        "\n",
        "Z là ma trận rộng của X thêm 1 cột toàn 1.\n",
        "\n",
        "$(Z^TZ)^{-1}Z^TY$\n"
      ],
      "metadata": {
        "id": "GOLGQv3gG-G-"
      }
    },
    {
      "cell_type": "code",
      "source": [
        "import numpy as np\n",
        "X=df.iloc[:,[1,2,3,4,5,6]]\n",
        "Z = np.concatenate([ np.ones((len(X), 1)),X], axis = -1)\n",
        "Z"
      ],
      "metadata": {
        "colab": {
          "base_uri": "https://localhost:8080/"
        },
        "id": "gSpUkovaoSqy",
        "outputId": "a695f719-4f4f-497f-8a72-06144c599cdd"
      },
      "execution_count": 16,
      "outputs": [
        {
          "output_type": "execute_result",
          "data": {
            "text/plain": [
              "array([[1.0000e+00, 4.1000e+01, 8.8000e+02, ..., 3.2200e+02, 1.2600e+02,\n",
              "        8.3252e+00],\n",
              "       [1.0000e+00, 2.1000e+01, 7.0990e+03, ..., 2.4010e+03, 1.1380e+03,\n",
              "        8.3014e+00],\n",
              "       [1.0000e+00, 5.2000e+01, 1.4670e+03, ..., 4.9600e+02, 1.7700e+02,\n",
              "        7.2574e+00],\n",
              "       ...,\n",
              "       [1.0000e+00, 1.7000e+01, 2.2540e+03, ..., 1.0070e+03, 4.3300e+02,\n",
              "        1.7000e+00],\n",
              "       [1.0000e+00, 1.8000e+01, 1.8600e+03, ..., 7.4100e+02, 3.4900e+02,\n",
              "        1.8672e+00],\n",
              "       [1.0000e+00, 1.6000e+01, 2.7850e+03, ..., 1.3870e+03, 5.3000e+02,\n",
              "        2.3886e+00]])"
            ]
          },
          "metadata": {},
          "execution_count": 16
        }
      ]
    },
    {
      "cell_type": "code",
      "source": [
        "Y = df['median_house_value'].values\n",
        "Y = Y.reshape(-1, 1)\n",
        "Y"
      ],
      "metadata": {
        "colab": {
          "base_uri": "https://localhost:8080/"
        },
        "id": "avsq3LZhpXg0",
        "outputId": "0d61c7f2-72bc-414c-d146-95cbaa6ba466"
      },
      "execution_count": 5,
      "outputs": [
        {
          "output_type": "execute_result",
          "data": {
            "text/plain": [
              "array([[452600.],\n",
              "       [358500.],\n",
              "       [352100.],\n",
              "       ...,\n",
              "       [ 92300.],\n",
              "       [ 84700.],\n",
              "       [ 89400.]])"
            ]
          },
          "metadata": {},
          "execution_count": 5
        }
      ]
    },
    {
      "cell_type": "code",
      "source": [
        "L=np.matmul(np.matmul(np.linalg.inv(np.matmul(X.T, X)), X.T), Y)\n",
        "L"
      ],
      "metadata": {
        "id": "D1BbBf07vI1y",
        "colab": {
          "base_uri": "https://localhost:8080/"
        },
        "outputId": "39694ae0-da5a-4fbb-bcc3-a7c8f9e2dc01"
      },
      "execution_count": 8,
      "outputs": [
        {
          "output_type": "execute_result",
          "data": {
            "text/plain": [
              "array([[-4.61396473e+04],\n",
              "       [ 1.88212143e+03],\n",
              "       [-1.97331147e+01],\n",
              "       [ 1.00943796e+02],\n",
              "       [-3.53190219e+01],\n",
              "       [ 1.24803173e+02],\n",
              "       [ 4.77483808e+04]])"
            ]
          },
          "metadata": {},
          "execution_count": 8
        }
      ]
    },
    {
      "cell_type": "code",
      "source": [
        ""
      ],
      "metadata": {
        "id": "AVSgEk1b7d2r"
      },
      "execution_count": null,
      "outputs": []
    },
    {
      "cell_type": "code",
      "source": [
        ""
      ],
      "metadata": {
        "id": "nTOUTUgGI5uZ"
      },
      "execution_count": null,
      "outputs": []
    },
    {
      "cell_type": "markdown",
      "source": [
        "Tiếp tục từ (*)\n",
        "\n",
        "$ L = \\frac{1}{n} \\sum (Y-\\hat{Y})^2 = \\frac{1}{n} (Y- aX - b)^2$\n",
        "L đạt giá trị nhỏ nhất\n",
        "\n",
        "Đặt: $\\lambda$ là learning rate.\n",
        "\n",
        "a, b sẽ được cập nhật bằng công thức sau:\n",
        "\n",
        "*   $a = a - \\lambda \\frac{\\partial L}{\\partial a} = a - \\lambda \\frac{2 (Y-aX-b)(-X)}{n}$\n",
        "*   $b= b - \\lambda \\frac{\\partial L}{\\partial b} = b - \\lambda \\frac{2 (Y-aX-b) (-1)}{n}$\n",
        "\n",
        "Điều kiện dừng:\n",
        "\n",
        "1. Chạy cố định bao nhiêu vòng lặp.\n",
        "2. Sai số giữa a,b với biến cập nhật mới của nó nhỏ hơn một số cho trước (10^-6). $abs(a - \\bar{a}) < 10 ^{-6}$ hoặc $\\frac{\\bar{a}}{a} < 10^{-6}$\n",
        "3. $abs(L(a,b) - L(\\bar{a}, \\bar{b})) < 10^{-6} $ hoặc $abs(\\frac{L(\\bar{a},\\bar{b})}{L(a,b)})<10^{-6}$\n",
        "\n",
        "Nên lúc nào cũng kèm theo đk 1.\n",
        "\n",
        "\n",
        "\n"
      ],
      "metadata": {
        "id": "Kt5TJj7rKOng"
      }
    },
    {
      "cell_type": "code",
      "source": [
        "# Dựa trên để code\n",
        "\n",
        "import numpy as np\n",
        "\n",
        "# init\n",
        "a = 1\n",
        "b = 100\n",
        "num_itr = 53 # Số vòng lặp\n",
        "lr = 0.0001 # learing rate.\n",
        "\n",
        "for itr in range(num_itr):\n",
        "    a = a - lr * 2 * np.mean((Y - a* X -b )*(-X))\n",
        "    b = b - lr * 2 * np.mean((Y - a* X -b )*(-1))\n",
        "\n",
        "    if not itr % 10:\n",
        "        loss = np.mean(np.square(Y - a*X - b))\n",
        "        print(f'{itr} iter : {loss}')\n",
        "        print(\"\\na \",a ,\"\\b \",b)\n",
        "\n",
        "# final\n",
        "loss = np.mean(np.square(Y - a*X - b))\n",
        "print(\"\\nloss\",loss)"
      ],
      "metadata": {
        "colab": {
          "base_uri": "https://localhost:8080/"
        },
        "id": "xd5Ca6_YE7lZ",
        "outputId": "6bc568a8-365d-4eff-d8d5-34d8217206bb"
      },
      "execution_count": 14,
      "outputs": [
        {
          "output_type": "stream",
          "name": "stdout",
          "text": [
            "0 iter : 2158337762417781.8\n",
            "\n",
            "a  30891.395173976078 \b  -4388.437259119512\n",
            "10 iter : 2.9074532967205427e+68\n",
            "\n",
            "a  1.1312748663639402e+31 \b  -1.6552060185097894e+30\n",
            "20 iter : 3.9166564254321243e+121\n",
            "\n",
            "a  4.152116237636293e+57 \b  -6.0750998633755925e+56\n",
            "30 iter : 5.276163015991235e+174\n",
            "\n",
            "a  1.523950523735642e+84 \b  -2.2297428801771746e+83\n",
            "40 iter : 7.107566543379505e+227\n",
            "\n",
            "a  5.593353041860511e+110 \b  -8.183821539582527e+109\n",
            "50 iter : 9.57466666883811e+280\n",
            "\n",
            "a  2.0529274253733773e+137 \b  -3.0037066420148423e+136\n",
            "\n",
            "loss 4.045798129225641e+291\n"
          ]
        }
      ]
    },
    {
      "cell_type": "code",
      "source": [
        "from sys import breakpointhook\n",
        "# Dựa trên để code thêm đk dừng 2,3\n",
        "\n",
        "import numpy as np\n",
        "\n",
        "# init\n",
        "a = 1\n",
        "b = 100\n",
        "num_itr =53 # Số vòng lặp\n",
        "lr = 0.0001 # learing rate.\n",
        "er = 10 ** (-6)\n",
        "\n",
        "for itr in range(num_itr):\n",
        "    a_update = a - lr * 2 * np.mean((Y - a* X -b )*(-X))\n",
        "    b_update = b - lr * 2 * np.mean((Y - a* X -b )*(-1))\n",
        "\n",
        "    # ĐK 2\n",
        "    if abs(a-a_update) < er and abs(b-b_update) < er:\n",
        "        break\n",
        "    \n",
        "    # ĐK 3:\n",
        "    if abs(np.mean(np.square(Y - a*X - b)) - np.mean(np.square(Y - a_update*X - b_update))) < er:\n",
        "        loss = np.mean(np.square(Y - a*X - b))\n",
        "        print(f'{itr - 1} iter : {loss}')\n",
        "        break\n",
        "    a = a_update \n",
        "    b = b_update \n",
        "\n",
        "    if not itr % 10:\n",
        "        loss = np.mean(np.square(Y - a*X - b))\n",
        "        print(f'{itr} iter : {loss}')\n",
        "\n",
        "loss = np.mean(np.square(Y - a*X - b))\n",
        "print(\"\\nloss\",loss)"
      ],
      "metadata": {
        "colab": {
          "base_uri": "https://localhost:8080/"
        },
        "id": "4nb3Zww2FdIy",
        "outputId": "c483155f-e329-4575-a3f4-0972a6ee5344"
      },
      "execution_count": 15,
      "outputs": [
        {
          "output_type": "stream",
          "name": "stdout",
          "text": [
            "0 iter : 2158541052480228.0\n",
            "10 iter : 2.9104883045274676e+68\n",
            "20 iter : 3.9244654466464395e+121\n",
            "30 iter : 5.291699340610238e+174\n",
            "40 iter : 7.13526014997618e+227\n",
            "50 iter : 9.621094119449152e+280\n",
            "\n",
            "loss 4.06618742972753e+291\n"
          ]
        }
      ]
    },
    {
      "cell_type": "code",
      "source": [
        ""
      ],
      "metadata": {
        "id": "844rtO3UGWn_"
      },
      "execution_count": null,
      "outputs": []
    },
    {
      "cell_type": "markdown",
      "source": [
        ""
      ],
      "metadata": {
        "id": "ods4AKKkLpzN"
      }
    },
    {
      "cell_type": "markdown",
      "source": [
        "Sklearn\n"
      ],
      "metadata": {
        "id": "PQFXNcu97nEU"
      }
    },
    {
      "cell_type": "code",
      "source": [
        ""
      ],
      "metadata": {
        "id": "v46pc-jtFcco"
      },
      "execution_count": null,
      "outputs": []
    },
    {
      "cell_type": "code",
      "source": [
        "from sklearn.linear_model import LinearRegression\n",
        "LR = LinearRegression().fit(X,Y)\n",
        "# Nghiệm\n",
        "LR.coef_, LR.intercept_"
      ],
      "metadata": {
        "colab": {
          "base_uri": "https://localhost:8080/"
        },
        "id": "pkOT8A2d7d8K",
        "outputId": "54551a0f-808c-4d10-f36a-23b9e08350c1"
      },
      "execution_count": 9,
      "outputs": [
        {
          "output_type": "execute_result",
          "data": {
            "text/plain": [
              "(array([[ 0.00000000e+00,  1.88212143e+03, -1.97331147e+01,\n",
              "          1.00943796e+02, -3.53190219e+01,  1.24803173e+02,\n",
              "          4.77483808e+04]]), array([-46139.64730836]))"
            ]
          },
          "metadata": {},
          "execution_count": 9
        }
      ]
    }
  ]
}