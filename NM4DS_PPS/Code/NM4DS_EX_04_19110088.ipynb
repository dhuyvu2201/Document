{
 "cells": [
  {
   "cell_type": "code",
   "execution_count": 1,
   "id": "a0a3b8b2",
   "metadata": {},
   "outputs": [],
   "source": [
    "import pandas as pd\n",
    "import matplotlib.pyplot as plt\n",
    "\n",
    "from sklearn.datasets import make_blobs\n",
    "\n",
    "from sklearn.preprocessing import MinMaxScaler\n",
    "\n",
    "# Create dataframe of x, y and label values\n",
    "X, y = make_blobs(n_samples=10000, centers=3, n_features=3, cluster_std=1.5)\n",
    "# scaler = MinMaxScaler()\n",
    "# X_scaled = scaler.fit_transform(X)\n",
    "X_scaled = X\n",
    "df = pd.DataFrame(dict(x=X_scaled[:,0], y=X_scaled[:,1], label=y))\n",
    "\n",
    "# Create scatterplot with coloring based on assigned labels\n",
    "colors = {0:'red', 1:'blue', 2:'green', 3 : 'black'}\n",
    "\n",
    "# fig, ax = plt.subplots()\n",
    "# grouped = df.groupby('label')\n",
    "# for key, group in grouped:\n",
    "#     group.plot(ax=ax, kind='scatter', x='x', y='y', label=key, color=colors[key])\n",
    "# plt.show()   "
   ]
  },
  {
   "cell_type": "code",
   "execution_count": 8,
   "id": "69075b7a",
   "metadata": {},
   "outputs": [
    {
     "data": {
      "text/html": [
       "<div>\n",
       "<style scoped>\n",
       "    .dataframe tbody tr th:only-of-type {\n",
       "        vertical-align: middle;\n",
       "    }\n",
       "\n",
       "    .dataframe tbody tr th {\n",
       "        vertical-align: top;\n",
       "    }\n",
       "\n",
       "    .dataframe thead th {\n",
       "        text-align: right;\n",
       "    }\n",
       "</style>\n",
       "<table border=\"1\" class=\"dataframe\">\n",
       "  <thead>\n",
       "    <tr style=\"text-align: right;\">\n",
       "      <th></th>\n",
       "      <th>x</th>\n",
       "      <th>y</th>\n",
       "    </tr>\n",
       "  </thead>\n",
       "  <tbody>\n",
       "    <tr>\n",
       "      <th>0</th>\n",
       "      <td>-4.740892</td>\n",
       "      <td>-5.172672</td>\n",
       "    </tr>\n",
       "    <tr>\n",
       "      <th>1</th>\n",
       "      <td>-0.271467</td>\n",
       "      <td>-9.122067</td>\n",
       "    </tr>\n",
       "    <tr>\n",
       "      <th>2</th>\n",
       "      <td>2.174766</td>\n",
       "      <td>-8.277068</td>\n",
       "    </tr>\n",
       "    <tr>\n",
       "      <th>3</th>\n",
       "      <td>1.188197</td>\n",
       "      <td>-8.401416</td>\n",
       "    </tr>\n",
       "    <tr>\n",
       "      <th>4</th>\n",
       "      <td>0.218820</td>\n",
       "      <td>-9.383962</td>\n",
       "    </tr>\n",
       "  </tbody>\n",
       "</table>\n",
       "</div>"
      ],
      "text/plain": [
       "          x         y\n",
       "0 -4.740892 -5.172672\n",
       "1 -0.271467 -9.122067\n",
       "2  2.174766 -8.277068\n",
       "3  1.188197 -8.401416\n",
       "4  0.218820 -9.383962"
      ]
     },
     "execution_count": 8,
     "metadata": {},
     "output_type": "execute_result"
    }
   ],
   "source": [
    "points = df.drop('label', axis=1)\n",
    "points.head()"
   ]
  },
  {
   "cell_type": "code",
   "execution_count": 9,
   "id": "f3ea32ae",
   "metadata": {},
   "outputs": [
    {
     "data": {
      "image/png": "[encoded data removed]",
      "text/plain": [
       "<Figure size 432x288 with 1 Axes>"
      ]
     },
     "metadata": {
      "needs_background": "light"
     },
     "output_type": "display_data"
    }
   ],
   "source": [
    "# Scatter plot of our label-less data\n",
    "plt.scatter(points.x, points.y)\n",
    "plt.show()"
   ]
  },
  {
   "cell_type": "code",
   "execution_count": 10,
   "id": "d6a20ad7",
   "metadata": {},
   "outputs": [],
   "source": [
    "X=points.values"
   ]
  },
  {
   "cell_type": "code",
   "execution_count": 9,
   "id": "679a8c6d",
   "metadata": {},
   "outputs": [],
   "source": [
    "def Kmeans(X,k):\n",
    "    n = X.shape[0]\n",
    "    centers = X[np.random.choice(n, k, replace=False)]\n",
    "    closest = np.zeros(n).astype(int)\n",
    "\n",
    "    while True:\n",
    "        old_closest = closest.copy()\n",
    "        distances = cdist(X,centers)\n",
    "        closest = np.argmin(distances, axis=1)\n",
    "        for i in range(k):\n",
    "            centers[i, :] = X[closest == i].mean(axis = 0)\n",
    "        if all(closest == old_closest):\n",
    "            break\n",
    "\n",
    "    return closest, centers"
   ]
  },
  {
   "cell_type": "code",
   "execution_count": 33,
   "id": "32b47a7e",
   "metadata": {},
   "outputs": [
    {
     "data": {
      "text/plain": [
       "array([[-9.73395278, -0.23305715],\n",
       "       [ 4.43231004, -1.61182685],\n",
       "       [-6.41233126, -9.63416711]])"
      ]
     },
     "execution_count": 33,
     "metadata": {},
     "output_type": "execute_result"
    }
   ],
   "source": [
    "labels, centers = Kmeans(X,3)\n",
    "centers"
   ]
  },
  {
   "cell_type": "code",
   "execution_count": 32,
   "id": "96173a53",
   "metadata": {},
   "outputs": [
    {
     "name": "stdout",
     "output_type": "stream",
     "text": [
      "Centers found by scikit-learn:\n",
      "[[-9.73395278 -0.23305715]\n",
      " [ 4.43231004 -1.61182685]\n",
      " [-6.41233126 -9.63416711]]\n"
     ]
    }
   ],
   "source": [
    "from sklearn.cluster import KMeans\n",
    "kmeans = KMeans(n_clusters=3, random_state=0).fit(X)\n",
    "print('Centers found by scikit-learn:')\n",
    "print(kmeans.cluster_centers_)\n",
    "pred_label = kmeans.predict(X)\n"
   ]
  },
  {
   "cell_type": "code",
   "execution_count": 31,
   "id": "9fb82fc5",
   "metadata": {},
   "outputs": [
    {
     "data": {
      "image/png": "[encoded data removed]",
      "text/plain": [
       "<Figure size 432x288 with 1 Axes>"
      ]
     },
     "metadata": {
      "needs_background": "light"
     },
     "output_type": "display_data"
    }
   ],
   "source": [
    "sum_of_squared_distances = []\n",
    "H = range(1,20)\n",
    "#print(centers)\n",
    "for h in H:\n",
    "    labels, centers = Kmeans(X,h)\n",
    "    sum_of_squared_distances.append(np.average(np.min(cdist(X, centers), axis=1))) # WCV\n",
    "\n",
    "# Plot\n",
    "plt.plot(H, sum_of_squared_distances, 'bx-')\n",
    "plt.xlabel('h')\n",
    "plt.ylabel('Sum_of_squared_distances')\n",
    "plt.title('Elbow Method For Optimal k')\n",
    "plt.show() "
   ]
  },
  {
   "cell_type": "code",
   "execution_count": 37,
   "id": "7f1d48fb",
   "metadata": {},
   "outputs": [
    {
     "data": {
      "image/png": "[encoded data removed]",
      "text/plain": [
       "<Figure size 432x288 with 1 Axes>"
      ]
     },
     "metadata": {
      "needs_background": "light"
     },
     "output_type": "display_data"
    }
   ],
   "source": [
    "\n",
    "sum_of_squared_distances = []\n",
    "K = range(1,15)\n",
    "for k in K:\n",
    "    km = KMeans(n_clusters=k)\n",
    "    km = km.fit(points)\n",
    "    sum_of_squared_distances.append(np.average(np.min(cdist(points, km.cluster_centers_), axis=1)))\n",
    "# Plot\n",
    "plt.plot(K, sum_of_squared_distances, 'bx-')\n",
    "plt.xlabel('k')\n",
    "plt.ylabel('Sum_of_squared_distances')\n",
    "plt.title('Elbow Method For Optimal k')\n",
    "plt.show()   "
   ]
  },
  {
   "cell_type": "code",
   "execution_count": 36,
   "id": "dc724b30",
   "metadata": {},
   "outputs": [
    {
     "data": {
      "image/png": "[encoded data removed]",
      "text/plain": [
       "<Figure size 432x288 with 1 Axes>"
      ]
     },
     "metadata": {
      "needs_background": "light"
     },
     "output_type": "display_data"
    }
   ],
   "source": [
    "from sklearn.cluster import KMeans \n",
    "\n",
    "sum_of_squared_distances = []\n",
    "K = range(1,15)\n",
    "for k in K:\n",
    "    km = KMeans(n_clusters=k)\n",
    "    km = km.fit(points)\n",
    "    sum_of_squared_distances.append(km.inertia_) # WCV \n",
    "# Plot\n",
    "plt.plot(K, sum_of_squared_distances, 'bx-')\n",
    "plt.xlabel('k')\n",
    "plt.ylabel('Sum_of_squared_distances')\n",
    "plt.title('Elbow Method For Optimal k')\n",
    "plt.show()"
   ]
  },
  {
   "cell_type": "code",
   "execution_count": 11,
   "id": "09f51878",
   "metadata": {},
   "outputs": [],
   "source": [
    "C1=(df.loc[df['label']==0].drop('label', axis=1)).values\n",
    "C2=(df.loc[df['label']==1].drop('label', axis=1)).values\n",
    "C3=(df.loc[df['label']==2].drop('label', axis=1)).values\n"
   ]
  },
  {
   "cell_type": "code",
   "execution_count": 14,
   "id": "891ec123",
   "metadata": {},
   "outputs": [],
   "source": [
    "import math as m\n",
    "def kc(x,y):\n",
    "    d=m.sqrt(m.pow((x[0]-y[0]),2)+ m.pow((x[1]-y[1]),2))\n",
    "    return d\n",
    "def single(C_1, C_2):\n",
    "    list_result = []\n",
    "    for i in C_1: \n",
    "        for j in C_2:\n",
    "            list_result.append(kc(i,j))\n",
    "    return min(list_result)\n",
    "\n",
    "def complete(C_1, C_2):\n",
    "    \n",
    "    list_result = []\n",
    "\n",
    "    for i in C_1: \n",
    "        for j in C_2:\n",
    "            list_result.append(kc(i,j)) \n",
    "            \n",
    "    return max(list_result)\n",
    "\n",
    "def average(C_1, C_2):\n",
    "    list_result = []\n",
    "    result = 0\n",
    "    for i in C_1: \n",
    "        for j in C_2:\n",
    "            result += kc(i,j)\n",
    "            list_result.append(result)\n",
    "    return ((result)/(len(C_1)*len(C_2)))\n"
   ]
  },
  {
   "cell_type": "code",
   "execution_count": 15,
   "id": "0c61043f",
   "metadata": {},
   "outputs": [
    {
     "name": "stdout",
     "output_type": "stream",
     "text": [
      "Single =  0.005223007616000673\n",
      "Complete =  16.71099093971422\n",
      "Average =  7.0409321983088615\n"
     ]
    }
   ],
   "source": [
    "print(\"Single = \", single(C1,C2))\n",
    "print(\"Complete = \", complete(C1,C2))\n",
    "print(\"Average = \", average(C1,C2))"
   ]
  },
  {
   "cell_type": "code",
   "execution_count": 19,
   "id": "f0dd0a0f",
   "metadata": {},
   "outputs": [],
   "source": [
    "from scipy.spatial.distance import cdist\n",
    "def cdist_single(C_1, C_2):\n",
    "    c=[]\n",
    "    d=cdist(C_2,C_1) \n",
    "    for i in range(len(d)): \n",
    "        c.append(min(d[i]))\n",
    "    return min(c)\n",
    "def cdist_complete(C_1, C_2):\n",
    "    c=[]\n",
    "    d=cdist(C_2,C_1) \n",
    "    \n",
    "    for i in range(len(d)): \n",
    "        c.append(max(d[i]))\n",
    "    return max(c)\n",
    "def cdist_average(C_1, C_2):\n",
    "    d=cdist(C_2,C_1) \n",
    "    s=0\n",
    "    for i in range(len(d)): \n",
    "        s+=sum(d[i])\n",
    "    return s/(len(C_1)*len(C_2))"
   ]
  },
  {
   "cell_type": "code",
   "execution_count": 20,
   "id": "7d628af2",
   "metadata": {},
   "outputs": [
    {
     "name": "stdout",
     "output_type": "stream",
     "text": [
      "Cdist_Single =  0.005223007616000673\n",
      "Cdist_Complete =  16.71099093971422\n",
      "Cdist_Average =  7.040932198309365\n"
     ]
    }
   ],
   "source": [
    "print(\"Cdist_Single = \",cdist_single(C1, C2) )\n",
    "print(\"Cdist_Complete = \", cdist_complete(C1, C2))\n",
    "print(\"Cdist_Average = \", cdist_average(C1, C2))"
   ]
  },
  {
   "cell_type": "code",
   "execution_count": null,
   "id": "d67a701f",
   "metadata": {},
   "outputs": [],
   "source": []
  }
 ],
 "metadata": {
  "kernelspec": {
   "display_name": "Python 3",
   "language": "python",
   "name": "python3"
  },
  "language_info": {
   "codemirror_mode": {
    "name": "ipython",
    "version": 3
   },
   "file_extension": ".py",
   "mimetype": "text/x-python",
   "name": "python",
   "nbconvert_exporter": "python",
   "pygments_lexer": "ipython3",
   "version": "3.8.8"
  }
 },
 "nbformat": 4,
 "nbformat_minor": 5
}
