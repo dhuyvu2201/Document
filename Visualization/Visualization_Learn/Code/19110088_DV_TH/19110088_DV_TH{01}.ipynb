{
 "cells": [
  {
   "cell_type": "code",
   "execution_count": 1,
   "id": "95673592",
   "metadata": {},
   "outputs": [],
   "source": [
    "import seaborn as sns\n",
    "import pandas as pd\n",
    "import matplotlib.pyplot as plt\n",
    "import numpy as np"
   ]
  },
  {
   "cell_type": "code",
   "execution_count": 2,
   "id": "f8d8a600",
   "metadata": {},
   "outputs": [],
   "source": [
    "df=pd.read_csv('COVID-19.csv')\n"
   ]
  },
  {
   "cell_type": "code",
   "execution_count": 3,
   "id": "d82ea4a2",
   "metadata": {},
   "outputs": [],
   "source": [
    "\n",
    "day=df.day\n",
    "month = df.month\n",
    "year=df.year\n",
    "cases=df.cases\n",
    "deaths=df.deaths\n",
    "country=df.countriesAndTerritories\n",
    "Exp = df.continentExp"
   ]
  },
  {
   "cell_type": "code",
   "execution_count": 4,
   "id": "56b33f20",
   "metadata": {},
   "outputs": [
    {
     "name": "stderr",
     "output_type": "stream",
     "text": [
      "C:\\ProgramData\\Anaconda3\\lib\\site-packages\\seaborn\\distributions.py:2557: FutureWarning: `distplot` is a deprecated function and will be removed in a future version. Please adapt your code to use either `displot` (a figure-level function with similar flexibility) or `histplot` (an axes-level function for histograms).\n",
      "  warnings.warn(msg, FutureWarning)\n",
      "C:\\ProgramData\\Anaconda3\\lib\\site-packages\\seaborn\\distributions.py:2557: FutureWarning: `distplot` is a deprecated function and will be removed in a future version. Please adapt your code to use either `displot` (a figure-level function with similar flexibility) or `histplot` (an axes-level function for histograms).\n",
      "  warnings.warn(msg, FutureWarning)\n"
     ]
    },
    {
     "data": {
      "image/png": "[encoded data removed]",
      "text/plain": [
       "<Figure size 432x288 with 2 Axes>"
      ]
     },
     "metadata": {
      "needs_background": "light"
     },
     "output_type": "display_data"
    }
   ],
   "source": [
    "#b) Vẽ 2 đồ thị histogram của columns casses và deaths trên cùng một cửa sổ (figure). (subplot)\n",
    "plt.subplot(1,2,1)\n",
    "sns.distplot(cases);\n",
    "plt.subplot(1,2,2)\n",
    "sns.distplot(deaths);\n",
    "plt.show()"
   ]
  },
  {
   "cell_type": "code",
   "execution_count": 5,
   "id": "a179fbc2",
   "metadata": {},
   "outputs": [
    {
     "name": "stdout",
     "output_type": "stream",
     "text": [
      "Suriname -cases: 5133 - deaths: 109\n",
      "Bosnia_and_Herzegovina -cases: 34661 - deaths: 997\n",
      "Ethiopia -cases: 89860 - deaths: 1365\n",
      "Andorra -cases: 3623 - deaths: 62\n",
      "Belize -cases: 2833 - deaths: 45\n",
      "Malta -cases: 4737 - deaths: 45\n",
      "United_Kingdom -cases: 741212 - deaths: 43726\n",
      "Burundi -cases: 549 - deaths: 1\n",
      "Cambodia -cases: 285 - deaths: 0\n",
      "Finland -cases: 13555 - deaths: 351\n",
      "Aruba -cases: 4334 - deaths: 34\n",
      "Bhutan -cases: 330 - deaths: 0\n",
      "Slovenia -cases: 14477 - deaths: 164\n",
      "Turkey -cases: 349519 - deaths: 9371\n",
      "Namibia -cases: 12326 - deaths: 131\n",
      "Israel -cases: 304876 - deaths: 2263\n",
      "Oman -cases: 110594 - deaths: 1114\n",
      "Ireland -cases: 50993 - deaths: 1852\n",
      "Anguilla -cases: 3 - deaths: 0\n",
      "Lesotho -cases: 1833 - deaths: 42\n",
      "Iran -cases: 534631 - deaths: 30712\n",
      "Peru -cases: 870876 - deaths: 33820\n",
      "Cayman_Islands -cases: 235 - deaths: 1\n",
      "Montenegro -cases: 15760 - deaths: 240\n",
      "Sri_Lanka -cases: 5625 - deaths: 13\n",
      "Djibouti -cases: 5469 - deaths: 61\n",
      "Gambia -cases: 3655 - deaths: 118\n",
      "Falkland_Islands_(Malvinas) -cases: 13 - deaths: 0\n",
      "Guinea -cases: 11518 - deaths: 70\n",
      "Honduras -cases: 89381 - deaths: 2576\n",
      "Jamaica -cases: 8321 - deaths: 173\n",
      "Kyrgyzstan -cases: 52910 - deaths: 1113\n",
      "Qatar -cases: 129671 - deaths: 224\n",
      "South_Korea -cases: 25333 - deaths: 447\n",
      "Bolivia -cases: 139890 - deaths: 8502\n",
      "Kazakhstan -cases: 145603 - deaths: 2155\n",
      "Colombia -cases: 965883 - deaths: 29102\n",
      "Kosovo -cases: 17009 - deaths: 656\n",
      "Niger -cases: 1211 - deaths: 69\n",
      "Saint_Kitts_and_Nevis -cases: 19 - deaths: 0\n",
      "Italy -cases: 423578 - deaths: 36616\n",
      "French_Polynesia -cases: 3797 - deaths: 14\n",
      "Seychelles -cases: 149 - deaths: 0\n",
      "Denmark -cases: 35844 - deaths: 686\n",
      "Chad -cases: 1390 - deaths: 93\n",
      "United_Arab_Emirates -cases: 116517 - deaths: 466\n",
      "Uzbekistan -cases: 63737 - deaths: 533\n",
      "Turks_and_Caicos_islands -cases: 698 - deaths: 6\n",
      "Zambia -cases: 15897 - deaths: 346\n",
      "Slovakia -cases: 30695 - deaths: 92\n",
      "Cape_Verde -cases: 7800 - deaths: 87\n",
      "Tunisia -cases: 42727 - deaths: 687\n",
      "United_States_Virgin_Islands -cases: 1336 - deaths: 21\n",
      "Eswatini -cases: 5788 - deaths: 116\n",
      "Japan -cases: 93480 - deaths: 1676\n",
      "Liberia -cases: 1381 - deaths: 82\n",
      "Panama -cases: 125181 - deaths: 2574\n",
      "Nigeria -cases: 61558 - deaths: 1125\n",
      "Egypt -cases: 105547 - deaths: 6130\n",
      "Gibraltar -cases: 577 - deaths: 0\n",
      "Togo -cases: 2071 - deaths: 51\n",
      "France -cases: 910277 - deaths: 33623\n",
      "Cameroon -cases: 21506 - deaths: 424\n",
      "Lithuania -cases: 7726 - deaths: 113\n",
      "Syria -cases: 5134 - deaths: 251\n",
      "Laos -cases: 23 - deaths: 0\n",
      "United_Republic_of_Tanzania -cases: 509 - deaths: 21\n",
      "Dominican_Republic -cases: 121667 - deaths: 2203\n",
      "Senegal -cases: 15432 - deaths: 319\n",
      "Rwanda -cases: 4992 - deaths: 34\n",
      "India -cases: 7597063 - deaths: 115197\n",
      "El_Salvador -cases: 31666 - deaths: 926\n",
      "Sierra_Leone -cases: 2331 - deaths: 73\n",
      "Angola -cases: 7622 - deaths: 247\n",
      "Georgia -cases: 18663 - deaths: 143\n",
      "Kuwait -cases: 116832 - deaths: 710\n",
      "Mexico -cases: 854926 - deaths: 86338\n",
      "Jordan -cases: 38937 - deaths: 380\n",
      "Serbia -cases: 36282 - deaths: 778\n",
      "British_Virgin_Islands -cases: 72 - deaths: 1\n",
      "Ecuador -cases: 153423 - deaths: 12395\n",
      "Nicaragua -cases: 5353 - deaths: 154\n",
      "Liechtenstein -cases: 227 - deaths: 1\n",
      "Ghana -cases: 47372 - deaths: 310\n",
      "Philippines -cases: 359169 - deaths: 6675\n",
      "Chile -cases: 493305 - deaths: 13676\n",
      "Cote_dIvoire -cases: 20324 - deaths: 121\n",
      "Armenia -cases: 65460 - deaths: 1091\n",
      "Paraguay -cases: 55452 - deaths: 1207\n",
      "Indonesia -cases: 365240 - deaths: 12617\n",
      "Zimbabwe -cases: 8159 - deaths: 232\n",
      "Burkina_Faso -cases: 2387 - deaths: 65\n",
      "Holy_See -cases: 26 - deaths: 0\n",
      "Nepal -cases: 136036 - deaths: 757\n",
      "Sao_Tome_and_Principe -cases: 933 - deaths: 15\n",
      "Bonaire, Saint Eustatius and Saba -cases: 150 - deaths: 3\n",
      "Moldova -cases: 67302 - deaths: 1601\n",
      "Costa_Rica -cases: 97075 - deaths: 1204\n",
      "Bangladesh -cases: 390206 - deaths: 5681\n",
      "Portugal -cases: 101860 - deaths: 2198\n",
      "Dominica -cases: 33 - deaths: 0\n",
      "Trinidad_and_Tobago -cases: 5298 - deaths: 97\n",
      "Germany -cases: 373167 - deaths: 9836\n",
      "Cases_on_an_international_conveyance_Japan -cases: 696 - deaths: 7\n",
      "Barbados -cases: 222 - deaths: 7\n",
      "Cyprus -cases: 2687 - deaths: 25\n",
      "Venezuela -cases: 86636 - deaths: 736\n",
      "Central_African_Republic -cases: 4856 - deaths: 62\n",
      "Kenya -cases: 45076 - deaths: 839\n",
      "Sweden -cases: 103200 - deaths: 5918\n",
      "Mozambique -cases: 11080 - deaths: 75\n",
      "Somalia -cases: 3890 - deaths: 101\n",
      "Eritrea -cases: 452 - deaths: 0\n",
      "Estonia -cases: 4085 - deaths: 68\n",
      "Maldives -cases: 11232 - deaths: 37\n",
      "Iraq -cases: 430678 - deaths: 10317\n",
      "South_Africa -cases: 705254 - deaths: 18492\n",
      "Yemen -cases: 2060 - deaths: 599\n",
      "Lebanon -cases: 62944 - deaths: 526\n",
      "Saint_Vincent_and_the_Grenadines -cases: 67 - deaths: 0\n",
      "Congo -cases: 5156 - deaths: 92\n",
      "Canada -cases: 201437 - deaths: 9778\n",
      "Malawi -cases: 5860 - deaths: 181\n",
      "Saint_Lucia -cases: 36 - deaths: 0\n",
      "Spain -cases: 974449 - deaths: 33992\n",
      "San_Marino -cases: 766 - deaths: 42\n",
      "Mali -cases: 3407 - deaths: 132\n",
      "Greenland -cases: 16 - deaths: 0\n",
      "Myanmar -cases: 37205 - deaths: 914\n",
      "Belarus -cases: 88290 - deaths: 933\n",
      "Libya -cases: 49949 - deaths: 732\n",
      "Guyana -cases: 3765 - deaths: 111\n",
      "Romania -cases: 182854 - deaths: 5931\n",
      "Albania -cases: 17350 - deaths: 454\n",
      "Guinea_Bissau -cases: 2389 - deaths: 41\n",
      "Antigua_and_Barbuda -cases: 119 - deaths: 3\n",
      "Australia -cases: 27399 - deaths: 905\n",
      "Malaysia -cases: 21363 - deaths: 190\n",
      "Algeria -cases: 54616 - deaths: 1865\n",
      "Faroe_Islands -cases: 485 - deaths: 0\n",
      "Latvia -cases: 3494 - deaths: 42\n",
      "Fiji -cases: 32 - deaths: 2\n",
      "Luxembourg -cases: 10888 - deaths: 133\n",
      "Czechia -cases: 181962 - deaths: 1513\n",
      "Jersey -cases: 509 - deaths: 32\n",
      "Austria -cases: 66611 - deaths: 919\n",
      "Azerbaijan -cases: 45295 - deaths: 630\n",
      "Cuba -cases: 6258 - deaths: 127\n",
      "Pakistan -cases: 323452 - deaths: 6659\n",
      "Taiwan -cases: 540 - deaths: 7\n",
      "Uruguay -cases: 2560 - deaths: 51\n",
      "China -cases: 91006 - deaths: 4739\n",
      "Sudan -cases: 13697 - deaths: 836\n",
      "Grenada -cases: 27 - deaths: 0\n",
      "Bahamas -cases: 5773 - deaths: 123\n",
      "Sint_Maarten -cases: 756 - deaths: 22\n",
      "Argentina -cases: 1002649 - deaths: 26716\n",
      "Mauritania -cases: 7608 - deaths: 163\n",
      "Solomon_Islands -cases: 3 - deaths: 0\n",
      "United_States_of_America -cases: 8214755 - deaths: 220133\n",
      "Uganda -cases: 10691 - deaths: 97\n",
      "Gabon -cases: 8884 - deaths: 54\n",
      "Guatemala -cases: 101599 - deaths: 3541\n",
      "Western_Sahara -cases: 766 - deaths: 1\n",
      "Bahrain -cases: 78224 - deaths: 302\n",
      "South_Sudan -cases: 2847 - deaths: 55\n",
      "Montserrat -cases: 13 - deaths: 1\n",
      "Ukraine -cases: 309107 - deaths: 5786\n",
      "Brazil -cases: 5250727 - deaths: 154176\n",
      "North_Macedonia -cases: 23788 - deaths: 846\n",
      "Hungary -cases: 48757 - deaths: 1211\n",
      "Greece -cases: 25802 - deaths: 520\n",
      "Singapore -cases: 57915 - deaths: 28\n",
      "Vietnam -cases: 1140 - deaths: 35\n",
      "Iceland -cases: 4101 - deaths: 11\n",
      "Belgium -cases: 230387 - deaths: 10443\n",
      "Guernsey -cases: 258 - deaths: 13\n",
      "Croatia -cases: 25973 - deaths: 374\n",
      "Mongolia -cases: 326 - deaths: 0\n",
      "Democratic_Republic_of_the_Congo -cases: 11051 - deaths: 302\n",
      "Papua_New_Guinea -cases: 581 - deaths: 7\n",
      "Russia -cases: 1415316 - deaths: 24366\n",
      "Northern_Mariana_Islands -cases: 88 - deaths: 2\n",
      "Botswana -cases: 5609 - deaths: 21\n",
      "Timor_Leste -cases: 29 - deaths: 0\n",
      "Puerto_Rico -cases: 57950 - deaths: 768\n",
      "Thailand -cases: 3700 - deaths: 59\n",
      "Tajikistan -cases: 10533 - deaths: 80\n",
      "Brunei_Darussalam -cases: 147 - deaths: 3\n",
      "Madagascar -cases: 16810 - deaths: 238\n",
      "Benin -cases: 2496 - deaths: 41\n",
      "Haiti -cases: 8976 - deaths: 231\n",
      "Poland -cases: 183248 - deaths: 3614\n",
      "Bulgaria -cases: 30527 - deaths: 1008\n",
      "New_Caledonia -cases: 27 - deaths: 0\n",
      "Morocco -cases: 175749 - deaths: 2976\n",
      "Comoros -cases: 502 - deaths: 7\n",
      "Saudi_Arabia -cases: 342583 - deaths: 5201\n",
      "New_Zealand -cases: 1531 - deaths: 25\n",
      "Bermuda -cases: 185 - deaths: 9\n",
      "Switzerland -cases: 83159 - deaths: 1837\n",
      "Equatorial_Guinea -cases: 5070 - deaths: 83\n",
      "Palestine -cases: 59082 - deaths: 481\n",
      "Curaçao -cases: 751 - deaths: 1\n",
      "Netherlands -cases: 235954 - deaths: 6759\n",
      "Isle_of_Man -cases: 348 - deaths: 24\n",
      "Norway -cases: 16456 - deaths: 278\n",
      "Afghanistan -cases: 40287 - deaths: 1497\n",
      "Monaco -cases: 268 - deaths: 1\n",
      "Mauritius -cases: 419 - deaths: 10\n",
      "Guam -cases: 3756 - deaths: 66\n"
     ]
    }
   ],
   "source": [
    "#c)Thống kê tổng số cases và deaths của từng quốc gia.\n",
    "x=list(set(country))\n",
    "for i in range(len(x)):\n",
    "    a = df.loc[(country == x[i])].cases.sum()\n",
    "    b = df.loc[(country == x[i])].deaths.sum()\n",
    "    print(x[i] ,'-cases:',a,'- deaths:',b)"
   ]
  },
  {
   "cell_type": "code",
   "execution_count": 6,
   "id": "66e68f0a",
   "metadata": {},
   "outputs": [
    {
     "name": "stderr",
     "output_type": "stream",
     "text": [
      "<ipython-input-6-8e60c4d3ba0e>:12: SettingWithCopyWarning: \n",
      "A value is trying to be set on a copy of a slice from a DataFrame\n",
      "\n",
      "See the caveats in the documentation: https://pandas.pydata.org/pandas-docs/stable/user_guide/indexing.html#returning-a-view-versus-a-copy\n",
      "  data.cases[i]=dt.cases[i]\n"
     ]
    },
    {
     "data": {
      "text/html": [
       "<div>\n",
       "<style scoped>\n",
       "    .dataframe tbody tr th:only-of-type {\n",
       "        vertical-align: middle;\n",
       "    }\n",
       "\n",
       "    .dataframe tbody tr th {\n",
       "        vertical-align: top;\n",
       "    }\n",
       "\n",
       "    .dataframe thead th {\n",
       "        text-align: right;\n",
       "    }\n",
       "</style>\n",
       "<table border=\"1\" class=\"dataframe\">\n",
       "  <thead>\n",
       "    <tr style=\"text-align: right;\">\n",
       "      <th></th>\n",
       "      <th>countriesAndTerritories</th>\n",
       "      <th>cases</th>\n",
       "    </tr>\n",
       "  </thead>\n",
       "  <tbody>\n",
       "    <tr>\n",
       "      <th>0</th>\n",
       "      <td>United_States_of_America</td>\n",
       "      <td>8214755.0</td>\n",
       "    </tr>\n",
       "    <tr>\n",
       "      <th>1</th>\n",
       "      <td>India</td>\n",
       "      <td>7597063.0</td>\n",
       "    </tr>\n",
       "    <tr>\n",
       "      <th>2</th>\n",
       "      <td>Brazil</td>\n",
       "      <td>5250727.0</td>\n",
       "    </tr>\n",
       "    <tr>\n",
       "      <th>3</th>\n",
       "      <td>Russia</td>\n",
       "      <td>1415316.0</td>\n",
       "    </tr>\n",
       "    <tr>\n",
       "      <th>4</th>\n",
       "      <td>Argentina</td>\n",
       "      <td>1002649.0</td>\n",
       "    </tr>\n",
       "    <tr>\n",
       "      <th>5</th>\n",
       "      <td>Spain</td>\n",
       "      <td>974449.0</td>\n",
       "    </tr>\n",
       "    <tr>\n",
       "      <th>6</th>\n",
       "      <td>Colombia</td>\n",
       "      <td>965883.0</td>\n",
       "    </tr>\n",
       "    <tr>\n",
       "      <th>7</th>\n",
       "      <td>France</td>\n",
       "      <td>910277.0</td>\n",
       "    </tr>\n",
       "    <tr>\n",
       "      <th>8</th>\n",
       "      <td>Peru</td>\n",
       "      <td>870876.0</td>\n",
       "    </tr>\n",
       "    <tr>\n",
       "      <th>9</th>\n",
       "      <td>Mexico</td>\n",
       "      <td>854926.0</td>\n",
       "    </tr>\n",
       "  </tbody>\n",
       "</table>\n",
       "</div>"
      ],
      "text/plain": [
       "    countriesAndTerritories      cases\n",
       "0  United_States_of_America  8214755.0\n",
       "1                     India  7597063.0\n",
       "2                    Brazil  5250727.0\n",
       "3                    Russia  1415316.0\n",
       "4                 Argentina  1002649.0\n",
       "5                     Spain   974449.0\n",
       "6                  Colombia   965883.0\n",
       "7                    France   910277.0\n",
       "8                      Peru   870876.0\n",
       "9                    Mexico   854926.0"
      ]
     },
     "execution_count": 6,
     "metadata": {},
     "output_type": "execute_result"
    }
   ],
   "source": [
    "#d) Vẽ biểu đồ bar biểu diễn tổng case của 10 quốc gia có \n",
    "#tổng cases lớn nhất.(Bằng 2 cách pandas, seaborn trên cùng figure).\n",
    "\n",
    "\n",
    "d=df.groupby('countriesAndTerritories')['cases'].sum()\n",
    "d1=d.sort_values(ascending=False).head(10)\n",
    "dt=pd.DataFrame(d1)\n",
    "\n",
    "data = pd.DataFrame(dt.index)\n",
    "data['cases']=dt.cases\n",
    "for i in range(10):\n",
    "    data.cases[i]=dt.cases[i]\n",
    "data"
   ]
  },
  {
   "cell_type": "code",
   "execution_count": 7,
   "id": "5e88452a",
   "metadata": {},
   "outputs": [
    {
     "data": {
      "image/png": "[encoded data removed]",
      "text/plain": [
       "<Figure size 432x288 with 2 Axes>"
      ]
     },
     "metadata": {
      "needs_background": "light"
     },
     "output_type": "display_data"
    },
    {
     "data": {
      "image/png": "[encoded data removed]",
      "text/plain": [
       "<Figure size 432x288 with 1 Axes>"
      ]
     },
     "metadata": {
      "needs_background": "light"
     },
     "output_type": "display_data"
    }
   ],
   "source": [
    "\n",
    "plt.subplot(1,2,1)\n",
    "sns.barplot(x='countriesAndTerritories',y='cases',data=data)\n",
    "plt.xticks(rotation=90)\n",
    "\n",
    "plt.subplot(1,2,2)\n",
    "dt.plot(kind='bar')\n",
    "plt.show()"
   ]
  },
  {
   "cell_type": "code",
   "execution_count": 8,
   "id": "ed8e4b6c",
   "metadata": {},
   "outputs": [
    {
     "name": "stderr",
     "output_type": "stream",
     "text": [
      "<ipython-input-8-3543d1e7aa65>:9: SettingWithCopyWarning: \n",
      "A value is trying to be set on a copy of a slice from a DataFrame\n",
      "\n",
      "See the caveats in the documentation: https://pandas.pydata.org/pandas-docs/stable/user_guide/indexing.html#returning-a-view-versus-a-copy\n",
      "  data.deaths[i]=dt.deaths[i]\n"
     ]
    },
    {
     "data": {
      "image/png": "[encoded data removed]",
      "text/plain": [
       "<Figure size 432x288 with 2 Axes>"
      ]
     },
     "metadata": {
      "needs_background": "light"
     },
     "output_type": "display_data"
    },
    {
     "data": {
      "image/png": "[encoded data removed]",
      "text/plain": [
       "<Figure size 432x288 with 1 Axes>"
      ]
     },
     "metadata": {
      "needs_background": "light"
     },
     "output_type": "display_data"
    }
   ],
   "source": [
    "#e) biểu diễn tổng deaths của 10 quốc gia có tổng death lớn nhất.\n",
    "d=df.groupby('countriesAndTerritories')['deaths'].sum()\n",
    "d1=d.sort_values(ascending=False).head(10)\n",
    "dt=pd.DataFrame(d1)\n",
    "\n",
    "data = pd.DataFrame(dt.index)\n",
    "data['deaths']=dt.deaths\n",
    "for i in range(10):\n",
    "    data.deaths[i]=dt.deaths[i]\n",
    "    \n",
    "plt.subplot(1,2,1)\n",
    "sns.barplot(x='countriesAndTerritories',y='deaths',data=data)\n",
    "plt.xticks(rotation=90)\n",
    "\n",
    "plt.subplot(1,2,2)\n",
    "dt.plot(kind='bar')\n",
    "plt.show()"
   ]
  },
  {
   "cell_type": "code",
   "execution_count": 9,
   "id": "9a4567bd",
   "metadata": {},
   "outputs": [
    {
     "name": "stdout",
     "output_type": "stream",
     "text": [
      "America -cases: 18977833 - deaths: 611701\n",
      "Africa -cases: 1656480 - deaths: 39931\n",
      "Europe -cases: 7284085 - deaths: 242594\n",
      "Oceania -cases: 37214 - deaths: 1021\n",
      "Asia -cases: 12516197 - deaths: 224029\n",
      "Other -cases: 696 - deaths: 7\n"
     ]
    }
   ],
   "source": [
    "\n",
    "#f)\n",
    "y=list(set(Exp))\n",
    "for i in range(len(y)):\n",
    "    a1 = df.loc[( Exp== y[i])].cases.sum()\n",
    "    b1 = df.loc[(Exp == y[i])].deaths.sum()\n",
    "    print(y[i] ,'-cases:',a1,'- deaths:',b1)"
   ]
  },
  {
   "cell_type": "code",
   "execution_count": 10,
   "id": "82b04be6",
   "metadata": {},
   "outputs": [],
   "source": [
    "#g) Vẽ biểu đồ bar để biểu diễn câu f) (mô tả : Trục ngang là các continentExp , mỗi continentExp có 2 cột biểu diễn cases và deaths)\n",
    "#(Cả 2 cách pandas và seaborn trên cùng figure)."
   ]
  },
  {
   "cell_type": "code",
   "execution_count": 11,
   "id": "33801a37",
   "metadata": {},
   "outputs": [
    {
     "data": {
      "text/html": [
       "<div>\n",
       "<style scoped>\n",
       "    .dataframe tbody tr th:only-of-type {\n",
       "        vertical-align: middle;\n",
       "    }\n",
       "\n",
       "    .dataframe tbody tr th {\n",
       "        vertical-align: top;\n",
       "    }\n",
       "\n",
       "    .dataframe thead th {\n",
       "        text-align: right;\n",
       "    }\n",
       "</style>\n",
       "<table border=\"1\" class=\"dataframe\">\n",
       "  <thead>\n",
       "    <tr style=\"text-align: right;\">\n",
       "      <th></th>\n",
       "      <th>cases</th>\n",
       "      <th>deaths</th>\n",
       "      <th>continentExp</th>\n",
       "    </tr>\n",
       "    <tr>\n",
       "      <th>continentExp</th>\n",
       "      <th></th>\n",
       "      <th></th>\n",
       "      <th></th>\n",
       "    </tr>\n",
       "  </thead>\n",
       "  <tbody>\n",
       "    <tr>\n",
       "      <th>America</th>\n",
       "      <td>18977833</td>\n",
       "      <td>611701</td>\n",
       "      <td>America</td>\n",
       "    </tr>\n",
       "    <tr>\n",
       "      <th>Asia</th>\n",
       "      <td>12516197</td>\n",
       "      <td>224029</td>\n",
       "      <td>Asia</td>\n",
       "    </tr>\n",
       "    <tr>\n",
       "      <th>Europe</th>\n",
       "      <td>7284085</td>\n",
       "      <td>242594</td>\n",
       "      <td>Europe</td>\n",
       "    </tr>\n",
       "    <tr>\n",
       "      <th>Africa</th>\n",
       "      <td>1656480</td>\n",
       "      <td>39931</td>\n",
       "      <td>Africa</td>\n",
       "    </tr>\n",
       "    <tr>\n",
       "      <th>Oceania</th>\n",
       "      <td>37214</td>\n",
       "      <td>1021</td>\n",
       "      <td>Oceania</td>\n",
       "    </tr>\n",
       "    <tr>\n",
       "      <th>Other</th>\n",
       "      <td>696</td>\n",
       "      <td>7</td>\n",
       "      <td>Other</td>\n",
       "    </tr>\n",
       "  </tbody>\n",
       "</table>\n",
       "</div>"
      ],
      "text/plain": [
       "                 cases  deaths continentExp\n",
       "continentExp                               \n",
       "America       18977833  611701      America\n",
       "Asia          12516197  224029         Asia\n",
       "Europe         7284085  242594       Europe\n",
       "Africa         1656480   39931       Africa\n",
       "Oceania          37214    1021      Oceania\n",
       "Other              696       7        Other"
      ]
     },
     "execution_count": 11,
     "metadata": {},
     "output_type": "execute_result"
    }
   ],
   "source": [
    "e=df.groupby('continentExp')['cases'].sum()\n",
    "f=df.groupby('continentExp')['deaths'].sum()\n",
    "f1=f.sort_values(ascending=False)\n",
    "e1=e.sort_values(ascending=False)\n",
    "et=pd.DataFrame(e1)\n",
    "ft=pd.DataFrame(f1)\n",
    "et['deaths']=ft\n",
    "et['continentExp']=et.index\n",
    "data=et\n",
    "data"
   ]
  },
  {
   "cell_type": "code",
   "execution_count": 12,
   "id": "a66b069d",
   "metadata": {},
   "outputs": [
    {
     "data": {
      "text/plain": [
       "<AxesSubplot:ylabel='continentExp'>"
      ]
     },
     "execution_count": 12,
     "metadata": {},
     "output_type": "execute_result"
    },
    {
     "data": {
      "image/png": "[encoded data removed]",
      "text/plain": [
       "<Figure size 432x288 with 1 Axes>"
      ]
     },
     "metadata": {
      "needs_background": "light"
     },
     "output_type": "display_data"
    }
   ],
   "source": [
    "#pandas\n",
    "data.plot.barh()"
   ]
  },
  {
   "cell_type": "code",
   "execution_count": 13,
   "id": "71cb01d4",
   "metadata": {},
   "outputs": [
    {
     "data": {
      "text/plain": [
       "<AxesSubplot:xlabel='cases', ylabel='continentExp'>"
      ]
     },
     "execution_count": 13,
     "metadata": {},
     "output_type": "execute_result"
    },
    {
     "data": {
      "image/png": "[encoded data removed]",
      "text/plain": [
       "<Figure size 432x288 with 2 Axes>"
      ]
     },
     "metadata": {
      "needs_background": "light"
     },
     "output_type": "display_data"
    }
   ],
   "source": [
    "#seaborn\n",
    "plt.subplot(1,2,1)\n",
    "sns.barplot(x='deaths',y=\"continentExp\", data=data,hue='continentExp')\n",
    "plt.subplot(1,2,2)\n",
    "sns.barplot(x='cases',y=\"continentExp\", data=data,hue='continentExp')"
   ]
  },
  {
   "cell_type": "code",
   "execution_count": 14,
   "id": "3ceea941",
   "metadata": {},
   "outputs": [
    {
     "data": {
      "text/html": [
       "<div>\n",
       "<style scoped>\n",
       "    .dataframe tbody tr th:only-of-type {\n",
       "        vertical-align: middle;\n",
       "    }\n",
       "\n",
       "    .dataframe tbody tr th {\n",
       "        vertical-align: top;\n",
       "    }\n",
       "\n",
       "    .dataframe thead th {\n",
       "        text-align: right;\n",
       "    }\n",
       "</style>\n",
       "<table border=\"1\" class=\"dataframe\">\n",
       "  <thead>\n",
       "    <tr style=\"text-align: right;\">\n",
       "      <th></th>\n",
       "      <th>day</th>\n",
       "      <th>month</th>\n",
       "      <th>cases</th>\n",
       "      <th>deaths</th>\n",
       "      <th>countriesAndTerritories</th>\n",
       "    </tr>\n",
       "  </thead>\n",
       "  <tbody>\n",
       "    <tr>\n",
       "      <th>49109</th>\n",
       "      <td>20</td>\n",
       "      <td>10</td>\n",
       "      <td>6</td>\n",
       "      <td>0</td>\n",
       "      <td>Vietnam</td>\n",
       "    </tr>\n",
       "    <tr>\n",
       "      <th>49110</th>\n",
       "      <td>19</td>\n",
       "      <td>10</td>\n",
       "      <td>8</td>\n",
       "      <td>0</td>\n",
       "      <td>Vietnam</td>\n",
       "    </tr>\n",
       "    <tr>\n",
       "      <th>49111</th>\n",
       "      <td>18</td>\n",
       "      <td>10</td>\n",
       "      <td>2</td>\n",
       "      <td>0</td>\n",
       "      <td>Vietnam</td>\n",
       "    </tr>\n",
       "    <tr>\n",
       "      <th>49112</th>\n",
       "      <td>17</td>\n",
       "      <td>10</td>\n",
       "      <td>0</td>\n",
       "      <td>0</td>\n",
       "      <td>Vietnam</td>\n",
       "    </tr>\n",
       "    <tr>\n",
       "      <th>49113</th>\n",
       "      <td>16</td>\n",
       "      <td>10</td>\n",
       "      <td>2</td>\n",
       "      <td>0</td>\n",
       "      <td>Vietnam</td>\n",
       "    </tr>\n",
       "    <tr>\n",
       "      <th>...</th>\n",
       "      <td>...</td>\n",
       "      <td>...</td>\n",
       "      <td>...</td>\n",
       "      <td>...</td>\n",
       "      <td>...</td>\n",
       "    </tr>\n",
       "    <tr>\n",
       "      <th>49394</th>\n",
       "      <td>5</td>\n",
       "      <td>1</td>\n",
       "      <td>0</td>\n",
       "      <td>0</td>\n",
       "      <td>Vietnam</td>\n",
       "    </tr>\n",
       "    <tr>\n",
       "      <th>49395</th>\n",
       "      <td>4</td>\n",
       "      <td>1</td>\n",
       "      <td>0</td>\n",
       "      <td>0</td>\n",
       "      <td>Vietnam</td>\n",
       "    </tr>\n",
       "    <tr>\n",
       "      <th>49396</th>\n",
       "      <td>3</td>\n",
       "      <td>1</td>\n",
       "      <td>0</td>\n",
       "      <td>0</td>\n",
       "      <td>Vietnam</td>\n",
       "    </tr>\n",
       "    <tr>\n",
       "      <th>49397</th>\n",
       "      <td>2</td>\n",
       "      <td>1</td>\n",
       "      <td>0</td>\n",
       "      <td>0</td>\n",
       "      <td>Vietnam</td>\n",
       "    </tr>\n",
       "    <tr>\n",
       "      <th>49398</th>\n",
       "      <td>1</td>\n",
       "      <td>1</td>\n",
       "      <td>0</td>\n",
       "      <td>0</td>\n",
       "      <td>Vietnam</td>\n",
       "    </tr>\n",
       "  </tbody>\n",
       "</table>\n",
       "<p>290 rows × 5 columns</p>\n",
       "</div>"
      ],
      "text/plain": [
       "       day  month  cases  deaths countriesAndTerritories\n",
       "49109   20     10      6       0                 Vietnam\n",
       "49110   19     10      8       0                 Vietnam\n",
       "49111   18     10      2       0                 Vietnam\n",
       "49112   17     10      0       0                 Vietnam\n",
       "49113   16     10      2       0                 Vietnam\n",
       "...    ...    ...    ...     ...                     ...\n",
       "49394    5      1      0       0                 Vietnam\n",
       "49395    4      1      0       0                 Vietnam\n",
       "49396    3      1      0       0                 Vietnam\n",
       "49397    2      1      0       0                 Vietnam\n",
       "49398    1      1      0       0                 Vietnam\n",
       "\n",
       "[290 rows x 5 columns]"
      ]
     },
     "execution_count": 14,
     "metadata": {},
     "output_type": "execute_result"
    }
   ],
   "source": [
    "#h) Trích data có columns là Việt Nam.\n",
    "VN=df.loc[(country == 'Vietnam') & (year > 2019),['day','month','cases','deaths','countriesAndTerritories']]\n",
    "VN"
   ]
  },
  {
   "cell_type": "code",
   "execution_count": 15,
   "id": "d095054f",
   "metadata": {},
   "outputs": [
    {
     "name": "stdout",
     "output_type": "stream",
     "text": [
      "month 1 - cases: 5 -deaths: 0\n",
      "month 2 - cases: 11 -deaths: 0\n",
      "month 3 - cases: 190 -deaths: 0\n",
      "month 4 - cases: 64 -deaths: 0\n",
      "month 5 - cases: 57 -deaths: 0\n",
      "month 6 - cases: 28 -deaths: 0\n",
      "month 7 - cases: 154 -deaths: 0\n",
      "month 8 - cases: 531 -deaths: 32\n",
      "month 9 - cases: 54 -deaths: 3\n",
      "month 10 - cases: 46 -deaths: 0\n"
     ]
    }
   ],
   "source": [
    "#i\n",
    "num=list(set(VN.month))\n",
    "for i in range(len(num)):\n",
    "    VN_cases = VN.loc[(VN.month == num[i])].cases.sum()\n",
    "    VN_death = VN.loc[(VN.month == num[i])].deaths.sum()\n",
    "    print('month',i+1,'- cases:',VN_cases,'-deaths:',VN_death)"
   ]
  },
  {
   "cell_type": "code",
   "execution_count": 16,
   "id": "c4659650",
   "metadata": {},
   "outputs": [],
   "source": [
    "#j) Vẽ biểu đồ đường để biểu i) (đồ thị gồm 2 line) \n",
    "#và chú thích điểm lớn nhất trên từng line. (Dùng pandas hoặc seaborn).\n",
    "#Pandas\n"
   ]
  },
  {
   "cell_type": "code",
   "execution_count": 17,
   "id": "519d02d9",
   "metadata": {},
   "outputs": [
    {
     "data": {
      "text/plain": [
       "<AxesSubplot:xlabel='month', ylabel='cases'>"
      ]
     },
     "execution_count": 17,
     "metadata": {},
     "output_type": "execute_result"
    },
    {
     "data": {
      "image/png": "[encoded data removed]",
      "text/plain": [
       "<Figure size 432x288 with 1 Axes>"
      ]
     },
     "metadata": {
      "needs_background": "light"
     },
     "output_type": "display_data"
    }
   ],
   "source": [
    "sns.lineplot(data=VN, x=\"month\", y=\"cases\", marker = 'o',label='cases')\n",
    "sns.lineplot(data=VN, x=\"month\", y=\"deaths\", marker = 'o',label='deaths')"
   ]
  },
  {
   "cell_type": "code",
   "execution_count": null,
   "id": "b9ca3c5c",
   "metadata": {},
   "outputs": [],
   "source": []
  },
  {
   "cell_type": "code",
   "execution_count": null,
   "id": "61e765aa",
   "metadata": {},
   "outputs": [],
   "source": []
  },
  {
   "cell_type": "code",
   "execution_count": null,
   "id": "1dfcb306",
   "metadata": {},
   "outputs": [],
   "source": []
  }
 ],
 "metadata": {
  "kernelspec": {
   "display_name": "Python 3",
   "language": "python",
   "name": "python3"
  },
  "language_info": {
   "codemirror_mode": {
    "name": "ipython",
    "version": 3
   },
   "file_extension": ".py",
   "mimetype": "text/x-python",
   "name": "python",
   "nbconvert_exporter": "python",
   "pygments_lexer": "ipython3",
   "version": "3.8.8"
  }
 },
 "nbformat": 4,
 "nbformat_minor": 5
}
