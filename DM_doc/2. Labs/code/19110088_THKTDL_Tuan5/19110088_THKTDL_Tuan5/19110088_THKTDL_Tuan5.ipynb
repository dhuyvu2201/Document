{
 "cells": [
  {
   "cell_type": "code",
   "execution_count": 23,
   "metadata": {
    "scrolled": true
   },
   "outputs": [],
   "source": [
    "import pandas as pd\n",
    "import numpy as np\n",
    "from apyori import apriori\n",
    "data= pd.read_csv('data.txt', header=None)\n"
   ]
  },
  {
   "cell_type": "markdown",
   "metadata": {},
   "source": [
    "Chuyển dữ liệu về dạng ngang"
   ]
  },
  {
   "cell_type": "code",
   "execution_count": 24,
   "metadata": {},
   "outputs": [
    {
     "data": {
      "text/plain": [
       "[['Wine', 'Chips', 'Bread', 'Butter', 'Milk', 'Apple'],\n",
       " ['Wine', 'Bread', 'Butter', 'Milk'],\n",
       " ['Bread', 'Butter', 'Milk'],\n",
       " ['Chips', 'Apple'],\n",
       " ['Wine', 'Chips', 'Bread', 'Butter', 'Milk', 'Apple'],\n",
       " ['Wine', 'Chips', 'Milk'],\n",
       " ['Wine', 'Chips', 'Bread', 'Butter', 'Apple'],\n",
       " ['Wine', 'Chips', 'Milk'],\n",
       " ['Wine', 'Bread', 'Apple'],\n",
       " ['Wine', 'Bread', 'Butter', 'Milk'],\n",
       " ['Chips', 'Bread', 'Butter', 'Apple'],\n",
       " ['Wine', 'Butter', 'Milk', 'Apple'],\n",
       " ['Wine', 'Chips', 'Bread', 'Butter', 'Milk'],\n",
       " ['Wine', 'Bread', 'Milk', 'Apple'],\n",
       " ['Wine', 'Bread', 'Butter', 'Milk', 'Apple'],\n",
       " ['Wine', 'Chips', 'Bread', 'Butter', 'Milk', 'Apple'],\n",
       " ['Chips', 'Bread', 'Butter', 'Milk', 'Apple'],\n",
       " ['Chips', 'Butter', 'Milk', 'Apple'],\n",
       " ['Wine', 'Chips', 'Bread', 'Butter', 'Milk', 'Apple'],\n",
       " ['Wine', 'Bread', 'Butter', 'Milk', 'Apple'],\n",
       " ['Wine', 'Chips', 'Bread', 'Milk', 'Apple'],\n",
       " ['Chips']]"
      ]
     },
     "execution_count": 24,
     "metadata": {},
     "output_type": "execute_result"
    }
   ],
   "source": [
    "records = []\n",
    "for i in range(len(data)):\n",
    "    transaction = [str(item) for item in data.loc[i] if pd.notna(item)]\n",
    "    records.append(transaction)\n",
    "records"
   ]
  },
  {
   "cell_type": "code",
   "execution_count": 25,
   "metadata": {},
   "outputs": [
    {
     "data": {
      "text/plain": [
       "[RelationRecord(items=frozenset({'Apple', 'Bread'}), support=0.5454545454545454, ordered_statistics=[OrderedStatistic(items_base=frozenset({'Apple'}), items_add=frozenset({'Bread'}), confidence=0.8, lift=1.1)]),\n",
       " RelationRecord(items=frozenset({'Bread', 'Butter'}), support=0.5909090909090909, ordered_statistics=[OrderedStatistic(items_base=frozenset({'Bread'}), items_add=frozenset({'Butter'}), confidence=0.8125, lift=1.1916666666666667), OrderedStatistic(items_base=frozenset({'Butter'}), items_add=frozenset({'Bread'}), confidence=0.8666666666666668, lift=1.1916666666666669)]),\n",
       " RelationRecord(items=frozenset({'Wine', 'Bread'}), support=0.5909090909090909, ordered_statistics=[OrderedStatistic(items_base=frozenset({'Bread'}), items_add=frozenset({'Wine'}), confidence=0.8125, lift=1.1171875), OrderedStatistic(items_base=frozenset({'Wine'}), items_add=frozenset({'Bread'}), confidence=0.8125, lift=1.1171875)]),\n",
       " RelationRecord(items=frozenset({'Milk', 'Butter'}), support=0.5909090909090909, ordered_statistics=[OrderedStatistic(items_base=frozenset({'Butter'}), items_add=frozenset({'Milk'}), confidence=0.8666666666666668, lift=1.1215686274509806), OrderedStatistic(items_base=frozenset({'Milk'}), items_add=frozenset({'Butter'}), confidence=0.7647058823529412, lift=1.1215686274509806)]),\n",
       " RelationRecord(items=frozenset({'Milk', 'Wine'}), support=0.6363636363636364, ordered_statistics=[OrderedStatistic(items_base=frozenset({'Milk'}), items_add=frozenset({'Wine'}), confidence=0.8235294117647058, lift=1.1323529411764706), OrderedStatistic(items_base=frozenset({'Wine'}), items_add=frozenset({'Milk'}), confidence=0.875, lift=1.1323529411764706)]),\n",
       " RelationRecord(items=frozenset({'Milk', 'Bread', 'Butter'}), support=0.5, ordered_statistics=[OrderedStatistic(items_base=frozenset({'Butter'}), items_add=frozenset({'Milk', 'Bread'}), confidence=0.7333333333333334, lift=1.241025641025641), OrderedStatistic(items_base=frozenset({'Milk', 'Bread'}), items_add=frozenset({'Butter'}), confidence=0.8461538461538461, lift=1.241025641025641), OrderedStatistic(items_base=frozenset({'Milk', 'Butter'}), items_add=frozenset({'Bread'}), confidence=0.8461538461538461, lift=1.1634615384615383)]),\n",
       " RelationRecord(items=frozenset({'Wine', 'Milk', 'Bread'}), support=0.5, ordered_statistics=[OrderedStatistic(items_base=frozenset({'Milk', 'Bread'}), items_add=frozenset({'Wine'}), confidence=0.8461538461538461, lift=1.1634615384615383)])]"
      ]
     },
     "execution_count": 25,
     "metadata": {},
     "output_type": "execute_result"
    }
   ],
   "source": [
    "association_rules = apriori(records, min_support=0.5, min_confidence=0.7, min_lift=1.1, min_length=3)\n",
    "results = list(association_rules)\n",
    "results\n"
   ]
  },
  {
   "cell_type": "code",
   "execution_count": 26,
   "metadata": {},
   "outputs": [
    {
     "name": "stdout",
     "output_type": "stream",
     "text": [
      "  Left_Hand_Side Right_Hand_Side   Support  Confidence      Lift\n",
      "0          Apple           Bread  0.545455    0.800000  1.100000\n",
      "1          Bread          Butter  0.590909    0.812500  1.191667\n",
      "2          Bread            Wine  0.590909    0.812500  1.117188\n",
      "3         Butter            Milk  0.590909    0.866667  1.121569\n",
      "4           Milk            Wine  0.636364    0.823529  1.132353\n",
      "5         Butter     Milk, Bread  0.500000    0.733333  1.241026\n",
      "6    Milk, Bread            Wine  0.500000    0.846154  1.163462\n"
     ]
    }
   ],
   "source": [
    "import pandas as pd\n",
    "\n",
    "def convert_to_dataframe(results):\n",
    "    data = []\n",
    "    for rule in results:\n",
    "        left_hand_side = ', '.join(list(rule[2][0][0]))\n",
    "        right_hand_side = ', '.join(list(rule[2][0][1]))\n",
    "        support = rule[1]\n",
    "        confidence = rule[2][0][2]\n",
    "        lift = rule[2][0][3]\n",
    "        data.append([left_hand_side, right_hand_side, support, confidence, lift])\n",
    "\n",
    "    df = pd.DataFrame(data, columns=['Left_Hand_Side', 'Right_Hand_Side', 'Support', 'Confidence', 'Lift'])\n",
    "    return df\n",
    "\n",
    "df = convert_to_dataframe(results)\n",
    "print(df)\n",
    "\n"
   ]
  },
  {
   "cell_type": "markdown",
   "metadata": {},
   "source": [
    "# Tự code"
   ]
  },
  {
   "cell_type": "markdown",
   "metadata": {},
   "source": [
    "Đếm số lượng các items"
   ]
  },
  {
   "cell_type": "code",
   "execution_count": 5,
   "metadata": {},
   "outputs": [],
   "source": [
    "def count_item(df_items):\n",
    "    count_ind_item = {}\n",
    "    for row in df_items:\n",
    "        for i in range(len(row)):\n",
    "            item = row[i]\n",
    "            if item != 'NaN':\n",
    "                if item in count_ind_item.keys():\n",
    "                    count_ind_item[item] += 1\n",
    "                else:\n",
    "                    count_ind_item[item] = 1\n",
    "    \n",
    "    data = pd.DataFrame()\n",
    "    data['item_sets'] = count_ind_item.keys()\n",
    "    data['supp_count'] = count_ind_item.values()\n",
    "    return data"
   ]
  },
  {
   "cell_type": "code",
   "execution_count": 24,
   "metadata": {},
   "outputs": [
    {
     "data": {
      "text/html": [
       "<div>\n",
       "<style scoped>\n",
       "    .dataframe tbody tr th:only-of-type {\n",
       "        vertical-align: middle;\n",
       "    }\n",
       "\n",
       "    .dataframe tbody tr th {\n",
       "        vertical-align: top;\n",
       "    }\n",
       "\n",
       "    .dataframe thead th {\n",
       "        text-align: right;\n",
       "    }\n",
       "</style>\n",
       "<table border=\"1\" class=\"dataframe\">\n",
       "  <thead>\n",
       "    <tr style=\"text-align: right;\">\n",
       "      <th></th>\n",
       "      <th>item_sets</th>\n",
       "      <th>supp_count</th>\n",
       "    </tr>\n",
       "  </thead>\n",
       "  <tbody>\n",
       "    <tr>\n",
       "      <th>0</th>\n",
       "      <td>Wine</td>\n",
       "      <td>17</td>\n",
       "    </tr>\n",
       "    <tr>\n",
       "      <th>1</th>\n",
       "      <td>Chips</td>\n",
       "      <td>15</td>\n",
       "    </tr>\n",
       "    <tr>\n",
       "      <th>2</th>\n",
       "      <td>Bread</td>\n",
       "      <td>17</td>\n",
       "    </tr>\n",
       "    <tr>\n",
       "      <th>3</th>\n",
       "      <td>Butter</td>\n",
       "      <td>16</td>\n",
       "    </tr>\n",
       "    <tr>\n",
       "      <th>4</th>\n",
       "      <td>Milk</td>\n",
       "      <td>18</td>\n",
       "    </tr>\n",
       "    <tr>\n",
       "      <th>5</th>\n",
       "      <td>Apple</td>\n",
       "      <td>16</td>\n",
       "    </tr>\n",
       "  </tbody>\n",
       "</table>\n",
       "</div>"
      ],
      "text/plain": [
       "  item_sets  supp_count\n",
       "0      Wine          17\n",
       "1     Chips          15\n",
       "2     Bread          17\n",
       "3    Butter          16\n",
       "4      Milk          18\n",
       "5     Apple          16"
      ]
     },
     "execution_count": 24,
     "metadata": {},
     "output_type": "execute_result"
    }
   ],
   "source": [
    "x=count_item(records)\n",
    "x"
   ]
  },
  {
   "cell_type": "markdown",
   "metadata": {},
   "source": [
    "Các items thường xuất hiện"
   ]
  },
  {
   "cell_type": "code",
   "execution_count": 6,
   "metadata": {},
   "outputs": [],
   "source": [
    "def frequently_items(list_items):\n",
    "    itemsets = []\n",
    "    for i, entry in enumerate(list_items):\n",
    "        proceding_items = list_items[i+1:]\n",
    "        itemsets.extend([(entry, item) for item in proceding_items if isinstance(item, str) and entry != item])\n",
    "        itemsets.extend([entry + item[1:] for item in proceding_items if not isinstance(item, str) and entry[:-1] == item[:-1]])\n",
    "    \n",
    "    if len(itemsets) == 0:\n",
    "        return None\n",
    "    \n",
    "    return itemsets\n"
   ]
  },
  {
   "cell_type": "code",
   "execution_count": 27,
   "metadata": {},
   "outputs": [
    {
     "data": {
      "text/plain": [
       "[('Wine', 'Chips'),\n",
       " ('Wine', 'Bread'),\n",
       " ('Wine', 'Butter'),\n",
       " ('Wine', 'Milk'),\n",
       " ('Wine', 'Apple'),\n",
       " ('Chips', 'Bread'),\n",
       " ('Chips', 'Butter'),\n",
       " ('Chips', 'Milk'),\n",
       " ('Chips', 'Apple'),\n",
       " ('Bread', 'Butter'),\n",
       " ('Bread', 'Milk'),\n",
       " ('Bread', 'Apple'),\n",
       " ('Butter', 'Milk'),\n",
       " ('Butter', 'Apple'),\n",
       " ('Milk', 'Apple')]"
      ]
     },
     "execution_count": 27,
     "metadata": {},
     "output_type": "execute_result"
    }
   ],
   "source": [
    "y=frequently_items(x.item_sets)\n",
    "y"
   ]
  },
  {
   "cell_type": "code",
   "execution_count": 15,
   "metadata": {},
   "outputs": [],
   "source": [
    "def count_fre_items(records, itemsets, sup):    \n",
    "    count_item = {}\n",
    "    for item_set in itemsets:\n",
    "        for row in records:\n",
    "            set_A = []\n",
    "            set_B = []\n",
    "            for item in item_set:\n",
    "                set_A.append(item)\n",
    "            for item in row:\n",
    "                set_B.append(item)\n",
    "        \n",
    "            if isinstance(set_A, list) and isinstance(set_B, list) and all(elem in set_B for elem in set_A):\n",
    "                if item_set in count_item.keys():\n",
    "                    count_item[item_set] += 1\n",
    "                else:\n",
    "                    count_item[item_set] = 1\n",
    "                \n",
    "    data = pd.DataFrame()\n",
    "    data['item_sets'] = count_item.keys()\n",
    "    data['supp_count'] = count_item.values()\n",
    "    data = data[data.supp_count >= sup] \n",
    "    \n",
    "    return data\n"
   ]
  },
  {
   "cell_type": "code",
   "execution_count": 31,
   "metadata": {},
   "outputs": [
    {
     "data": {
      "text/html": [
       "<div>\n",
       "<style scoped>\n",
       "    .dataframe tbody tr th:only-of-type {\n",
       "        vertical-align: middle;\n",
       "    }\n",
       "\n",
       "    .dataframe tbody tr th {\n",
       "        vertical-align: top;\n",
       "    }\n",
       "\n",
       "    .dataframe thead th {\n",
       "        text-align: right;\n",
       "    }\n",
       "</style>\n",
       "<table border=\"1\" class=\"dataframe\">\n",
       "  <thead>\n",
       "    <tr style=\"text-align: right;\">\n",
       "      <th></th>\n",
       "      <th>item_sets</th>\n",
       "      <th>supp_count</th>\n",
       "    </tr>\n",
       "  </thead>\n",
       "  <tbody>\n",
       "    <tr>\n",
       "      <th>1</th>\n",
       "      <td>(Wine, Bread)</td>\n",
       "      <td>14</td>\n",
       "    </tr>\n",
       "    <tr>\n",
       "      <th>2</th>\n",
       "      <td>(Wine, Butter)</td>\n",
       "      <td>12</td>\n",
       "    </tr>\n",
       "    <tr>\n",
       "      <th>3</th>\n",
       "      <td>(Wine, Milk)</td>\n",
       "      <td>15</td>\n",
       "    </tr>\n",
       "    <tr>\n",
       "      <th>4</th>\n",
       "      <td>(Wine, Apple)</td>\n",
       "      <td>12</td>\n",
       "    </tr>\n",
       "    <tr>\n",
       "      <th>9</th>\n",
       "      <td>(Bread, Butter)</td>\n",
       "      <td>14</td>\n",
       "    </tr>\n",
       "    <tr>\n",
       "      <th>10</th>\n",
       "      <td>(Bread, Milk)</td>\n",
       "      <td>14</td>\n",
       "    </tr>\n",
       "    <tr>\n",
       "      <th>11</th>\n",
       "      <td>(Bread, Apple)</td>\n",
       "      <td>13</td>\n",
       "    </tr>\n",
       "    <tr>\n",
       "      <th>12</th>\n",
       "      <td>(Butter, Milk)</td>\n",
       "      <td>14</td>\n",
       "    </tr>\n",
       "    <tr>\n",
       "      <th>13</th>\n",
       "      <td>(Butter, Apple)</td>\n",
       "      <td>12</td>\n",
       "    </tr>\n",
       "    <tr>\n",
       "      <th>14</th>\n",
       "      <td>(Milk, Apple)</td>\n",
       "      <td>12</td>\n",
       "    </tr>\n",
       "  </tbody>\n",
       "</table>\n",
       "</div>"
      ],
      "text/plain": [
       "          item_sets  supp_count\n",
       "1     (Wine, Bread)          14\n",
       "2    (Wine, Butter)          12\n",
       "3      (Wine, Milk)          15\n",
       "4     (Wine, Apple)          12\n",
       "9   (Bread, Butter)          14\n",
       "10    (Bread, Milk)          14\n",
       "11   (Bread, Apple)          13\n",
       "12   (Butter, Milk)          14\n",
       "13  (Butter, Apple)          12\n",
       "14    (Milk, Apple)          12"
      ]
     },
     "execution_count": 31,
     "metadata": {},
     "output_type": "execute_result"
    }
   ],
   "source": [
    "z=count_fre_items(records, y, len(records) *0.5)\n",
    "z"
   ]
  },
  {
   "cell_type": "markdown",
   "metadata": {},
   "source": [
    "Tạo relus cho các items"
   ]
  },
  {
   "cell_type": "code",
   "execution_count": 20,
   "metadata": {
    "scrolled": true
   },
   "outputs": [],
   "source": [
    "import numpy as np\n",
    "import numpy as np\n",
    "def calculate_conf(value1, value2):\n",
    "    return round(int(value1) / int(value2) * 100, 2)\n",
    "def calculate_lift(observed_support, antecedent_support, consequent_support, total_transactions):\n",
    "    if antecedent_support.item() == 0 or consequent_support.item() == 0:\n",
    "        return None\n",
    "    expected_support = (antecedent_support.item() * consequent_support.item()) / total_transactions\n",
    "    lift = observed_support.item() / expected_support\n",
    "    return lift\n",
    "\n",
    "def create_rules(freq_item_sets, threshold):\n",
    "    rules = []\n",
    "    for row in freq_item_sets.item_sets:\n",
    "        if len(row) == 3:  # Chỉ xét nhóm 3 nhân tố\n",
    "            for i in range(len(row)):\n",
    "                for j in range(i+1, len(row)):  # Sử dụng i+1 để tránh kiểm tra các cặp trùng lặp\n",
    "                    for k in range(j+1, len(row)):  # Sử dụng j+1 để tránh kiểm tra các cặp trùng lặp\n",
    "                        antecedent_support = count_item(records)[count_item(records).item_sets == row[i]].supp_count\n",
    "                        confidence = calculate_conf(\n",
    "                            freq_item_sets[freq_item_sets.item_sets == row].supp_count,\n",
    "                            antecedent_support\n",
    "                        )\n",
    "                        if confidence >= threshold:\n",
    "                            lift = calculate_lift(\n",
    "                                freq_item_sets[freq_item_sets.item_sets == row].supp_count,\n",
    "                                antecedent_support,\n",
    "                                count_item(records)[count_item(records).item_sets == row[j]].supp_count,\n",
    "                                len(records)\n",
    "                            )\n",
    "                            if lift is not None and not np.isnan(lift):\n",
    "                                rule = {\n",
    "                                    'items': frozenset([row[i], row[j], row[k]]),\n",
    "                                    'support': freq_item_sets[freq_item_sets.item_sets == row].supp_count.values[0],\n",
    "                                    'ordered_statistics': [{\n",
    "                                        'items_base': frozenset([row[i], row[j]]),\n",
    "                                        'items_add': frozenset([row[k]]),\n",
    "                                        'confidence': confidence / 100,\n",
    "                                        'lift': lift\n",
    "                                    }]\n",
    "                                }\n",
    "                                rules.append(rule)\n",
    "    return rules\n"
   ]
  },
  {
   "cell_type": "markdown",
   "metadata": {},
   "source": [
    "apriori "
   ]
  },
  {
   "cell_type": "code",
   "execution_count": 34,
   "metadata": {},
   "outputs": [],
   "source": [
    "def apriori(trans_data, minsup=0.5, minconf=0.7):\n",
    "    freq = pd.DataFrame()\n",
    "    df = count_item(trans_data)\n",
    "    sup = len(trans_data) * minsup\n",
    "    conf = 100 * minconf\n",
    "    rule = []\n",
    "    while len(df) != 0:\n",
    "\n",
    "        itemsets = frequently_items(df.item_sets)  \n",
    "        if itemsets is None:\n",
    "            return freq, rule\n",
    "\n",
    "        df = count_fre_items(trans_data, itemsets, sup)\n",
    "        if len(df) >1 or (len(df) == 3 and int(df.supp_count >= sup)):\n",
    "            rule = create_rules(df, conf)\n",
    "            freq = df\n",
    "            if (len(df) == 3 and int(df.supp_count >= sup)):\n",
    "                return rule\n",
    "    return rule\n"
   ]
  },
  {
   "cell_type": "code",
   "execution_count": 35,
   "metadata": {},
   "outputs": [
    {
     "data": {
      "text/plain": [
       "[               item_sets  supp_count\n",
       " 1    (Wine, Bread, Milk)          12\n",
       " 6  (Bread, Butter, Milk)          12,\n",
       " [{'items': frozenset({'Bread', 'Milk', 'Wine'}),\n",
       "   'support': 12,\n",
       "   'ordered_statistics': [{'items_base': frozenset({'Bread', 'Wine'}),\n",
       "     'items_add': frozenset({'Milk'}),\n",
       "     'confidence': 0.7059000000000001,\n",
       "     'lift': 0.9550173010380623}]},\n",
       "  {'items': frozenset({'Bread', 'Butter', 'Milk'}),\n",
       "   'support': 12,\n",
       "   'ordered_statistics': [{'items_base': frozenset({'Bread', 'Butter'}),\n",
       "     'items_add': frozenset({'Milk'}),\n",
       "     'confidence': 0.7059000000000001,\n",
       "     'lift': 1.0147058823529413}]}]]"
      ]
     },
     "execution_count": 35,
     "metadata": {},
     "output_type": "execute_result"
    }
   ],
   "source": [
    "\n",
    "re_results = apriori(records, minsup=0.5, minconf=0.7)\n",
    "as_re = list ( re_results)\n",
    "as_re"
   ]
  },
  {
   "cell_type": "markdown",
   "metadata": {},
   "source": [
    "In kết quả"
   ]
  },
  {
   "cell_type": "code",
   "execution_count": 36,
   "metadata": {},
   "outputs": [
    {
     "name": "stdout",
     "output_type": "stream",
     "text": [
      "  Left_Hand_Side Right_Hand_Side  Support  Confidence      Lift\n",
      "0    Wine, Bread            Milk       12      0.7059  0.955017\n",
      "1  Butter, Bread            Milk       12      0.7059  1.014706\n"
     ]
    }
   ],
   "source": [
    "import pandas as pd\n",
    "\n",
    "def print_rules_as_dataframe(rules):\n",
    "    data = []\n",
    "    for rule in rules:\n",
    "        items_base = ', '.join(rule['ordered_statistics'][0]['items_base'])\n",
    "        items_add = ', '.join(rule['ordered_statistics'][0]['items_add'])\n",
    "        support = rule['support']\n",
    "        confidence = rule['ordered_statistics'][0]['confidence']\n",
    "        lift = rule['ordered_statistics'][0]['lift']\n",
    "        data.append([items_base, items_add, support, confidence, lift])\n",
    "\n",
    "    df = pd.DataFrame(data, columns=['Left_Hand_Side', 'Right_Hand_Side', 'Support', 'Confidence', 'Lift'])\n",
    "    return df\n",
    "\n",
    "\n",
    "df = print_rules_as_dataframe(as_re[1])\n",
    "print(df)\n"
   ]
  },
  {
   "cell_type": "code",
   "execution_count": null,
   "metadata": {},
   "outputs": [],
   "source": []
  },
  {
   "cell_type": "code",
   "execution_count": null,
   "metadata": {},
   "outputs": [],
   "source": []
  },
  {
   "cell_type": "code",
   "execution_count": null,
   "metadata": {},
   "outputs": [],
   "source": []
  },
  {
   "cell_type": "code",
   "execution_count": null,
   "metadata": {},
   "outputs": [],
   "source": []
  }
 ],
 "metadata": {
  "colab": {
   "authorship_tag": "ABX9TyMRSjkQ93e6XikIG3y/C2iB",
   "collapsed_sections": [
    "GHr3Xl7xXkBn",
    "5YLXmVELXpGX",
    "Rajmosue6yGR",
    "nQYpV9eHDtIC",
    "ICe7rxNkIa8v"
   ],
   "provenance": []
  },
  "kernelspec": {
   "display_name": "Python 3 (ipykernel)",
   "language": "python",
   "name": "python3"
  },
  "language_info": {
   "codemirror_mode": {
    "name": "ipython",
    "version": 3
   },
   "file_extension": ".py",
   "mimetype": "text/x-python",
   "name": "python",
   "nbconvert_exporter": "python",
   "pygments_lexer": "ipython3",
   "version": "3.10.9"
  }
 },
 "nbformat": 4,
 "nbformat_minor": 1
}
