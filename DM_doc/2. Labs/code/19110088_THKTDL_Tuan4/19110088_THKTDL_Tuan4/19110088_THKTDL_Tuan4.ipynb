{
 "cells": [
  {
   "cell_type": "code",
   "execution_count": 1,
   "id": "ccfb1014",
   "metadata": {},
   "outputs": [],
   "source": [
    "import pandas as pd\n",
    "import numpy as np\n",
    "from apyori import apriori\n"
   ]
  },
  {
   "cell_type": "code",
   "execution_count": 2,
   "id": "fa43d8e7",
   "metadata": {},
   "outputs": [
    {
     "data": {
      "text/html": [
       "<div>\n",
       "<style scoped>\n",
       "    .dataframe tbody tr th:only-of-type {\n",
       "        vertical-align: middle;\n",
       "    }\n",
       "\n",
       "    .dataframe tbody tr th {\n",
       "        vertical-align: top;\n",
       "    }\n",
       "\n",
       "    .dataframe thead th {\n",
       "        text-align: right;\n",
       "    }\n",
       "</style>\n",
       "<table border=\"1\" class=\"dataframe\">\n",
       "  <thead>\n",
       "    <tr style=\"text-align: right;\">\n",
       "      <th></th>\n",
       "      <th>Wine</th>\n",
       "      <th>Chips</th>\n",
       "      <th>Bread</th>\n",
       "      <th>Butter</th>\n",
       "      <th>Milk</th>\n",
       "      <th>Apple</th>\n",
       "    </tr>\n",
       "  </thead>\n",
       "  <tbody>\n",
       "    <tr>\n",
       "      <th>0</th>\n",
       "      <td>Wine</td>\n",
       "      <td>Chips</td>\n",
       "      <td>Bread</td>\n",
       "      <td>Butter</td>\n",
       "      <td>Milk</td>\n",
       "      <td>NaN</td>\n",
       "    </tr>\n",
       "    <tr>\n",
       "      <th>1</th>\n",
       "      <td>Wine</td>\n",
       "      <td>Chips</td>\n",
       "      <td>Bread</td>\n",
       "      <td>Butter</td>\n",
       "      <td>Milk</td>\n",
       "      <td>NaN</td>\n",
       "    </tr>\n",
       "    <tr>\n",
       "      <th>2</th>\n",
       "      <td>Wine</td>\n",
       "      <td>Chips</td>\n",
       "      <td>NaN</td>\n",
       "      <td>NaN</td>\n",
       "      <td>NaN</td>\n",
       "      <td>Apple</td>\n",
       "    </tr>\n",
       "    <tr>\n",
       "      <th>3</th>\n",
       "      <td>Wine</td>\n",
       "      <td>Chips</td>\n",
       "      <td>Bread</td>\n",
       "      <td>Butter</td>\n",
       "      <td>Milk</td>\n",
       "      <td>Apple</td>\n",
       "    </tr>\n",
       "    <tr>\n",
       "      <th>4</th>\n",
       "      <td>Wine</td>\n",
       "      <td>Chips</td>\n",
       "      <td>NaN</td>\n",
       "      <td>NaN</td>\n",
       "      <td>Milk</td>\n",
       "      <td>NaN</td>\n",
       "    </tr>\n",
       "  </tbody>\n",
       "</table>\n",
       "</div>"
      ],
      "text/plain": [
       "   Wine  Chips  Bread  Butter  Milk  Apple\n",
       "0  Wine  Chips  Bread  Butter  Milk    NaN\n",
       "1  Wine  Chips  Bread  Butter  Milk    NaN\n",
       "2  Wine  Chips    NaN     NaN   NaN  Apple\n",
       "3  Wine  Chips  Bread  Butter  Milk  Apple\n",
       "4  Wine  Chips    NaN     NaN  Milk    NaN"
      ]
     },
     "execution_count": 2,
     "metadata": {},
     "output_type": "execute_result"
    }
   ],
   "source": [
    "df=pd.read_csv('data.txt')\n",
    "df.head()"
   ]
  },
  {
   "cell_type": "code",
   "execution_count": 3,
   "id": "fe8bc826",
   "metadata": {},
   "outputs": [
    {
     "data": {
      "text/plain": [
       "[['Wine', 'Chips', 'Bread', 'Butter', 'Milk', 'nan'],\n",
       " ['Wine', 'Chips', 'Bread', 'Butter', 'Milk', 'nan'],\n",
       " ['Wine', 'Chips', 'nan', 'nan', 'nan', 'Apple'],\n",
       " ['Wine', 'Chips', 'Bread', 'Butter', 'Milk', 'Apple'],\n",
       " ['Wine', 'Chips', 'nan', 'nan', 'Milk', 'nan'],\n",
       " ['Wine', 'Chips', 'Bread', 'Butter', 'nan', 'Apple'],\n",
       " ['Wine', 'Chips', 'nan', 'nan', 'Milk', 'Apple'],\n",
       " ['Wine', 'nan', 'Bread', 'nan', 'nan', 'Apple'],\n",
       " ['Wine', 'nan', 'Bread', 'Butter', 'Milk', 'nan'],\n",
       " ['nan', 'Chips', 'Bread', 'Butter', 'nan', 'Apple'],\n",
       " ['Wine', 'nan', 'nan', 'Butter', 'Milk', 'Apple'],\n",
       " ['Wine', 'Chips', 'Bread', 'Butter', 'Milk', 'nan'],\n",
       " ['Wine', 'nan', 'Bread', 'nan', 'Milk', 'Apple'],\n",
       " ['Wine', 'nan', 'Bread', 'Butter', 'Milk', 'Apple'],\n",
       " ['Wine', 'Chips', 'Bread', 'Butter', 'Milk', 'Apple'],\n",
       " ['nan', 'Chips', 'Bread', 'Butter', 'Milk', 'Apple'],\n",
       " ['nan', 'Chips', 'nan', 'Butter', 'Milk', 'Apple'],\n",
       " ['Wine', 'Chips', 'Bread', 'Butter', 'Milk', 'Apple'],\n",
       " ['Wine', 'nan', 'Bread', 'Butter', 'Milk', 'Apple'],\n",
       " ['Wine', 'Chips', 'Bread', 'nan', 'Milk', 'Apple'],\n",
       " ['nan', 'Chips', 'nan', 'nan', 'nan', 'nan']]"
      ]
     },
     "execution_count": 3,
     "metadata": {},
     "output_type": "execute_result"
    }
   ],
   "source": [
    "records=[]\n",
    "for i in range(len(df)): \n",
    "    records.append([str(df.values[i,j]) for j in range(len(df.columns))])  \n",
    "records"
   ]
  },
  {
   "cell_type": "code",
   "execution_count": 4,
   "id": "0843ed6e",
   "metadata": {},
   "outputs": [
    {
     "data": {
      "text/plain": [
       "{frozenset({'Wine'}): 17,\n",
       " frozenset({'Chips'}): 15,\n",
       " frozenset({'Bread'}): 15,\n",
       " frozenset({'Butter'}): 14,\n",
       " frozenset({'Milk'}): 16,\n",
       " frozenset({'Apple'}): 15}"
      ]
     },
     "execution_count": 4,
     "metadata": {},
     "output_type": "execute_result"
    }
   ],
   "source": [
    "#count\n",
    "def items_count(data, min_support):\n",
    "    items = {}\n",
    "    for record in data:\n",
    "        for item in record:\n",
    "            if item != 'nan':\n",
    "                if item not in items:\n",
    "                    items[item] = 1\n",
    "                else:\n",
    "                    items[item] += 1\n",
    "    frequent_itemset = {}\n",
    "    for item in items:\n",
    "        if items[item] >= min_support:\n",
    "            frequent_itemset[frozenset([item])] = items[item]\n",
    "    return frequent_itemset\n",
    "count_items=items_count (records, min_support=0.5)\n",
    "count_items"
   ]
  },
  {
   "cell_type": "code",
   "execution_count": 5,
   "id": "536396c1",
   "metadata": {},
   "outputs": [],
   "source": [
    "\n",
    "def pairs_count(dataframe):\n",
    "# lưu số lượng từng cặp item\n",
    "    pairs_dict = {}\n",
    "    for i in range(len(dataframe)):    # Lặp qua các hàng trong dataframe\n",
    "        for j in range(len(dataframe.columns)):# Lặp qua các cột trong hàng hiện tại\n",
    "            if isinstance(dataframe.iloc[i, j], str):\n",
    "                for k in range(j+1, len(dataframe.columns)):\n",
    "                    if isinstance(dataframe.iloc[i, k], str): # Nếu là item, tạo cặp item và tăng số lượng cặp đó lên 1\n",
    "                        pair = frozenset([dataframe.iloc[i, j], dataframe.iloc[i, k]])\n",
    "                        pairs_dict[pair] = pairs_dict.get(pair, 0) + 1\n",
    "\n",
    "    return pairs_dict\n"
   ]
  },
  {
   "cell_type": "code",
   "execution_count": 6,
   "id": "bfe4c040",
   "metadata": {},
   "outputs": [
    {
     "data": {
      "text/plain": [
       "{frozenset({'Chips', 'Wine'}): 11,\n",
       " frozenset({'Bread', 'Wine'}): 13,\n",
       " frozenset({'Butter', 'Wine'}): 11,\n",
       " frozenset({'Milk', 'Wine'}): 14,\n",
       " frozenset({'Bread', 'Chips'}): 10,\n",
       " frozenset({'Butter', 'Chips'}): 10,\n",
       " frozenset({'Chips', 'Milk'}): 11,\n",
       " frozenset({'Bread', 'Butter'}): 12,\n",
       " frozenset({'Bread', 'Milk'}): 12,\n",
       " frozenset({'Butter', 'Milk'}): 12,\n",
       " frozenset({'Apple', 'Wine'}): 12,\n",
       " frozenset({'Apple', 'Chips'}): 10,\n",
       " frozenset({'Apple', 'Bread'}): 11,\n",
       " frozenset({'Apple', 'Butter'}): 10,\n",
       " frozenset({'Apple', 'Milk'}): 11}"
      ]
     },
     "execution_count": 6,
     "metadata": {},
     "output_type": "execute_result"
    }
   ],
   "source": [
    "itemset_counts =pairs_count(df)\n",
    "itemset_counts "
   ]
  },
  {
   "cell_type": "code",
   "execution_count": 8,
   "id": "be0d4f60",
   "metadata": {},
   "outputs": [],
   "source": [
    "def frequent_itemsets(itemset_counts, minsup):\n",
    "    max_count = max(itemset_counts.values())\n",
    "    minsup_count = int(max_count * minsup)\n",
    "    #các itemset không phổ biến\n",
    "    frequent_itemsets = [itemset for itemset, count in itemset_counts.items() if count >= minsup_count]\n",
    "    return frequent_itemsets\n"
   ]
  },
  {
   "cell_type": "code",
   "execution_count": 9,
   "id": "79748c45",
   "metadata": {},
   "outputs": [
    {
     "data": {
      "text/plain": [
       "[frozenset({'Chips', 'Wine'}),\n",
       " frozenset({'Bread', 'Wine'}),\n",
       " frozenset({'Butter', 'Wine'}),\n",
       " frozenset({'Milk', 'Wine'}),\n",
       " frozenset({'Bread', 'Chips'}),\n",
       " frozenset({'Butter', 'Chips'}),\n",
       " frozenset({'Chips', 'Milk'}),\n",
       " frozenset({'Bread', 'Butter'}),\n",
       " frozenset({'Bread', 'Milk'}),\n",
       " frozenset({'Butter', 'Milk'}),\n",
       " frozenset({'Apple', 'Wine'}),\n",
       " frozenset({'Apple', 'Chips'}),\n",
       " frozenset({'Apple', 'Bread'}),\n",
       " frozenset({'Apple', 'Butter'}),\n",
       " frozenset({'Apple', 'Milk'})]"
      ]
     },
     "execution_count": 9,
     "metadata": {},
     "output_type": "execute_result"
    }
   ],
   "source": [
    "frequent_itemsets=frequent_itemsets(itemset_counts , minsup=0.5)\n",
    "frequent_itemsets"
   ]
  },
  {
   "cell_type": "code",
   "execution_count": 11,
   "id": "8f041e27",
   "metadata": {},
   "outputs": [],
   "source": [
    "def calculate_confidence(frequent_itemsets, itemset_counts, count_items):\n",
    "    for itemset in frequent_itemsets:\n",
    "        items = itemset\n",
    "        for item in items:\n",
    "            antecedent = frozenset([item])\n",
    "            consequent = items - antecedent\n",
    "            confidence = itemset_counts[itemset] / count_items[antecedent]\n",
    "            print(f\"conf({set(antecedent)},{set(consequent)}) = {confidence:.3f}\")"
   ]
  },
  {
   "cell_type": "code",
   "execution_count": 12,
   "id": "db3ad71e",
   "metadata": {},
   "outputs": [
    {
     "name": "stdout",
     "output_type": "stream",
     "text": [
      "conf({'Wine'},{'Chips'}) = 0.647\n",
      "conf({'Chips'},{'Wine'}) = 0.733\n",
      "conf({'Wine'},{'Bread'}) = 0.765\n",
      "conf({'Bread'},{'Wine'}) = 0.867\n",
      "conf({'Wine'},{'Butter'}) = 0.647\n",
      "conf({'Butter'},{'Wine'}) = 0.786\n",
      "conf({'Wine'},{'Milk'}) = 0.824\n",
      "conf({'Milk'},{'Wine'}) = 0.875\n",
      "conf({'Bread'},{'Chips'}) = 0.667\n",
      "conf({'Chips'},{'Bread'}) = 0.667\n",
      "conf({'Butter'},{'Chips'}) = 0.714\n",
      "conf({'Chips'},{'Butter'}) = 0.667\n",
      "conf({'Chips'},{'Milk'}) = 0.733\n",
      "conf({'Milk'},{'Chips'}) = 0.688\n",
      "conf({'Butter'},{'Bread'}) = 0.857\n",
      "conf({'Bread'},{'Butter'}) = 0.800\n",
      "conf({'Bread'},{'Milk'}) = 0.800\n",
      "conf({'Milk'},{'Bread'}) = 0.750\n",
      "conf({'Butter'},{'Milk'}) = 0.857\n",
      "conf({'Milk'},{'Butter'}) = 0.750\n",
      "conf({'Wine'},{'Apple'}) = 0.706\n",
      "conf({'Apple'},{'Wine'}) = 0.800\n",
      "conf({'Apple'},{'Chips'}) = 0.667\n",
      "conf({'Chips'},{'Apple'}) = 0.667\n",
      "conf({'Apple'},{'Bread'}) = 0.733\n",
      "conf({'Bread'},{'Apple'}) = 0.733\n",
      "conf({'Apple'},{'Butter'}) = 0.667\n",
      "conf({'Butter'},{'Apple'}) = 0.714\n",
      "conf({'Apple'},{'Milk'}) = 0.733\n",
      "conf({'Milk'},{'Apple'}) = 0.688\n"
     ]
    }
   ],
   "source": [
    "calculate_confidence(frequent_itemsets, itemset_counts, count_items)"
   ]
  },
  {
   "cell_type": "code",
   "execution_count": null,
   "id": "803ec82d",
   "metadata": {},
   "outputs": [],
   "source": []
  },
  {
   "cell_type": "code",
   "execution_count": 13,
   "id": "31819fba",
   "metadata": {},
   "outputs": [],
   "source": [
    "import pandas as pd\n",
    "import numpy as np\n",
    "from apyori import apriori\n"
   ]
  },
  {
   "cell_type": "code",
   "execution_count": 16,
   "id": "19850310",
   "metadata": {},
   "outputs": [
    {
     "data": {
      "text/plain": [
       "[['Wine', 'Chips', 'Bread', 'Butter', 'Milk', 'nan'],\n",
       " ['Wine', 'Chips', 'Bread', 'Butter', 'Milk', 'nan'],\n",
       " ['Wine', 'Chips', 'nan', 'nan', 'nan', 'Apple'],\n",
       " ['Wine', 'Chips', 'Bread', 'Butter', 'Milk', 'Apple'],\n",
       " ['Wine', 'Chips', 'nan', 'nan', 'Milk', 'nan'],\n",
       " ['Wine', 'Chips', 'Bread', 'Butter', 'nan', 'Apple'],\n",
       " ['Wine', 'Chips', 'nan', 'nan', 'Milk', 'Apple'],\n",
       " ['Wine', 'nan', 'Bread', 'nan', 'nan', 'Apple'],\n",
       " ['Wine', 'nan', 'Bread', 'Butter', 'Milk', 'nan'],\n",
       " ['nan', 'Chips', 'Bread', 'Butter', 'nan', 'Apple'],\n",
       " ['Wine', 'nan', 'nan', 'Butter', 'Milk', 'Apple'],\n",
       " ['Wine', 'Chips', 'Bread', 'Butter', 'Milk', 'nan'],\n",
       " ['Wine', 'nan', 'Bread', 'nan', 'Milk', 'Apple'],\n",
       " ['Wine', 'nan', 'Bread', 'Butter', 'Milk', 'Apple'],\n",
       " ['Wine', 'Chips', 'Bread', 'Butter', 'Milk', 'Apple'],\n",
       " ['nan', 'Chips', 'Bread', 'Butter', 'Milk', 'Apple'],\n",
       " ['nan', 'Chips', 'nan', 'Butter', 'Milk', 'Apple'],\n",
       " ['Wine', 'Chips', 'Bread', 'Butter', 'Milk', 'Apple'],\n",
       " ['Wine', 'nan', 'Bread', 'Butter', 'Milk', 'Apple'],\n",
       " ['Wine', 'Chips', 'Bread', 'nan', 'Milk', 'Apple'],\n",
       " ['nan', 'Chips', 'nan', 'nan', 'nan', 'nan']]"
      ]
     },
     "execution_count": 16,
     "metadata": {},
     "output_type": "execute_result"
    }
   ],
   "source": [
    "records=[]\n",
    "for i in range(len(df)): \n",
    "    records.append([str(df.values[i,j]) for j in range(len(df.columns))])  \n",
    "records"
   ]
  },
  {
   "cell_type": "code",
   "execution_count": 17,
   "id": "2289b9f1",
   "metadata": {},
   "outputs": [],
   "source": [
    "association_rules = apriori ( records , min_support = 0.50 , min_confidence = 0.7 , min_lift = 1.2 , min_length = 2 )\n",
    "association_results = list ( association_rules )"
   ]
  },
  {
   "cell_type": "code",
   "execution_count": 18,
   "id": "224b62d7",
   "metadata": {},
   "outputs": [],
   "source": [
    "def inspect ( output ) : \n",
    "    lhs        =  [ tuple ( result [ 2 ] [ 0 ] [ 0 ] ) [ 0 ] for result in output ] \n",
    "    rhs        =  [ tuple ( result [ 2 ] [ 0 ] [ 1 ] ) [ 0 ] for result in output ]\n",
    "    support    = [ result [ 1 ] for result in output ] \n",
    "    confidence = [ result [ 2 ] [ 0 ] [ 2 ] for result in output ] \n",
    "    lift       = [ result [ 2 ] [ 0 ] [ 3 ] for result in output ] \n",
    "    return list ( zip ( lhs , rhs , support, confidence , lift ) ) "
   ]
  },
  {
   "cell_type": "code",
   "execution_count": 19,
   "id": "1db4a89f",
   "metadata": {},
   "outputs": [],
   "source": [
    "output_DataFrame = pd.DataFrame(inspect(association_results),\n",
    "                   columns = ['Left_Hand_Side','Right_Hand_Side','Support','Confidence','Lift'])"
   ]
  },
  {
   "cell_type": "code",
   "execution_count": 20,
   "id": "c7b093af",
   "metadata": {},
   "outputs": [
    {
     "data": {
      "text/html": [
       "<div>\n",
       "<style scoped>\n",
       "    .dataframe tbody tr th:only-of-type {\n",
       "        vertical-align: middle;\n",
       "    }\n",
       "\n",
       "    .dataframe tbody tr th {\n",
       "        vertical-align: top;\n",
       "    }\n",
       "\n",
       "    .dataframe thead th {\n",
       "        text-align: right;\n",
       "    }\n",
       "</style>\n",
       "<table border=\"1\" class=\"dataframe\">\n",
       "  <thead>\n",
       "    <tr style=\"text-align: right;\">\n",
       "      <th></th>\n",
       "      <th>Left_Hand_Side</th>\n",
       "      <th>Right_Hand_Side</th>\n",
       "      <th>Support</th>\n",
       "      <th>Confidence</th>\n",
       "      <th>Lift</th>\n",
       "    </tr>\n",
       "  </thead>\n",
       "  <tbody>\n",
       "    <tr>\n",
       "      <th>0</th>\n",
       "      <td>Bread</td>\n",
       "      <td>Butter</td>\n",
       "      <td>0.571429</td>\n",
       "      <td>0.8</td>\n",
       "      <td>1.2</td>\n",
       "    </tr>\n",
       "  </tbody>\n",
       "</table>\n",
       "</div>"
      ],
      "text/plain": [
       "  Left_Hand_Side Right_Hand_Side   Support  Confidence  Lift\n",
       "0          Bread          Butter  0.571429         0.8   1.2"
      ]
     },
     "execution_count": 20,
     "metadata": {},
     "output_type": "execute_result"
    }
   ],
   "source": [
    "output_DataFrame"
   ]
  },
  {
   "cell_type": "code",
   "execution_count": null,
   "id": "e058b522",
   "metadata": {},
   "outputs": [],
   "source": []
  }
 ],
 "metadata": {
  "kernelspec": {
   "display_name": "Python 3 (ipykernel)",
   "language": "python",
   "name": "python3"
  },
  "language_info": {
   "codemirror_mode": {
    "name": "ipython",
    "version": 3
   },
   "file_extension": ".py",
   "mimetype": "text/x-python",
   "name": "python",
   "nbconvert_exporter": "python",
   "pygments_lexer": "ipython3",
   "version": "3.10.9"
  }
 },
 "nbformat": 4,
 "nbformat_minor": 5
}
